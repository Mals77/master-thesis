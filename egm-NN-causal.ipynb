{
 "cells": [
  {
   "cell_type": "code",
   "execution_count": 24,
   "id": "249b033b-b948-4dcf-92af-7637e9104df2",
   "metadata": {},
   "outputs": [],
   "source": [
    "import pandas as pd\n",
    "import numpy as np\n",
    "import yaml\n",
    "import CausalEGM as cegm\n",
    "import evaluationData"
   ]
  },
  {
   "cell_type": "code",
   "execution_count": 2,
   "id": "49392157-8a03-4d00-93a5-57c80408b4c6",
   "metadata": {},
   "outputs": [
    {
     "name": "stdout",
     "output_type": "stream",
     "text": [
      "Index(['case:concept:name', 'NumberOfOffers', 'Action', 'org:resource',\n",
      "       'concept:name', 'EventOrigin', 'lifecycle:transition', 'time:timestamp',\n",
      "       'case:LoanGoal', 'case:ApplicationType', 'case:RequestedAmount',\n",
      "       'FirstWithdrawalAmount', 'NumberOfTerms', 'Accepted', 'MonthlyCost',\n",
      "       'Selected', 'CreditScore', 'OfferedAmount', 'treatedCase',\n",
      "       'caseSuccesful', 'treatmentSuccess', 'offerNumber', 'offerSuccess',\n",
      "       'treatmentOffer', 'timeApplication', 'weekdayApplication'],\n",
      "      dtype='object')\n"
     ]
    },
    {
     "data": {
      "text/html": [
       "<div>\n",
       "<style scoped>\n",
       "    .dataframe tbody tr th:only-of-type {\n",
       "        vertical-align: middle;\n",
       "    }\n",
       "\n",
       "    .dataframe tbody tr th {\n",
       "        vertical-align: top;\n",
       "    }\n",
       "\n",
       "    .dataframe thead th {\n",
       "        text-align: right;\n",
       "    }\n",
       "</style>\n",
       "<table border=\"1\" class=\"dataframe\">\n",
       "  <thead>\n",
       "    <tr style=\"text-align: right;\">\n",
       "      <th></th>\n",
       "      <th>case:concept:name</th>\n",
       "      <th>NumberOfOffers</th>\n",
       "      <th>Action</th>\n",
       "      <th>org:resource</th>\n",
       "      <th>concept:name</th>\n",
       "      <th>EventOrigin</th>\n",
       "      <th>lifecycle:transition</th>\n",
       "      <th>time:timestamp</th>\n",
       "      <th>case:LoanGoal</th>\n",
       "      <th>case:ApplicationType</th>\n",
       "      <th>...</th>\n",
       "      <th>CreditScore</th>\n",
       "      <th>OfferedAmount</th>\n",
       "      <th>treatedCase</th>\n",
       "      <th>caseSuccesful</th>\n",
       "      <th>treatmentSuccess</th>\n",
       "      <th>offerNumber</th>\n",
       "      <th>offerSuccess</th>\n",
       "      <th>treatmentOffer</th>\n",
       "      <th>timeApplication</th>\n",
       "      <th>weekdayApplication</th>\n",
       "    </tr>\n",
       "  </thead>\n",
       "  <tbody>\n",
       "    <tr>\n",
       "      <th>0</th>\n",
       "      <td>0.0</td>\n",
       "      <td>1.0</td>\n",
       "      <td>0.0</td>\n",
       "      <td>0.0</td>\n",
       "      <td>4.0</td>\n",
       "      <td>0.0</td>\n",
       "      <td>1.0</td>\n",
       "      <td>651433.0</td>\n",
       "      <td>10.0</td>\n",
       "      <td>1.0</td>\n",
       "      <td>...</td>\n",
       "      <td>0.0</td>\n",
       "      <td>5000.0</td>\n",
       "      <td>0.0</td>\n",
       "      <td>0.0</td>\n",
       "      <td>0.0</td>\n",
       "      <td>1.0</td>\n",
       "      <td>0.0</td>\n",
       "      <td>0.0</td>\n",
       "      <td>0.000</td>\n",
       "      <td>2.0</td>\n",
       "    </tr>\n",
       "    <tr>\n",
       "      <th>1</th>\n",
       "      <td>0.0</td>\n",
       "      <td>1.0</td>\n",
       "      <td>4.0</td>\n",
       "      <td>0.0</td>\n",
       "      <td>8.0</td>\n",
       "      <td>0.0</td>\n",
       "      <td>1.0</td>\n",
       "      <td>651434.0</td>\n",
       "      <td>10.0</td>\n",
       "      <td>1.0</td>\n",
       "      <td>...</td>\n",
       "      <td>0.0</td>\n",
       "      <td>5000.0</td>\n",
       "      <td>0.0</td>\n",
       "      <td>0.0</td>\n",
       "      <td>0.0</td>\n",
       "      <td>1.0</td>\n",
       "      <td>0.0</td>\n",
       "      <td>0.0</td>\n",
       "      <td>0.061</td>\n",
       "      <td>2.0</td>\n",
       "    </tr>\n",
       "    <tr>\n",
       "      <th>2</th>\n",
       "      <td>0.0</td>\n",
       "      <td>1.0</td>\n",
       "      <td>0.0</td>\n",
       "      <td>0.0</td>\n",
       "      <td>22.0</td>\n",
       "      <td>2.0</td>\n",
       "      <td>3.0</td>\n",
       "      <td>651435.0</td>\n",
       "      <td>10.0</td>\n",
       "      <td>1.0</td>\n",
       "      <td>...</td>\n",
       "      <td>0.0</td>\n",
       "      <td>5000.0</td>\n",
       "      <td>0.0</td>\n",
       "      <td>0.0</td>\n",
       "      <td>0.0</td>\n",
       "      <td>1.0</td>\n",
       "      <td>0.0</td>\n",
       "      <td>0.0</td>\n",
       "      <td>0.290</td>\n",
       "      <td>2.0</td>\n",
       "    </tr>\n",
       "    <tr>\n",
       "      <th>3</th>\n",
       "      <td>0.0</td>\n",
       "      <td>1.0</td>\n",
       "      <td>1.0</td>\n",
       "      <td>0.0</td>\n",
       "      <td>22.0</td>\n",
       "      <td>2.0</td>\n",
       "      <td>6.0</td>\n",
       "      <td>651437.0</td>\n",
       "      <td>10.0</td>\n",
       "      <td>1.0</td>\n",
       "      <td>...</td>\n",
       "      <td>0.0</td>\n",
       "      <td>5000.0</td>\n",
       "      <td>0.0</td>\n",
       "      <td>0.0</td>\n",
       "      <td>0.0</td>\n",
       "      <td>1.0</td>\n",
       "      <td>0.0</td>\n",
       "      <td>0.0</td>\n",
       "      <td>66.613</td>\n",
       "      <td>2.0</td>\n",
       "    </tr>\n",
       "    <tr>\n",
       "      <th>4</th>\n",
       "      <td>0.0</td>\n",
       "      <td>1.0</td>\n",
       "      <td>0.0</td>\n",
       "      <td>0.0</td>\n",
       "      <td>21.0</td>\n",
       "      <td>2.0</td>\n",
       "      <td>3.0</td>\n",
       "      <td>651438.0</td>\n",
       "      <td>10.0</td>\n",
       "      <td>1.0</td>\n",
       "      <td>...</td>\n",
       "      <td>0.0</td>\n",
       "      <td>5000.0</td>\n",
       "      <td>0.0</td>\n",
       "      <td>0.0</td>\n",
       "      <td>0.0</td>\n",
       "      <td>1.0</td>\n",
       "      <td>0.0</td>\n",
       "      <td>0.0</td>\n",
       "      <td>66.620</td>\n",
       "      <td>2.0</td>\n",
       "    </tr>\n",
       "  </tbody>\n",
       "</table>\n",
       "<p>5 rows × 26 columns</p>\n",
       "</div>"
      ],
      "text/plain": [
       "   case:concept:name  NumberOfOffers  Action  org:resource  concept:name  \\\n",
       "0                0.0             1.0     0.0           0.0           4.0   \n",
       "1                0.0             1.0     4.0           0.0           8.0   \n",
       "2                0.0             1.0     0.0           0.0          22.0   \n",
       "3                0.0             1.0     1.0           0.0          22.0   \n",
       "4                0.0             1.0     0.0           0.0          21.0   \n",
       "\n",
       "   EventOrigin  lifecycle:transition  time:timestamp  case:LoanGoal  \\\n",
       "0          0.0                   1.0        651433.0           10.0   \n",
       "1          0.0                   1.0        651434.0           10.0   \n",
       "2          2.0                   3.0        651435.0           10.0   \n",
       "3          2.0                   6.0        651437.0           10.0   \n",
       "4          2.0                   3.0        651438.0           10.0   \n",
       "\n",
       "   case:ApplicationType  ...  CreditScore  OfferedAmount  treatedCase  \\\n",
       "0                   1.0  ...          0.0         5000.0          0.0   \n",
       "1                   1.0  ...          0.0         5000.0          0.0   \n",
       "2                   1.0  ...          0.0         5000.0          0.0   \n",
       "3                   1.0  ...          0.0         5000.0          0.0   \n",
       "4                   1.0  ...          0.0         5000.0          0.0   \n",
       "\n",
       "   caseSuccesful  treatmentSuccess  offerNumber  offerSuccess  treatmentOffer  \\\n",
       "0            0.0               0.0          1.0           0.0             0.0   \n",
       "1            0.0               0.0          1.0           0.0             0.0   \n",
       "2            0.0               0.0          1.0           0.0             0.0   \n",
       "3            0.0               0.0          1.0           0.0             0.0   \n",
       "4            0.0               0.0          1.0           0.0             0.0   \n",
       "\n",
       "   timeApplication  weekdayApplication  \n",
       "0            0.000                 2.0  \n",
       "1            0.061                 2.0  \n",
       "2            0.290                 2.0  \n",
       "3           66.613                 2.0  \n",
       "4           66.620                 2.0  \n",
       "\n",
       "[5 rows x 26 columns]"
      ]
     },
     "execution_count": 2,
     "metadata": {},
     "output_type": "execute_result"
    }
   ],
   "source": [
    "df = pd.read_csv(\"bpi2017_final.csv\")\n",
    "print(df.columns)\n",
    "df.head()"
   ]
  },
  {
   "cell_type": "code",
   "execution_count": 3,
   "id": "72d90e21-ad17-4bf7-a352-beeaadd8b72e",
   "metadata": {},
   "outputs": [],
   "source": [
    "feature_names = ['NumberOfOffers', 'Action', 'org:resource',\n",
    "       'concept:name', 'EventOrigin', 'lifecycle:transition', 'time:timestamp',\n",
    "       'case:LoanGoal', 'case:ApplicationType', 'case:RequestedAmount',\n",
    "       'FirstWithdrawalAmount', 'NumberOfTerms', 'Accepted', 'MonthlyCost',\n",
    "       'CreditScore', 'OfferedAmount', 'offerNumber','timeApplication', 'weekdayApplication']"
   ]
  },
  {
   "cell_type": "code",
   "execution_count": 4,
   "id": "22fe340c-e689-40a4-8b64-657f77ca65c3",
   "metadata": {},
   "outputs": [
    {
     "name": "stdout",
     "output_type": "stream",
     "text": [
      "{'dataset': 'BPI2017', 'output_dir': './egm-nn/', 'v_dim': 19, 'z_dims': [3, 3, 6, 6], 'x_min': 0, 'x_max': 3, 'lr': 0.0002, 'alpha': 1, 'beta': 1, 'gamma': 10, 'g_d_freq': 5, 'g_units': [64, 64, 64, 64, 64], 'e_units': [64, 64, 64, 64, 64], 'f_units': [64, 32, 8], 'h_units': [64, 32, 8], 'dz_units': [64, 32, 8], 'dv_units': [64, 32, 8], 'binary_treatment': True, 'use_z_rec': True, 'use_v_gan': True, 'save_model': False, 'save_res': True}\n"
     ]
    }
   ],
   "source": [
    "params = yaml.safe_load(open('egm-nn/bpi2017.yaml', 'r'))\n",
    "print(params)"
   ]
  },
  {
   "cell_type": "code",
   "execution_count": 5,
   "id": "4cffcb6e-3c9f-47a4-b41c-e3ba774e569f",
   "metadata": {},
   "outputs": [],
   "source": [
    "model = cegm.CausalEGM(params=params,random_seed=123)"
   ]
  },
  {
   "cell_type": "code",
   "execution_count": 6,
   "id": "8715b8ce-72b3-4cd5-a51c-2195df0296fa",
   "metadata": {},
   "outputs": [],
   "source": [
    "#treatment (x), potential outcome (y), and covariates (v)\n",
    "x = df['treatmentOffer']\n",
    "y = df['offerSuccess']\n",
    "v = df[feature_names]"
   ]
  },
  {
   "cell_type": "code",
   "execution_count": 7,
   "id": "dc8742f7-95a1-4a01-a189-311b9f6b94bf",
   "metadata": {},
   "outputs": [
    {
     "name": "stdout",
     "output_type": "stream",
     "text": [
      "The average treatment effect (ATE) is  0.1247714\n"
     ]
    }
   ],
   "source": [
    "model.train(data=[x,y,v],n_iter=100,save_format='npy',verbose=False)"
   ]
  },
  {
   "cell_type": "code",
   "execution_count": 12,
   "id": "4b9868ea-55ed-49fb-a65f-412c19e86145",
   "metadata": {},
   "outputs": [
    {
     "data": {
      "text/plain": [
       "array([[0.17602539],\n",
       "       [0.17529297],\n",
       "       [0.17529297],\n",
       "       ...,\n",
       "       [0.04882812],\n",
       "       [0.05664062],\n",
       "       [0.05273438]], dtype=float32)"
      ]
     },
     "execution_count": 12,
     "metadata": {},
     "output_type": "execute_result"
    }
   ],
   "source": [
    "results = np.load('./egm-nn/results/BPI2017/20240122_162745/causal_pre_final.npy')\n",
    "results"
   ]
  },
  {
   "cell_type": "code",
   "execution_count": 19,
   "id": "9e2d6080-381d-44a5-9a46-26f8941b0537",
   "metadata": {
    "scrolled": true
   },
   "outputs": [],
   "source": [
    "ite = results.reshape(-1).tolist()\n",
    "ate = results.mean()"
   ]
  },
  {
   "cell_type": "code",
   "execution_count": 22,
   "id": "bfff8b9e-9b88-4e98-ae6d-57c72ec1d74b",
   "metadata": {},
   "outputs": [
    {
     "name": "stdout",
     "output_type": "stream",
     "text": [
      "Stored 'df_results' (DataFrame)\n"
     ]
    }
   ],
   "source": [
    "#Store result in df of the results\n",
    "%store -r df_results\n",
    "lib = \"CausalEGM\"\n",
    "method = \"CausalEGM\"\n",
    "\n",
    "if method in df_results['method'].values:\n",
    "    df_results.loc[df_results['method'] == method, 'ATE'] = ate\n",
    "    df_results.loc[df_results['method'] == method, 'ITE'] = ite\n",
    "\n",
    "else:\n",
    "    df_results = df_results._append({'method': method, 'ATE': ate, 'ITE': ite, 'Library': lib}, ignore_index=True)\n",
    "\n",
    "%store df_results"
   ]
  },
  {
   "cell_type": "markdown",
   "id": "494c3475-415a-4cfd-be84-de76d6d1157c",
   "metadata": {},
   "source": [
    "### Evaluation"
   ]
  },
  {
   "cell_type": "code",
   "execution_count": 25,
   "id": "ade11d7f-702c-41d4-8c57-d2f38e5dec0e",
   "metadata": {},
   "outputs": [
    {
     "name": "stderr",
     "output_type": "stream",
     "text": [
      "/pfs/data5/home/ma/ma_ma/ma_mskiera/master-thesis/evaluationData.py:37: SettingWithCopyWarning: \n",
      "A value is trying to be set on a copy of a slice from a DataFrame.\n",
      "Try using .loc[row_indexer,col_indexer] = value instead\n",
      "\n",
      "See the caveats in the documentation: https://pandas.pydata.org/pandas-docs/stable/user_guide/indexing.html#returning-a-view-versus-a-copy\n",
      "  inference_features['random covariate'] = new_data\n"
     ]
    },
    {
     "name": "stdout",
     "output_type": "stream",
     "text": [
      "concept:name\n"
     ]
    }
   ],
   "source": [
    "# import importlib\n",
    "# importlib.reload(evaluationData)\n",
    "\n",
    "placeboData, placebo_X, placebo_y, placebo_t = evaluationData.placeboTreatment(df)\n",
    "\n",
    "causeData, cause_X, cause_y, cause_t = evaluationData.randomCause(df)\n",
    "\n",
    "replaceData, replace_X, replace_y, replace_t, replaced_feature = evaluationData.randomReplace(df)\n",
    "print(replaced_feature)\n",
    "\n",
    "subsetData, subset_X, subset_y, subset_t = evaluationData.randomSubsetData(df)"
   ]
  },
  {
   "cell_type": "code",
   "execution_count": 31,
   "id": "bc0fb3fa-fb80-4f8a-b123-f3c0e137afb9",
   "metadata": {},
   "outputs": [
    {
     "name": "stdout",
     "output_type": "stream",
     "text": [
      "The average treatment effect (ATE) is  0.14709416\n"
     ]
    }
   ],
   "source": [
    "model.train(data=[placebo_t,placebo_y,placebo_X],n_iter=100, save_format='npy',verbose=False)"
   ]
  },
  {
   "cell_type": "code",
   "execution_count": 32,
   "id": "06758daf-c7f7-453e-9f5a-3231d73db9b3",
   "metadata": {},
   "outputs": [
    {
     "name": "stdout",
     "output_type": "stream",
     "text": [
      "The average treatment effect (ATE) is  0.09950337\n"
     ]
    }
   ],
   "source": [
    "#treatment (x), potential outcome (y), and covariates (v)\n",
    "params_cause = yaml.safe_load(open('egm-nn/bpi2017-CommonCause.yaml', 'r'))\n",
    "model_cause = cegm.CausalEGM(params=params_cause,random_seed=123)\n",
    "\n",
    "model_cause.train(data=[cause_t,cause_y,cause_X],n_iter=100, save_format='npy',verbose=False)"
   ]
  },
  {
   "cell_type": "code",
   "execution_count": 33,
   "id": "829dcc75-6faa-4745-8369-cb9f69c4002a",
   "metadata": {},
   "outputs": [
    {
     "name": "stdout",
     "output_type": "stream",
     "text": [
      "The average treatment effect (ATE) is  0.14270824\n"
     ]
    }
   ],
   "source": [
    "model.train(data=[replace_t,replace_y,replace_X],n_iter=100, save_format='npy',verbose=False)"
   ]
  },
  {
   "cell_type": "code",
   "execution_count": 34,
   "id": "d518acf8-cd21-4836-9047-0873d85b8cb1",
   "metadata": {},
   "outputs": [
    {
     "name": "stdout",
     "output_type": "stream",
     "text": [
      "The average treatment effect (ATE) is  0.13757065\n"
     ]
    }
   ],
   "source": [
    "model.train(data=[subset_t,subset_y,subset_X],n_iter=100, save_format='npy',verbose=False)"
   ]
  },
  {
   "cell_type": "code",
   "execution_count": 35,
   "id": "172f4f6e-bcf3-4b27-9349-e5b107c72572",
   "metadata": {},
   "outputs": [],
   "source": [
    "# result_placebo = np.load('./egm-nn/results/BPI2017/')\n",
    "# placebo_ate = result_placebo.mean()\n",
    "placebo_ate = 0.14709416\n",
    "cause_ate = 0.09950337\n",
    "subset_ate = 0.14270824\n",
    "replace_ate = 0.13757065"
   ]
  },
  {
   "cell_type": "code",
   "execution_count": 36,
   "id": "3c3c696c-3d2c-42f8-a44d-0a01adf75ede",
   "metadata": {},
   "outputs": [
    {
     "name": "stdout",
     "output_type": "stream",
     "text": [
      "Stored 'df_evaluation_results' (DataFrame)\n"
     ]
    }
   ],
   "source": [
    "%store -r df_evaluation_results\n",
    "method = \"CausalEGM\"\n",
    "\n",
    "if method in df_evaluation_results['method'].values:\n",
    "     # If the method is already in the DataFrame, update the ATE and ITE columns\n",
    "    df_evaluation_results.loc[df_evaluation_results['method'] == method, 'Random Common Cause ATE'] = cause_ate\n",
    "    df_evaluation_results.loc[df_evaluation_results['method'] == method, 'Placebo treatment ATE'] = placebo_ate\n",
    "    df_evaluation_results.loc[df_evaluation_results['method'] == method, 'Random Subset ATE'] = subset_ate\n",
    "    df_evaluation_results.loc[df_evaluation_results['method'] == method, 'Random Feature Replacement ATE'] = replace_ate\n",
    "    df_evaluation_results.loc[df_evaluation_results['method'] == method, 'Replaced Feature'] = replaced_feature\n",
    "else:\n",
    "    # If the method is not in the DataFrame, add a new row\n",
    "    df_evaluation_results = df_evaluation_results._append({'method': method, 'Random Common Cause ATE': cause_ate, 'Placebo treatment ATE': placebo_ate, 'Random Subset ATE': subset_ate, 'Random Feature Replacement ATE': replace_ate, 'Replaced Feature': replaced_feature}, ignore_index=True)\n",
    "\n",
    "%store df_evaluation_results"
   ]
  }
 ],
 "metadata": {
  "kernelspec": {
   "display_name": "egm",
   "language": "python",
   "name": "egm"
  },
  "language_info": {
   "codemirror_mode": {
    "name": "ipython",
    "version": 3
   },
   "file_extension": ".py",
   "mimetype": "text/x-python",
   "name": "python",
   "nbconvert_exporter": "python",
   "pygments_lexer": "ipython3",
   "version": "3.9.7"
  }
 },
 "nbformat": 4,
 "nbformat_minor": 5
}
