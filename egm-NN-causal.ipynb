{
 "cells": [
  {
   "cell_type": "code",
   "execution_count": 1,
   "id": "249b033b-b948-4dcf-92af-7637e9104df2",
   "metadata": {},
   "outputs": [
    {
     "name": "stderr",
     "output_type": "stream",
     "text": [
      "2024-04-01 13:17:04.540020: I tensorflow/core/util/port.cc:113] oneDNN custom operations are on. You may see slightly different numerical results due to floating-point round-off errors from different computation orders. To turn them off, set the environment variable `TF_ENABLE_ONEDNN_OPTS=0`.\n",
      "2024-04-01 13:17:04.910715: I external/local_tsl/tsl/cuda/cudart_stub.cc:31] Could not find cuda drivers on your machine, GPU will not be used.\n",
      "2024-04-01 13:17:05.552466: E external/local_xla/xla/stream_executor/cuda/cuda_dnn.cc:9261] Unable to register cuDNN factory: Attempting to register factory for plugin cuDNN when one has already been registered\n",
      "2024-04-01 13:17:05.552502: E external/local_xla/xla/stream_executor/cuda/cuda_fft.cc:607] Unable to register cuFFT factory: Attempting to register factory for plugin cuFFT when one has already been registered\n",
      "2024-04-01 13:17:05.554474: E external/local_xla/xla/stream_executor/cuda/cuda_blas.cc:1515] Unable to register cuBLAS factory: Attempting to register factory for plugin cuBLAS when one has already been registered\n",
      "2024-04-01 13:17:05.676627: I external/local_tsl/tsl/cuda/cudart_stub.cc:31] Could not find cuda drivers on your machine, GPU will not be used.\n",
      "2024-04-01 13:17:05.886163: I tensorflow/core/platform/cpu_feature_guard.cc:182] This TensorFlow binary is optimized to use available CPU instructions in performance-critical operations.\n",
      "To enable the following instructions: AVX2 AVX512F AVX512_VNNI FMA, in other operations, rebuild TensorFlow with the appropriate compiler flags.\n",
      "2024-04-01 13:17:24.326890: W tensorflow/compiler/tf2tensorrt/utils/py_utils.cc:38] TF-TRT Warning: Could not find TensorRT\n"
     ]
    }
   ],
   "source": [
    "import pandas as pd\n",
    "import numpy as np\n",
    "import yaml\n",
    "import CausalEGM as cegm\n",
    "import evaluationData"
   ]
  },
  {
   "cell_type": "markdown",
   "id": "0059ba6e-990d-49b0-90ff-dd72e0607de4",
   "metadata": {},
   "source": [
    "## BPIC 2017 Dataset"
   ]
  },
  {
   "cell_type": "code",
   "execution_count": 2,
   "id": "49392157-8a03-4d00-93a5-57c80408b4c6",
   "metadata": {},
   "outputs": [
    {
     "name": "stdout",
     "output_type": "stream",
     "text": [
      "Index(['case:concept:name', 'NumberOfOffers', 'Action', 'org:resource',\n",
      "       'concept:name', 'EventOrigin', 'lifecycle:transition', 'time:timestamp',\n",
      "       'case:LoanGoal', 'case:ApplicationType', 'case:RequestedAmount',\n",
      "       'FirstWithdrawalAmount', 'NumberOfTerms', 'Accepted', 'MonthlyCost',\n",
      "       'Selected', 'CreditScore', 'OfferedAmount', 'treatedCase',\n",
      "       'caseSuccesful', 'treatmentSuccess', 'offerNumber', 'offerSuccess',\n",
      "       'treatmentOffer', 'timeApplication', 'weekdayApplication'],\n",
      "      dtype='object')\n"
     ]
    },
    {
     "data": {
      "text/html": [
       "<div>\n",
       "<style scoped>\n",
       "    .dataframe tbody tr th:only-of-type {\n",
       "        vertical-align: middle;\n",
       "    }\n",
       "\n",
       "    .dataframe tbody tr th {\n",
       "        vertical-align: top;\n",
       "    }\n",
       "\n",
       "    .dataframe thead th {\n",
       "        text-align: right;\n",
       "    }\n",
       "</style>\n",
       "<table border=\"1\" class=\"dataframe\">\n",
       "  <thead>\n",
       "    <tr style=\"text-align: right;\">\n",
       "      <th></th>\n",
       "      <th>case:concept:name</th>\n",
       "      <th>NumberOfOffers</th>\n",
       "      <th>Action</th>\n",
       "      <th>org:resource</th>\n",
       "      <th>concept:name</th>\n",
       "      <th>EventOrigin</th>\n",
       "      <th>lifecycle:transition</th>\n",
       "      <th>time:timestamp</th>\n",
       "      <th>case:LoanGoal</th>\n",
       "      <th>case:ApplicationType</th>\n",
       "      <th>...</th>\n",
       "      <th>CreditScore</th>\n",
       "      <th>OfferedAmount</th>\n",
       "      <th>treatedCase</th>\n",
       "      <th>caseSuccesful</th>\n",
       "      <th>treatmentSuccess</th>\n",
       "      <th>offerNumber</th>\n",
       "      <th>offerSuccess</th>\n",
       "      <th>treatmentOffer</th>\n",
       "      <th>timeApplication</th>\n",
       "      <th>weekdayApplication</th>\n",
       "    </tr>\n",
       "  </thead>\n",
       "  <tbody>\n",
       "    <tr>\n",
       "      <th>0</th>\n",
       "      <td>0.0</td>\n",
       "      <td>1.0</td>\n",
       "      <td>0.0</td>\n",
       "      <td>0.0</td>\n",
       "      <td>4.0</td>\n",
       "      <td>0.0</td>\n",
       "      <td>1.0</td>\n",
       "      <td>651433.0</td>\n",
       "      <td>10.0</td>\n",
       "      <td>1.0</td>\n",
       "      <td>...</td>\n",
       "      <td>0.0</td>\n",
       "      <td>5000.0</td>\n",
       "      <td>0.0</td>\n",
       "      <td>0.0</td>\n",
       "      <td>0.0</td>\n",
       "      <td>1.0</td>\n",
       "      <td>0.0</td>\n",
       "      <td>0.0</td>\n",
       "      <td>0.000</td>\n",
       "      <td>2.0</td>\n",
       "    </tr>\n",
       "    <tr>\n",
       "      <th>1</th>\n",
       "      <td>0.0</td>\n",
       "      <td>1.0</td>\n",
       "      <td>4.0</td>\n",
       "      <td>0.0</td>\n",
       "      <td>8.0</td>\n",
       "      <td>0.0</td>\n",
       "      <td>1.0</td>\n",
       "      <td>651434.0</td>\n",
       "      <td>10.0</td>\n",
       "      <td>1.0</td>\n",
       "      <td>...</td>\n",
       "      <td>0.0</td>\n",
       "      <td>5000.0</td>\n",
       "      <td>0.0</td>\n",
       "      <td>0.0</td>\n",
       "      <td>0.0</td>\n",
       "      <td>1.0</td>\n",
       "      <td>0.0</td>\n",
       "      <td>0.0</td>\n",
       "      <td>0.061</td>\n",
       "      <td>2.0</td>\n",
       "    </tr>\n",
       "    <tr>\n",
       "      <th>2</th>\n",
       "      <td>0.0</td>\n",
       "      <td>1.0</td>\n",
       "      <td>0.0</td>\n",
       "      <td>0.0</td>\n",
       "      <td>22.0</td>\n",
       "      <td>2.0</td>\n",
       "      <td>3.0</td>\n",
       "      <td>651435.0</td>\n",
       "      <td>10.0</td>\n",
       "      <td>1.0</td>\n",
       "      <td>...</td>\n",
       "      <td>0.0</td>\n",
       "      <td>5000.0</td>\n",
       "      <td>0.0</td>\n",
       "      <td>0.0</td>\n",
       "      <td>0.0</td>\n",
       "      <td>1.0</td>\n",
       "      <td>0.0</td>\n",
       "      <td>0.0</td>\n",
       "      <td>0.290</td>\n",
       "      <td>2.0</td>\n",
       "    </tr>\n",
       "    <tr>\n",
       "      <th>3</th>\n",
       "      <td>0.0</td>\n",
       "      <td>1.0</td>\n",
       "      <td>1.0</td>\n",
       "      <td>0.0</td>\n",
       "      <td>22.0</td>\n",
       "      <td>2.0</td>\n",
       "      <td>6.0</td>\n",
       "      <td>651437.0</td>\n",
       "      <td>10.0</td>\n",
       "      <td>1.0</td>\n",
       "      <td>...</td>\n",
       "      <td>0.0</td>\n",
       "      <td>5000.0</td>\n",
       "      <td>0.0</td>\n",
       "      <td>0.0</td>\n",
       "      <td>0.0</td>\n",
       "      <td>1.0</td>\n",
       "      <td>0.0</td>\n",
       "      <td>0.0</td>\n",
       "      <td>66.613</td>\n",
       "      <td>2.0</td>\n",
       "    </tr>\n",
       "    <tr>\n",
       "      <th>4</th>\n",
       "      <td>0.0</td>\n",
       "      <td>1.0</td>\n",
       "      <td>0.0</td>\n",
       "      <td>0.0</td>\n",
       "      <td>21.0</td>\n",
       "      <td>2.0</td>\n",
       "      <td>3.0</td>\n",
       "      <td>651438.0</td>\n",
       "      <td>10.0</td>\n",
       "      <td>1.0</td>\n",
       "      <td>...</td>\n",
       "      <td>0.0</td>\n",
       "      <td>5000.0</td>\n",
       "      <td>0.0</td>\n",
       "      <td>0.0</td>\n",
       "      <td>0.0</td>\n",
       "      <td>1.0</td>\n",
       "      <td>0.0</td>\n",
       "      <td>0.0</td>\n",
       "      <td>66.620</td>\n",
       "      <td>2.0</td>\n",
       "    </tr>\n",
       "  </tbody>\n",
       "</table>\n",
       "<p>5 rows × 26 columns</p>\n",
       "</div>"
      ],
      "text/plain": [
       "   case:concept:name  NumberOfOffers  Action  org:resource  concept:name  \\\n",
       "0                0.0             1.0     0.0           0.0           4.0   \n",
       "1                0.0             1.0     4.0           0.0           8.0   \n",
       "2                0.0             1.0     0.0           0.0          22.0   \n",
       "3                0.0             1.0     1.0           0.0          22.0   \n",
       "4                0.0             1.0     0.0           0.0          21.0   \n",
       "\n",
       "   EventOrigin  lifecycle:transition  time:timestamp  case:LoanGoal  \\\n",
       "0          0.0                   1.0        651433.0           10.0   \n",
       "1          0.0                   1.0        651434.0           10.0   \n",
       "2          2.0                   3.0        651435.0           10.0   \n",
       "3          2.0                   6.0        651437.0           10.0   \n",
       "4          2.0                   3.0        651438.0           10.0   \n",
       "\n",
       "   case:ApplicationType  ...  CreditScore  OfferedAmount  treatedCase  \\\n",
       "0                   1.0  ...          0.0         5000.0          0.0   \n",
       "1                   1.0  ...          0.0         5000.0          0.0   \n",
       "2                   1.0  ...          0.0         5000.0          0.0   \n",
       "3                   1.0  ...          0.0         5000.0          0.0   \n",
       "4                   1.0  ...          0.0         5000.0          0.0   \n",
       "\n",
       "   caseSuccesful  treatmentSuccess  offerNumber  offerSuccess  treatmentOffer  \\\n",
       "0            0.0               0.0          1.0           0.0             0.0   \n",
       "1            0.0               0.0          1.0           0.0             0.0   \n",
       "2            0.0               0.0          1.0           0.0             0.0   \n",
       "3            0.0               0.0          1.0           0.0             0.0   \n",
       "4            0.0               0.0          1.0           0.0             0.0   \n",
       "\n",
       "   timeApplication  weekdayApplication  \n",
       "0            0.000                 2.0  \n",
       "1            0.061                 2.0  \n",
       "2            0.290                 2.0  \n",
       "3           66.613                 2.0  \n",
       "4           66.620                 2.0  \n",
       "\n",
       "[5 rows x 26 columns]"
      ]
     },
     "execution_count": 2,
     "metadata": {},
     "output_type": "execute_result"
    }
   ],
   "source": [
    "df = pd.read_csv(\"bpi2017_final.csv\")\n",
    "print(df.columns)\n",
    "df.head()"
   ]
  },
  {
   "cell_type": "code",
   "execution_count": 3,
   "id": "72d90e21-ad17-4bf7-a352-beeaadd8b72e",
   "metadata": {},
   "outputs": [],
   "source": [
    "feature_names = ['NumberOfOffers', 'Action', 'org:resource',\n",
    "       'concept:name', 'EventOrigin', 'lifecycle:transition', 'time:timestamp',\n",
    "       'case:LoanGoal', 'case:ApplicationType', 'case:RequestedAmount',\n",
    "       'FirstWithdrawalAmount', 'NumberOfTerms', 'Accepted', 'MonthlyCost',\n",
    "       'CreditScore', 'OfferedAmount', 'offerNumber','timeApplication', 'weekdayApplication']"
   ]
  },
  {
   "cell_type": "code",
   "execution_count": 4,
   "id": "22fe340c-e689-40a4-8b64-657f77ca65c3",
   "metadata": {},
   "outputs": [
    {
     "name": "stdout",
     "output_type": "stream",
     "text": [
      "{'dataset': 'BPI2017', 'output_dir': './egm-nn/', 'v_dim': 19, 'z_dims': [3, 3, 6, 6], 'x_min': 0, 'x_max': 3, 'lr': 0.0002, 'alpha': 1, 'beta': 1, 'gamma': 10, 'g_d_freq': 5, 'g_units': [64, 64, 64, 64, 64], 'e_units': [64, 64, 64, 64, 64], 'f_units': [64, 32, 8], 'h_units': [64, 32, 8], 'dz_units': [64, 32, 8], 'dv_units': [64, 32, 8], 'binary_treatment': True, 'use_z_rec': True, 'use_v_gan': True, 'save_model': False, 'save_res': True}\n"
     ]
    }
   ],
   "source": [
    "params = yaml.safe_load(open('egm-nn/bpi2017.yaml', 'r'))\n",
    "print(params)"
   ]
  },
  {
   "cell_type": "code",
   "execution_count": 5,
   "id": "4cffcb6e-3c9f-47a4-b41c-e3ba774e569f",
   "metadata": {},
   "outputs": [],
   "source": [
    "model = cegm.CausalEGM(params=params,random_seed=123)"
   ]
  },
  {
   "cell_type": "code",
   "execution_count": 6,
   "id": "8715b8ce-72b3-4cd5-a51c-2195df0296fa",
   "metadata": {},
   "outputs": [],
   "source": [
    "#treatment (x), potential outcome (y), and covariates (v)\n",
    "x = df['treatmentOffer']\n",
    "y = df['offerSuccess']\n",
    "v = df[feature_names]"
   ]
  },
  {
   "cell_type": "code",
   "execution_count": 9,
   "id": "dc8742f7-95a1-4a01-a189-311b9f6b94bf",
   "metadata": {},
   "outputs": [
    {
     "name": "stdout",
     "output_type": "stream",
     "text": [
      "The average treatment effect (ATE) is  0.16055138\n"
     ]
    }
   ],
   "source": [
    "model.train(data=[x,y,v],n_iter=100,save_format='npy',verbose=False)"
   ]
  },
  {
   "cell_type": "code",
   "execution_count": 10,
   "id": "4b9868ea-55ed-49fb-a65f-412c19e86145",
   "metadata": {},
   "outputs": [
    {
     "data": {
      "text/plain": [
       "array([[0.07128906],\n",
       "       [0.06054688],\n",
       "       [0.02050781],\n",
       "       ...,\n",
       "       [0.22265625],\n",
       "       [0.2734375 ],\n",
       "       [0.2265625 ]], dtype=float32)"
      ]
     },
     "execution_count": 10,
     "metadata": {},
     "output_type": "execute_result"
    }
   ],
   "source": [
    "#results = np.load('./egm-nn/results/BPI2017/20240122_162745/causal_pre_final.npy')\n",
    "results = np.load('./egm-nn/results/BPI2017/20240401_131752/causal_pre_final.npy')\n",
    "results"
   ]
  },
  {
   "cell_type": "code",
   "execution_count": 12,
   "id": "9e2d6080-381d-44a5-9a46-26f8941b0537",
   "metadata": {
    "scrolled": true
   },
   "outputs": [],
   "source": [
    "ite = results.reshape(-1)\n",
    "ate = ite.mean()"
   ]
  },
  {
   "cell_type": "code",
   "execution_count": 13,
   "id": "c97dc7b2-b550-476c-bcf5-f9dee7a70ad5",
   "metadata": {},
   "outputs": [
    {
     "name": "stdout",
     "output_type": "stream",
     "text": [
      "[-0.5625, 0.07421875, 0.16796875, 0.236328125, 0.875, 0.162109375, 0.4794921875, -0.1689453125]\n"
     ]
    }
   ],
   "source": [
    "# Calculate statistics\n",
    "data = np.reshape(results, -1)\n",
    "minimum = np.min(data)\n",
    "first_quartile = np.percentile(data, 25)\n",
    "median = np.median(data)\n",
    "third_quartile = np.percentile(data, 75)\n",
    "maximum = np.max(data)\n",
    "\n",
    "# Interquartile range (IQR)\n",
    "iqr = third_quartile - first_quartile\n",
    "\n",
    "# Define upper and lower bounds for outliers\n",
    "upper_bound = third_quartile + 1.5 * iqr\n",
    "lower_bound = first_quartile - 1.5 * iqr\n",
    "\n",
    "# Detect outliers\n",
    "outliers = data[(data < lower_bound) | (data > upper_bound)]\n",
    "\n",
    "ite_egm = [minimum, first_quartile, median, third_quartile, maximum, iqr, upper_bound, lower_bound]\n",
    "print(ite_egm)"
   ]
  },
  {
   "cell_type": "code",
   "execution_count": 31,
   "id": "bfff8b9e-9b88-4e98-ae6d-57c72ec1d74b",
   "metadata": {},
   "outputs": [
    {
     "name": "stdout",
     "output_type": "stream",
     "text": [
      "Stored 'df_results' (DataFrame)\n"
     ]
    }
   ],
   "source": [
    "#Store result in df of the results\n",
    "%store -r df_results\n",
    "lib = \"CausalEGM\"\n",
    "method = \"CausalEGM\"\n",
    "\n",
    "if method in df_results['method'].values:\n",
    "    df_results.loc[df_results['method'] == method, 'ATE'] = ate\n",
    "    index = df_results[df_results['method'] == method].index[0]\n",
    "    df_results.at[index, 'ITE'] = ite_egm\n",
    "\n",
    "else:\n",
    "    df_results = df_results._append({'method': method, 'ATE': ate, 'ITE': ite_egm, 'Library': lib}, ignore_index=True)\n",
    "\n",
    "%store df_results"
   ]
  },
  {
   "cell_type": "markdown",
   "id": "6a8cafb3-c35c-443c-b960-a55fe9805d25",
   "metadata": {
    "jp-MarkdownHeadingCollapsed": true
   },
   "source": [
    "## Synthetic Dataset"
   ]
  },
  {
   "cell_type": "code",
   "execution_count": 2,
   "id": "eff26a97-e03e-45e1-9dfd-000369655ba7",
   "metadata": {},
   "outputs": [
    {
     "data": {
      "text/html": [
       "<div>\n",
       "<style scoped>\n",
       "    .dataframe tbody tr th:only-of-type {\n",
       "        vertical-align: middle;\n",
       "    }\n",
       "\n",
       "    .dataframe tbody tr th {\n",
       "        vertical-align: top;\n",
       "    }\n",
       "\n",
       "    .dataframe thead th {\n",
       "        text-align: right;\n",
       "    }\n",
       "</style>\n",
       "<table border=\"1\" class=\"dataframe\">\n",
       "  <thead>\n",
       "    <tr style=\"text-align: right;\">\n",
       "      <th></th>\n",
       "      <th>case:concept:name</th>\n",
       "      <th>NumberOfOffers</th>\n",
       "      <th>concept:name</th>\n",
       "      <th>lifecycle:transition</th>\n",
       "      <th>time:timestamp</th>\n",
       "      <th>elementId</th>\n",
       "      <th>resourceId</th>\n",
       "      <th>treatment</th>\n",
       "      <th>successful</th>\n",
       "      <th>treatmentSuccess</th>\n",
       "      <th>weekdayApplication</th>\n",
       "      <th>timeApplication</th>\n",
       "    </tr>\n",
       "  </thead>\n",
       "  <tbody>\n",
       "    <tr>\n",
       "      <th>0</th>\n",
       "      <td>0.0</td>\n",
       "      <td>2.0</td>\n",
       "      <td>29.0</td>\n",
       "      <td>0.0</td>\n",
       "      <td>152.0</td>\n",
       "      <td>28.0</td>\n",
       "      <td>1.0</td>\n",
       "      <td>1.0</td>\n",
       "      <td>1.0</td>\n",
       "      <td>2.0</td>\n",
       "      <td>1.0</td>\n",
       "      <td>0.0</td>\n",
       "    </tr>\n",
       "    <tr>\n",
       "      <th>1</th>\n",
       "      <td>0.0</td>\n",
       "      <td>2.0</td>\n",
       "      <td>29.0</td>\n",
       "      <td>2.0</td>\n",
       "      <td>152.0</td>\n",
       "      <td>28.0</td>\n",
       "      <td>1.0</td>\n",
       "      <td>1.0</td>\n",
       "      <td>1.0</td>\n",
       "      <td>2.0</td>\n",
       "      <td>1.0</td>\n",
       "      <td>0.0</td>\n",
       "    </tr>\n",
       "    <tr>\n",
       "      <th>2</th>\n",
       "      <td>0.0</td>\n",
       "      <td>2.0</td>\n",
       "      <td>29.0</td>\n",
       "      <td>1.0</td>\n",
       "      <td>152.0</td>\n",
       "      <td>28.0</td>\n",
       "      <td>1.0</td>\n",
       "      <td>1.0</td>\n",
       "      <td>1.0</td>\n",
       "      <td>2.0</td>\n",
       "      <td>1.0</td>\n",
       "      <td>0.0</td>\n",
       "    </tr>\n",
       "    <tr>\n",
       "      <th>3</th>\n",
       "      <td>0.0</td>\n",
       "      <td>2.0</td>\n",
       "      <td>5.0</td>\n",
       "      <td>0.0</td>\n",
       "      <td>152.0</td>\n",
       "      <td>7.0</td>\n",
       "      <td>1.0</td>\n",
       "      <td>1.0</td>\n",
       "      <td>1.0</td>\n",
       "      <td>2.0</td>\n",
       "      <td>1.0</td>\n",
       "      <td>0.0</td>\n",
       "    </tr>\n",
       "    <tr>\n",
       "      <th>4</th>\n",
       "      <td>0.0</td>\n",
       "      <td>2.0</td>\n",
       "      <td>5.0</td>\n",
       "      <td>2.0</td>\n",
       "      <td>152.0</td>\n",
       "      <td>7.0</td>\n",
       "      <td>0.0</td>\n",
       "      <td>1.0</td>\n",
       "      <td>1.0</td>\n",
       "      <td>2.0</td>\n",
       "      <td>1.0</td>\n",
       "      <td>0.0</td>\n",
       "    </tr>\n",
       "  </tbody>\n",
       "</table>\n",
       "</div>"
      ],
      "text/plain": [
       "   case:concept:name  NumberOfOffers  concept:name  lifecycle:transition  \\\n",
       "0                0.0             2.0          29.0                   0.0   \n",
       "1                0.0             2.0          29.0                   2.0   \n",
       "2                0.0             2.0          29.0                   1.0   \n",
       "3                0.0             2.0           5.0                   0.0   \n",
       "4                0.0             2.0           5.0                   2.0   \n",
       "\n",
       "   time:timestamp  elementId  resourceId  treatment  successful  \\\n",
       "0           152.0       28.0         1.0        1.0         1.0   \n",
       "1           152.0       28.0         1.0        1.0         1.0   \n",
       "2           152.0       28.0         1.0        1.0         1.0   \n",
       "3           152.0        7.0         1.0        1.0         1.0   \n",
       "4           152.0        7.0         0.0        1.0         1.0   \n",
       "\n",
       "   treatmentSuccess  weekdayApplication  timeApplication  \n",
       "0               2.0                 1.0              0.0  \n",
       "1               2.0                 1.0              0.0  \n",
       "2               2.0                 1.0              0.0  \n",
       "3               2.0                 1.0              0.0  \n",
       "4               2.0                 1.0              0.0  "
      ]
     },
     "execution_count": 2,
     "metadata": {},
     "output_type": "execute_result"
    }
   ],
   "source": [
    "df_synth = pd.read_csv(\"synthetic_dataset.csv\")\n",
    "synthetic_features = ['NumberOfOffers', 'concept:name',\n",
    "       'lifecycle:transition', 'time:timestamp', 'elementId', 'resourceId',\n",
    "       'weekdayApplication', 'timeApplication']\n",
    "df_synth.head()"
   ]
  },
  {
   "cell_type": "code",
   "execution_count": 11,
   "id": "e08c38cb-51a0-4656-9362-93a3b3eb48c5",
   "metadata": {},
   "outputs": [
    {
     "name": "stdout",
     "output_type": "stream",
     "text": [
      "{'dataset': 'SynthData', 'output_dir': './egm-nn/', 'v_dim': 8, 'z_dims': [3, 3, 6, 6], 'x_min': 0, 'x_max': 3, 'lr': 0.0002, 'alpha': 1, 'beta': 1, 'gamma': 10, 'g_d_freq': 5, 'g_units': [64, 64, 64, 64, 64], 'e_units': [64, 64, 64, 64, 64], 'f_units': [64, 32, 8], 'h_units': [64, 32, 8], 'dz_units': [64, 32, 8], 'dv_units': [64, 32, 8], 'binary_treatment': True, 'use_z_rec': True, 'use_v_gan': True, 'save_model': False, 'save_res': True}\n"
     ]
    }
   ],
   "source": [
    "params_synth = yaml.safe_load(open('egm-nn/synthetic-Dataset.yaml', 'r'))\n",
    "print(params_synth)"
   ]
  },
  {
   "cell_type": "code",
   "execution_count": 8,
   "id": "509e8123-c360-4e43-8d39-56a589bcb1dd",
   "metadata": {},
   "outputs": [],
   "source": [
    "#treatment (x), potential outcome (y), and covariates (v)\n",
    "x = df_synth['treatment']\n",
    "y = df_synth['treatmentSuccess']\n",
    "v = df_synth[synthetic_features]"
   ]
  },
  {
   "cell_type": "code",
   "execution_count": 12,
   "id": "b18403c7-c20c-469a-8b43-b99d5a175f58",
   "metadata": {},
   "outputs": [],
   "source": [
    "synth_model = cegm.CausalEGM(params=params_synth,random_seed=123)"
   ]
  },
  {
   "cell_type": "code",
   "execution_count": 13,
   "id": "ccac915f-6d7c-40b1-9962-3f501c9ec418",
   "metadata": {},
   "outputs": [
    {
     "name": "stdout",
     "output_type": "stream",
     "text": [
      "The average treatment effect (ATE) is  0.07459373\n"
     ]
    }
   ],
   "source": [
    "synth_model.train(data=[x,y,v],n_iter=100,save_format='npy',verbose=False)"
   ]
  },
  {
   "cell_type": "code",
   "execution_count": 3,
   "id": "a2febe28-fa95-4e27-8459-42cc2f7aa7e1",
   "metadata": {},
   "outputs": [
    {
     "data": {
      "text/plain": [
       "array([[0.12651193],\n",
       "       [0.11582285],\n",
       "       [0.1216473 ],\n",
       "       ...,\n",
       "       [0.08596039],\n",
       "       [0.0859375 ],\n",
       "       [0.08587646]], dtype=float32)"
      ]
     },
     "execution_count": 3,
     "metadata": {},
     "output_type": "execute_result"
    }
   ],
   "source": [
    "synth_results = np.load('./egm-nn/results/SynthData/20240227_122224/causal_pre_final.npy')\n",
    "synth_results"
   ]
  },
  {
   "cell_type": "code",
   "execution_count": 5,
   "id": "23868625-f60d-4fb1-b4ad-a928631fc420",
   "metadata": {},
   "outputs": [
    {
     "name": "stdout",
     "output_type": "stream",
     "text": [
      "[0.12651193 0.11582285 0.1216473  ... 0.08596039 0.0859375  0.08587646] 0.07459373\n"
     ]
    }
   ],
   "source": [
    "synth_ite = synth_results.reshape(-1)\n",
    "synth_ate = synth_results.mean()\n",
    "print(synth_ite, synth_ate)"
   ]
  },
  {
   "cell_type": "code",
   "execution_count": 6,
   "id": "ec00fd0d-8d3f-4442-8ea7-309843544c5c",
   "metadata": {},
   "outputs": [
    {
     "name": "stdout",
     "output_type": "stream",
     "text": [
      "[-0.12484968, 0.059909820556640625, 0.07635641, 0.09584903717041016, 0.3586205, 0.03593921661376953, 0.14975786209106445, 0.006000995635986328] [3.708275, 1.9254065, 1.9256883, 1.9254065, 0.96284413]\n"
     ]
    }
   ],
   "source": [
    "import evaluation_metrics\n",
    "true_ate = 2\n",
    "boxplot = evaluation_metrics.boxplot_ite(synth_results)\n",
    "metrics = evaluation_metrics.evaluation_metrics(true_ate, synth_results)\n",
    "print(boxplot, metrics)"
   ]
  },
  {
   "cell_type": "code",
   "execution_count": 7,
   "id": "ce430093-7c88-4dc3-b53c-2cca99eb3a40",
   "metadata": {},
   "outputs": [
    {
     "name": "stdout",
     "output_type": "stream",
     "text": [
      "                                           method  \\\n",
      "0                                    S-Learner LR   \n",
      "1                                   XGBTRegressor   \n",
      "2                              BaseTRegressor XGB   \n",
      "3                               BaseTRegressor LR   \n",
      "4                              BaseXRegressor XGB   \n",
      "5                               BaseXRegressor LR   \n",
      "6   BaseXRegressor XGB (without propensity score)   \n",
      "7    BaseXRegressor LR (without propensity score)   \n",
      "8                              BaseRRegressor XGB   \n",
      "9                               BaseRRegressor LR   \n",
      "10        BaseRRegressor XGB (with random weight)   \n",
      "11  BaseRRegressor XGB (without propensity score)   \n",
      "12                           Neural Network (MLP)   \n",
      "13                                         BCAUSS   \n",
      "14                                          CEVAE   \n",
      "15             Accelerated Bayesian Causal Forest   \n",
      "16                                      CausalEGM   \n",
      "\n",
      "                                                  ITE       ATE  \\\n",
      "0   [1.999999999999998, 1.9999999999999987, 1.9999...  2.000000   \n",
      "1            [2.0, 2.0, 2.0, 2.0, 2.0, 0.0, 2.0, 2.0]  2.000000   \n",
      "2            [2.0, 2.0, 2.0, 2.0, 2.0, 0.0, 2.0, 2.0]  2.000000   \n",
      "3            [2.0, 2.0, 2.0, 2.0, 2.0, 0.0, 2.0, 2.0]  2.000000   \n",
      "4            [2.0, 2.0, 2.0, 2.0, 2.0, 0.0, 2.0, 2.0]  2.000000   \n",
      "5            [2.0, 2.0, 2.0, 2.0, 2.0, 0.0, 2.0, 2.0]  2.000000   \n",
      "6            [2.0, 2.0, 2.0, 2.0, 2.0, 0.0, 2.0, 2.0]  2.000000   \n",
      "7            [2.0, 2.0, 2.0, 2.0, 2.0, 0.0, 2.0, 2.0]  2.000000   \n",
      "8   [3.6223648294253508e-06, 3.6223648294253508e-0...  0.000004   \n",
      "9   [-2.9272906491754958, 0.7035801392352368, 1.20...  0.963643   \n",
      "10  [3.6222759263182525e-06, 3.6222759263182525e-0...  0.000004   \n",
      "11  [3.6812089092563838e-06, 3.6812089092563838e-0...  0.000004   \n",
      "12                                                     2.000000   \n",
      "13  [0.0, 4.016592899560254e-23, 5.3845826e-16, 2....  0.003403   \n",
      "14  [1.8834785, 1.950274258852005, 1.9614615, 1.99...  1.968778   \n",
      "15  [-0.04994711611560761, 1.999994124582845, 2.00...  1.742278   \n",
      "16  [-0.12484968, 0.059909820556640625, 0.07635641...  0.074594   \n",
      "\n",
      "                                              metrics  \n",
      "0   [1.698796199394374e-30, 1.2862177740158606e-15...  \n",
      "1                           [0.0, 0.0, 0.0, 0.0, 0.0]  \n",
      "2                           [0.0, 0.0, 0.0, 0.0, 0.0]  \n",
      "3                           [0.0, 0.0, 0.0, 0.0, 0.0]  \n",
      "4                           [0.0, 0.0, 0.0, 0.0, 0.0]  \n",
      "5                           [0.0, 0.0, 0.0, 0.0, 0.0]  \n",
      "6                           [0.0, 0.0, 0.0, 0.0, 0.0]  \n",
      "7                           [0.0, 0.0, 0.0, 0.0, 0.0]  \n",
      "8   [3.9999855105538034, 1.9999963776351706, 1.999...  \n",
      "9   [1.415439487411538, 1.036357273412645, 1.18972...  \n",
      "10  [3.9999855109094153, 1.9999963777240737, 1.999...  \n",
      "11  [3.9999852751779157, 1.9999963187910907, 1.999...  \n",
      "12                                                     \n",
      "13  [3.9870214, 1.9965966, 1.9967527, 1.9965966, 0...  \n",
      "14  [0.0014018206, 0.031313766, 0.037440896, 0.031...  \n",
      "15  [0.5152341866786688, 0.2577259784442367, 0.717...  \n",
      "16  [3.708275, 1.9254065, 1.9256883, 1.9254065, 0....  \n",
      "Stored 'df_synthetic_results_metric' (DataFrame)\n"
     ]
    }
   ],
   "source": [
    "%store -r df_synthetic_results_metric\n",
    "\n",
    "method = \"CausalEGM\"\n",
    "ate = synth_ate\n",
    "ite = boxplot\n",
    "metric = metrics\n",
    "\n",
    "df_synthetic_results_metric = df_synthetic_results_metric._append({'method': method, 'ATE': ate, 'ITE': ite, 'metrics': metric}, ignore_index=True)\n",
    "\n",
    "print(df_synthetic_results_metric)\n",
    "%store df_synthetic_results_metric"
   ]
  },
  {
   "cell_type": "markdown",
   "id": "494c3475-415a-4cfd-be84-de76d6d1157c",
   "metadata": {},
   "source": [
    "## Evaluation Dataset"
   ]
  },
  {
   "cell_type": "code",
   "execution_count": 4,
   "id": "28f57b30-eaec-4375-a0e8-863bda50a56d",
   "metadata": {},
   "outputs": [
    {
     "name": "stdout",
     "output_type": "stream",
     "text": [
      "addRandomCauseDataset2.csv\n",
      "The average treatment effect (ATE) is  0.12480156\n",
      "addRandomCauseDataset1.csv\n",
      "The average treatment effect (ATE) is  0.17548344\n"
     ]
    }
   ],
   "source": [
    "import os\n",
    "# Define folder path\n",
    "folder_path = \"./evaluationDatasets/Cause/\"\n",
    "\n",
    "params = yaml.safe_load(open('egm-nn/bpi2017.yaml', 'r'))\n",
    "model = cegm.CausalEGM(params=params,random_seed=123)\n",
    "\n",
    "# List to store treatment effects\n",
    "ate_values = []\n",
    "\n",
    "feature_names = ['NumberOfOffers', 'Action', 'org:resource',\n",
    "       'concept:name', 'EventOrigin', 'lifecycle:transition', 'time:timestamp',\n",
    "       'case:LoanGoal', 'case:ApplicationType', 'case:RequestedAmount',\n",
    "       'FirstWithdrawalAmount', 'NumberOfTerms', 'Accepted', 'MonthlyCost',\n",
    "       'CreditScore', 'OfferedAmount', 'offerNumber','timeApplication', 'weekdayApplication']\n",
    "\n",
    "columns_to_drop = ['offerSuccess', 'treatmentOffer']\n",
    "\n",
    "# Iterate through files in the folder\n",
    "for file_name in os.listdir(folder_path):\n",
    "    print(file_name)\n",
    "    # Read CSV file\n",
    "    file_path = os.path.join(folder_path, file_name)\n",
    "    refutation = pd.read_csv(file_path)\n",
    "\n",
    "    X = refutation[feature_names]\n",
    "    # X = refutation.drop(columns=columns_to_drop)    \n",
    "    y = refutation['offerSuccess']\n",
    "    t = refutation['treatmentOffer']\n",
    "    \n",
    "    # params_cause = yaml.safe_load(open('egm-nn/bpi2017-CommonCause.yaml', 'r'))\n",
    "    # model = cegm.CausalEGM(params=params_cause,random_seed=123)\n",
    "\n",
    "    model.train(data=[t,y,X],n_iter=100, save_format='npy',verbose=False)"
   ]
  }
 ],
 "metadata": {
  "kernelspec": {
   "display_name": "egm",
   "language": "python",
   "name": "egm"
  },
  "language_info": {
   "codemirror_mode": {
    "name": "ipython",
    "version": 3
   },
   "file_extension": ".py",
   "mimetype": "text/x-python",
   "name": "python",
   "nbconvert_exporter": "python",
   "pygments_lexer": "ipython3",
   "version": "3.9.7"
  }
 },
 "nbformat": 4,
 "nbformat_minor": 5
}
