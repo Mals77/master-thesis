{
 "cells": [
  {
   "cell_type": "code",
   "execution_count": 1,
   "id": "249b033b-b948-4dcf-92af-7637e9104df2",
   "metadata": {},
   "outputs": [],
   "source": [
    "import pandas as pd\n",
    "import numpy as np\n",
    "from sklearn.preprocessing import LabelEncoder"
   ]
  },
  {
   "cell_type": "code",
   "execution_count": 2,
   "id": "49392157-8a03-4d00-93a5-57c80408b4c6",
   "metadata": {},
   "outputs": [],
   "source": [
    "df = pd.read_csv(\"bpi2017_filledLog.csv\")\n",
    "df['treatment'] = df['treatment'].replace({'treated': 1, 'notTreated': 0}).astype('int64')\n",
    "df['treatmentSuccess'] = df['treatmentSuccess'].replace({'Yes': 2, 'No': 1, '0': 0}).astype('int64')"
   ]
  },
  {
   "cell_type": "code",
   "execution_count": 3,
   "id": "f71b2e04-73a3-4556-91b2-c2fb86929d97",
   "metadata": {},
   "outputs": [],
   "source": [
    "smaller_df = df.drop(columns=['case:concept:name', 'Action','org:resource', 'concept:name', 'EventOrigin', 'EventID', 'lifecycle:transition', 'time:timestamp','OfferID'])"
   ]
  },
  {
   "cell_type": "code",
   "execution_count": 4,
   "id": "2c8f8d3f-a769-4436-b8f6-a4cd16e3fc71",
   "metadata": {},
   "outputs": [
    {
     "data": {
      "text/html": [
       "<div>\n",
       "<style scoped>\n",
       "    .dataframe tbody tr th:only-of-type {\n",
       "        vertical-align: middle;\n",
       "    }\n",
       "\n",
       "    .dataframe tbody tr th {\n",
       "        vertical-align: top;\n",
       "    }\n",
       "\n",
       "    .dataframe thead th {\n",
       "        text-align: right;\n",
       "    }\n",
       "</style>\n",
       "<table border=\"1\" class=\"dataframe\">\n",
       "  <thead>\n",
       "    <tr style=\"text-align: right;\">\n",
       "      <th></th>\n",
       "      <th>NumberOfOffers</th>\n",
       "      <th>case:LoanGoal</th>\n",
       "      <th>case:ApplicationType</th>\n",
       "      <th>case:RequestedAmount</th>\n",
       "      <th>FirstWithdrawalAmount</th>\n",
       "      <th>NumberOfTerms</th>\n",
       "      <th>Accepted</th>\n",
       "      <th>MonthlyCost</th>\n",
       "      <th>Selected</th>\n",
       "      <th>CreditScore</th>\n",
       "      <th>OfferedAmount</th>\n",
       "      <th>treatment</th>\n",
       "      <th>successful</th>\n",
       "      <th>treatmentSuccess</th>\n",
       "    </tr>\n",
       "  </thead>\n",
       "  <tbody>\n",
       "    <tr>\n",
       "      <th>0</th>\n",
       "      <td>1</td>\n",
       "      <td>10</td>\n",
       "      <td>1</td>\n",
       "      <td>5000.0</td>\n",
       "      <td>5000.0</td>\n",
       "      <td>22.0</td>\n",
       "      <td>1</td>\n",
       "      <td>241.28</td>\n",
       "      <td>0</td>\n",
       "      <td>0.0</td>\n",
       "      <td>5000.0</td>\n",
       "      <td>0</td>\n",
       "      <td>0</td>\n",
       "      <td>0</td>\n",
       "    </tr>\n",
       "    <tr>\n",
       "      <th>1</th>\n",
       "      <td>1</td>\n",
       "      <td>10</td>\n",
       "      <td>1</td>\n",
       "      <td>5000.0</td>\n",
       "      <td>5000.0</td>\n",
       "      <td>22.0</td>\n",
       "      <td>1</td>\n",
       "      <td>241.28</td>\n",
       "      <td>0</td>\n",
       "      <td>0.0</td>\n",
       "      <td>5000.0</td>\n",
       "      <td>0</td>\n",
       "      <td>0</td>\n",
       "      <td>0</td>\n",
       "    </tr>\n",
       "    <tr>\n",
       "      <th>2</th>\n",
       "      <td>1</td>\n",
       "      <td>10</td>\n",
       "      <td>1</td>\n",
       "      <td>5000.0</td>\n",
       "      <td>5000.0</td>\n",
       "      <td>22.0</td>\n",
       "      <td>1</td>\n",
       "      <td>241.28</td>\n",
       "      <td>0</td>\n",
       "      <td>0.0</td>\n",
       "      <td>5000.0</td>\n",
       "      <td>0</td>\n",
       "      <td>0</td>\n",
       "      <td>0</td>\n",
       "    </tr>\n",
       "    <tr>\n",
       "      <th>3</th>\n",
       "      <td>1</td>\n",
       "      <td>10</td>\n",
       "      <td>1</td>\n",
       "      <td>5000.0</td>\n",
       "      <td>5000.0</td>\n",
       "      <td>22.0</td>\n",
       "      <td>1</td>\n",
       "      <td>241.28</td>\n",
       "      <td>0</td>\n",
       "      <td>0.0</td>\n",
       "      <td>5000.0</td>\n",
       "      <td>0</td>\n",
       "      <td>0</td>\n",
       "      <td>0</td>\n",
       "    </tr>\n",
       "    <tr>\n",
       "      <th>4</th>\n",
       "      <td>1</td>\n",
       "      <td>10</td>\n",
       "      <td>1</td>\n",
       "      <td>5000.0</td>\n",
       "      <td>5000.0</td>\n",
       "      <td>22.0</td>\n",
       "      <td>1</td>\n",
       "      <td>241.28</td>\n",
       "      <td>0</td>\n",
       "      <td>0.0</td>\n",
       "      <td>5000.0</td>\n",
       "      <td>0</td>\n",
       "      <td>0</td>\n",
       "      <td>0</td>\n",
       "    </tr>\n",
       "  </tbody>\n",
       "</table>\n",
       "</div>"
      ],
      "text/plain": [
       "   NumberOfOffers  case:LoanGoal  case:ApplicationType  case:RequestedAmount  \\\n",
       "0               1             10                     1                5000.0   \n",
       "1               1             10                     1                5000.0   \n",
       "2               1             10                     1                5000.0   \n",
       "3               1             10                     1                5000.0   \n",
       "4               1             10                     1                5000.0   \n",
       "\n",
       "   FirstWithdrawalAmount  NumberOfTerms  Accepted  MonthlyCost  Selected  \\\n",
       "0                 5000.0           22.0         1       241.28         0   \n",
       "1                 5000.0           22.0         1       241.28         0   \n",
       "2                 5000.0           22.0         1       241.28         0   \n",
       "3                 5000.0           22.0         1       241.28         0   \n",
       "4                 5000.0           22.0         1       241.28         0   \n",
       "\n",
       "   CreditScore  OfferedAmount  treatment  successful  treatmentSuccess  \n",
       "0          0.0         5000.0          0           0                 0  \n",
       "1          0.0         5000.0          0           0                 0  \n",
       "2          0.0         5000.0          0           0                 0  \n",
       "3          0.0         5000.0          0           0                 0  \n",
       "4          0.0         5000.0          0           0                 0  "
      ]
     },
     "execution_count": 4,
     "metadata": {},
     "output_type": "execute_result"
    }
   ],
   "source": [
    "struct_data = smaller_df.copy()\n",
    "non_numeric_columns = list(struct_data.select_dtypes(exclude=[np.number]).columns)\n",
    "\n",
    "le = LabelEncoder()\n",
    "\n",
    "for col in non_numeric_columns:\n",
    "    struct_data[col] = le.fit_transform(struct_data[col])\n",
    "\n",
    "struct_data.head(5)"
   ]
  },
  {
   "cell_type": "code",
   "execution_count": 5,
   "id": "101f0490-aab3-49dd-8616-f418752402d9",
   "metadata": {},
   "outputs": [
    {
     "data": {
      "text/plain": [
       "Index(['NumberOfOffers', 'case:LoanGoal', 'case:ApplicationType',\n",
       "       'case:RequestedAmount', 'FirstWithdrawalAmount', 'NumberOfTerms',\n",
       "       'Accepted', 'MonthlyCost', 'Selected', 'CreditScore', 'OfferedAmount',\n",
       "       'treatment', 'successful', 'treatmentSuccess'],\n",
       "      dtype='object')"
      ]
     },
     "execution_count": 5,
     "metadata": {},
     "output_type": "execute_result"
    }
   ],
   "source": [
    "struct_data.columns"
   ]
  },
  {
   "cell_type": "code",
   "execution_count": 6,
   "id": "72d90e21-ad17-4bf7-a352-beeaadd8b72e",
   "metadata": {},
   "outputs": [],
   "source": [
    "feature_names = ['NumberOfOffers', 'case:LoanGoal', 'case:ApplicationType',\n",
    "       'case:RequestedAmount', 'FirstWithdrawalAmount', 'NumberOfTerms',\n",
    "       'Accepted', 'MonthlyCost', 'Selected', 'CreditScore', 'OfferedAmount']"
   ]
  },
  {
   "cell_type": "code",
   "execution_count": 7,
   "id": "22fe340c-e689-40a4-8b64-657f77ca65c3",
   "metadata": {},
   "outputs": [
    {
     "name": "stdout",
     "output_type": "stream",
     "text": [
      "{'dataset': 'BPI2017', 'output_dir': './', 'v_dim': 11, 'z_dims': [3, 3, 6, 6], 'x_min': 0, 'x_max': 3, 'lr': 0.0002, 'alpha': 1, 'beta': 1, 'gamma': 10, 'g_d_freq': 5, 'g_units': [64, 64, 64, 64, 64], 'e_units': [64, 64, 64, 64, 64], 'f_units': [64, 32, 8], 'h_units': [64, 32, 8], 'dz_units': [64, 32, 8], 'dv_units': [64, 32, 8], 'binary_treatment': True, 'use_z_rec': True, 'use_v_gan': True, 'save_model': False, 'save_res': True}\n"
     ]
    }
   ],
   "source": [
    "import yaml\n",
    "params = yaml.safe_load(open('egm-nn/bpi2017.yaml', 'r'))\n",
    "print(params)"
   ]
  },
  {
   "cell_type": "code",
   "execution_count": 12,
   "id": "4cffcb6e-3c9f-47a4-b41c-e3ba774e569f",
   "metadata": {},
   "outputs": [],
   "source": [
    "import CausalEGM as cegm\n",
    "model = cegm.CausalEGM(params=params,random_seed=123)"
   ]
  },
  {
   "cell_type": "code",
   "execution_count": 10,
   "id": "8715b8ce-72b3-4cd5-a51c-2195df0296fa",
   "metadata": {},
   "outputs": [],
   "source": [
    "#treatment (x), potential outcome (y), and covariates (v)\n",
    "x = struct_data['treatment']\n",
    "y = struct_data['successful']\n",
    "v = struct_data[feature_names]"
   ]
  },
  {
   "cell_type": "code",
   "execution_count": 13,
   "id": "dc8742f7-95a1-4a01-a189-311b9f6b94bf",
   "metadata": {},
   "outputs": [
    {
     "name": "stdout",
     "output_type": "stream",
     "text": [
      "The average treatment effect (ATE) is  0.05254575\n"
     ]
    }
   ],
   "source": [
    "model.train(data=[x,y,v],n_iter=100,save_format='npy',verbose=False)"
   ]
  }
 ],
 "metadata": {
  "kernelspec": {
   "display_name": "egm",
   "language": "python",
   "name": "egm"
  },
  "language_info": {
   "codemirror_mode": {
    "name": "ipython",
    "version": 3
   },
   "file_extension": ".py",
   "mimetype": "text/x-python",
   "name": "python",
   "nbconvert_exporter": "python",
   "pygments_lexer": "ipython3",
   "version": "3.9.7"
  }
 },
 "nbformat": 4,
 "nbformat_minor": 5
}
