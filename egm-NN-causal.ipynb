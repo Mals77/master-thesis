{
 "cells": [
  {
   "cell_type": "code",
   "execution_count": 4,
   "id": "249b033b-b948-4dcf-92af-7637e9104df2",
   "metadata": {},
   "outputs": [],
   "source": [
    "import pandas as pd\n",
    "import numpy as np\n",
    "import yaml\n",
    "import CausalEGM as cegm\n",
    "import evaluationData"
   ]
  },
  {
   "cell_type": "markdown",
   "id": "0059ba6e-990d-49b0-90ff-dd72e0607de4",
   "metadata": {},
   "source": [
    "## BPIC 2017 Dataset"
   ]
  },
  {
   "cell_type": "code",
   "execution_count": 2,
   "id": "49392157-8a03-4d00-93a5-57c80408b4c6",
   "metadata": {},
   "outputs": [
    {
     "name": "stdout",
     "output_type": "stream",
     "text": [
      "Index(['case:concept:name', 'NumberOfOffers', 'Action', 'org:resource',\n",
      "       'concept:name', 'EventOrigin', 'lifecycle:transition', 'time:timestamp',\n",
      "       'case:LoanGoal', 'case:ApplicationType', 'case:RequestedAmount',\n",
      "       'FirstWithdrawalAmount', 'NumberOfTerms', 'Accepted', 'MonthlyCost',\n",
      "       'Selected', 'CreditScore', 'OfferedAmount', 'treatedCase',\n",
      "       'caseSuccesful', 'treatmentSuccess', 'offerNumber', 'offerSuccess',\n",
      "       'treatmentOffer', 'timeApplication', 'weekdayApplication'],\n",
      "      dtype='object')\n"
     ]
    },
    {
     "data": {
      "text/html": [
       "<div>\n",
       "<style scoped>\n",
       "    .dataframe tbody tr th:only-of-type {\n",
       "        vertical-align: middle;\n",
       "    }\n",
       "\n",
       "    .dataframe tbody tr th {\n",
       "        vertical-align: top;\n",
       "    }\n",
       "\n",
       "    .dataframe thead th {\n",
       "        text-align: right;\n",
       "    }\n",
       "</style>\n",
       "<table border=\"1\" class=\"dataframe\">\n",
       "  <thead>\n",
       "    <tr style=\"text-align: right;\">\n",
       "      <th></th>\n",
       "      <th>case:concept:name</th>\n",
       "      <th>NumberOfOffers</th>\n",
       "      <th>Action</th>\n",
       "      <th>org:resource</th>\n",
       "      <th>concept:name</th>\n",
       "      <th>EventOrigin</th>\n",
       "      <th>lifecycle:transition</th>\n",
       "      <th>time:timestamp</th>\n",
       "      <th>case:LoanGoal</th>\n",
       "      <th>case:ApplicationType</th>\n",
       "      <th>...</th>\n",
       "      <th>CreditScore</th>\n",
       "      <th>OfferedAmount</th>\n",
       "      <th>treatedCase</th>\n",
       "      <th>caseSuccesful</th>\n",
       "      <th>treatmentSuccess</th>\n",
       "      <th>offerNumber</th>\n",
       "      <th>offerSuccess</th>\n",
       "      <th>treatmentOffer</th>\n",
       "      <th>timeApplication</th>\n",
       "      <th>weekdayApplication</th>\n",
       "    </tr>\n",
       "  </thead>\n",
       "  <tbody>\n",
       "    <tr>\n",
       "      <th>0</th>\n",
       "      <td>0.0</td>\n",
       "      <td>1.0</td>\n",
       "      <td>0.0</td>\n",
       "      <td>0.0</td>\n",
       "      <td>4.0</td>\n",
       "      <td>0.0</td>\n",
       "      <td>1.0</td>\n",
       "      <td>651433.0</td>\n",
       "      <td>10.0</td>\n",
       "      <td>1.0</td>\n",
       "      <td>...</td>\n",
       "      <td>0.0</td>\n",
       "      <td>5000.0</td>\n",
       "      <td>0.0</td>\n",
       "      <td>0.0</td>\n",
       "      <td>0.0</td>\n",
       "      <td>1.0</td>\n",
       "      <td>0.0</td>\n",
       "      <td>0.0</td>\n",
       "      <td>0.000</td>\n",
       "      <td>2.0</td>\n",
       "    </tr>\n",
       "    <tr>\n",
       "      <th>1</th>\n",
       "      <td>0.0</td>\n",
       "      <td>1.0</td>\n",
       "      <td>4.0</td>\n",
       "      <td>0.0</td>\n",
       "      <td>8.0</td>\n",
       "      <td>0.0</td>\n",
       "      <td>1.0</td>\n",
       "      <td>651434.0</td>\n",
       "      <td>10.0</td>\n",
       "      <td>1.0</td>\n",
       "      <td>...</td>\n",
       "      <td>0.0</td>\n",
       "      <td>5000.0</td>\n",
       "      <td>0.0</td>\n",
       "      <td>0.0</td>\n",
       "      <td>0.0</td>\n",
       "      <td>1.0</td>\n",
       "      <td>0.0</td>\n",
       "      <td>0.0</td>\n",
       "      <td>0.061</td>\n",
       "      <td>2.0</td>\n",
       "    </tr>\n",
       "    <tr>\n",
       "      <th>2</th>\n",
       "      <td>0.0</td>\n",
       "      <td>1.0</td>\n",
       "      <td>0.0</td>\n",
       "      <td>0.0</td>\n",
       "      <td>22.0</td>\n",
       "      <td>2.0</td>\n",
       "      <td>3.0</td>\n",
       "      <td>651435.0</td>\n",
       "      <td>10.0</td>\n",
       "      <td>1.0</td>\n",
       "      <td>...</td>\n",
       "      <td>0.0</td>\n",
       "      <td>5000.0</td>\n",
       "      <td>0.0</td>\n",
       "      <td>0.0</td>\n",
       "      <td>0.0</td>\n",
       "      <td>1.0</td>\n",
       "      <td>0.0</td>\n",
       "      <td>0.0</td>\n",
       "      <td>0.290</td>\n",
       "      <td>2.0</td>\n",
       "    </tr>\n",
       "    <tr>\n",
       "      <th>3</th>\n",
       "      <td>0.0</td>\n",
       "      <td>1.0</td>\n",
       "      <td>1.0</td>\n",
       "      <td>0.0</td>\n",
       "      <td>22.0</td>\n",
       "      <td>2.0</td>\n",
       "      <td>6.0</td>\n",
       "      <td>651437.0</td>\n",
       "      <td>10.0</td>\n",
       "      <td>1.0</td>\n",
       "      <td>...</td>\n",
       "      <td>0.0</td>\n",
       "      <td>5000.0</td>\n",
       "      <td>0.0</td>\n",
       "      <td>0.0</td>\n",
       "      <td>0.0</td>\n",
       "      <td>1.0</td>\n",
       "      <td>0.0</td>\n",
       "      <td>0.0</td>\n",
       "      <td>66.613</td>\n",
       "      <td>2.0</td>\n",
       "    </tr>\n",
       "    <tr>\n",
       "      <th>4</th>\n",
       "      <td>0.0</td>\n",
       "      <td>1.0</td>\n",
       "      <td>0.0</td>\n",
       "      <td>0.0</td>\n",
       "      <td>21.0</td>\n",
       "      <td>2.0</td>\n",
       "      <td>3.0</td>\n",
       "      <td>651438.0</td>\n",
       "      <td>10.0</td>\n",
       "      <td>1.0</td>\n",
       "      <td>...</td>\n",
       "      <td>0.0</td>\n",
       "      <td>5000.0</td>\n",
       "      <td>0.0</td>\n",
       "      <td>0.0</td>\n",
       "      <td>0.0</td>\n",
       "      <td>1.0</td>\n",
       "      <td>0.0</td>\n",
       "      <td>0.0</td>\n",
       "      <td>66.620</td>\n",
       "      <td>2.0</td>\n",
       "    </tr>\n",
       "  </tbody>\n",
       "</table>\n",
       "<p>5 rows × 26 columns</p>\n",
       "</div>"
      ],
      "text/plain": [
       "   case:concept:name  NumberOfOffers  Action  org:resource  concept:name  \\\n",
       "0                0.0             1.0     0.0           0.0           4.0   \n",
       "1                0.0             1.0     4.0           0.0           8.0   \n",
       "2                0.0             1.0     0.0           0.0          22.0   \n",
       "3                0.0             1.0     1.0           0.0          22.0   \n",
       "4                0.0             1.0     0.0           0.0          21.0   \n",
       "\n",
       "   EventOrigin  lifecycle:transition  time:timestamp  case:LoanGoal  \\\n",
       "0          0.0                   1.0        651433.0           10.0   \n",
       "1          0.0                   1.0        651434.0           10.0   \n",
       "2          2.0                   3.0        651435.0           10.0   \n",
       "3          2.0                   6.0        651437.0           10.0   \n",
       "4          2.0                   3.0        651438.0           10.0   \n",
       "\n",
       "   case:ApplicationType  ...  CreditScore  OfferedAmount  treatedCase  \\\n",
       "0                   1.0  ...          0.0         5000.0          0.0   \n",
       "1                   1.0  ...          0.0         5000.0          0.0   \n",
       "2                   1.0  ...          0.0         5000.0          0.0   \n",
       "3                   1.0  ...          0.0         5000.0          0.0   \n",
       "4                   1.0  ...          0.0         5000.0          0.0   \n",
       "\n",
       "   caseSuccesful  treatmentSuccess  offerNumber  offerSuccess  treatmentOffer  \\\n",
       "0            0.0               0.0          1.0           0.0             0.0   \n",
       "1            0.0               0.0          1.0           0.0             0.0   \n",
       "2            0.0               0.0          1.0           0.0             0.0   \n",
       "3            0.0               0.0          1.0           0.0             0.0   \n",
       "4            0.0               0.0          1.0           0.0             0.0   \n",
       "\n",
       "   timeApplication  weekdayApplication  \n",
       "0            0.000                 2.0  \n",
       "1            0.061                 2.0  \n",
       "2            0.290                 2.0  \n",
       "3           66.613                 2.0  \n",
       "4           66.620                 2.0  \n",
       "\n",
       "[5 rows x 26 columns]"
      ]
     },
     "execution_count": 2,
     "metadata": {},
     "output_type": "execute_result"
    }
   ],
   "source": [
    "df = pd.read_csv(\"bpi2017_final.csv\")\n",
    "print(df.columns)\n",
    "df.head()"
   ]
  },
  {
   "cell_type": "code",
   "execution_count": 3,
   "id": "72d90e21-ad17-4bf7-a352-beeaadd8b72e",
   "metadata": {},
   "outputs": [],
   "source": [
    "feature_names = ['NumberOfOffers', 'Action', 'org:resource',\n",
    "       'concept:name', 'EventOrigin', 'lifecycle:transition', 'time:timestamp',\n",
    "       'case:LoanGoal', 'case:ApplicationType', 'case:RequestedAmount',\n",
    "       'FirstWithdrawalAmount', 'NumberOfTerms', 'Accepted', 'MonthlyCost',\n",
    "       'CreditScore', 'OfferedAmount', 'offerNumber','timeApplication', 'weekdayApplication']"
   ]
  },
  {
   "cell_type": "code",
   "execution_count": 4,
   "id": "22fe340c-e689-40a4-8b64-657f77ca65c3",
   "metadata": {},
   "outputs": [
    {
     "name": "stdout",
     "output_type": "stream",
     "text": [
      "{'dataset': 'BPI2017', 'output_dir': './egm-nn/', 'v_dim': 19, 'z_dims': [3, 3, 6, 6], 'x_min': 0, 'x_max': 3, 'lr': 0.0002, 'alpha': 1, 'beta': 1, 'gamma': 10, 'g_d_freq': 5, 'g_units': [64, 64, 64, 64, 64], 'e_units': [64, 64, 64, 64, 64], 'f_units': [64, 32, 8], 'h_units': [64, 32, 8], 'dz_units': [64, 32, 8], 'dv_units': [64, 32, 8], 'binary_treatment': True, 'use_z_rec': True, 'use_v_gan': True, 'save_model': False, 'save_res': True}\n"
     ]
    }
   ],
   "source": [
    "params = yaml.safe_load(open('egm-nn/bpi2017.yaml', 'r'))\n",
    "print(params)"
   ]
  },
  {
   "cell_type": "code",
   "execution_count": 5,
   "id": "4cffcb6e-3c9f-47a4-b41c-e3ba774e569f",
   "metadata": {},
   "outputs": [],
   "source": [
    "model = cegm.CausalEGM(params=params,random_seed=123)"
   ]
  },
  {
   "cell_type": "code",
   "execution_count": 6,
   "id": "8715b8ce-72b3-4cd5-a51c-2195df0296fa",
   "metadata": {},
   "outputs": [],
   "source": [
    "#treatment (x), potential outcome (y), and covariates (v)\n",
    "x = df['treatmentOffer']\n",
    "y = df['offerSuccess']\n",
    "v = df[feature_names]"
   ]
  },
  {
   "cell_type": "code",
   "execution_count": 7,
   "id": "dc8742f7-95a1-4a01-a189-311b9f6b94bf",
   "metadata": {},
   "outputs": [
    {
     "name": "stdout",
     "output_type": "stream",
     "text": [
      "The average treatment effect (ATE) is  0.1247714\n"
     ]
    }
   ],
   "source": [
    "model.train(data=[x,y,v],n_iter=100,save_format='npy',verbose=False)"
   ]
  },
  {
   "cell_type": "code",
   "execution_count": 24,
   "id": "4b9868ea-55ed-49fb-a65f-412c19e86145",
   "metadata": {},
   "outputs": [
    {
     "data": {
      "text/plain": [
       "array([[0.1953125 ],\n",
       "       [0.16015625],\n",
       "       [0.05664062],\n",
       "       ...,\n",
       "       [0.21972656],\n",
       "       [0.09375   ],\n",
       "       [0.19140625]], dtype=float32)"
      ]
     },
     "execution_count": 24,
     "metadata": {},
     "output_type": "execute_result"
    }
   ],
   "source": [
    "results = np.load('./egm-nn/results/BPI2017/20240122_162745/causal_pre_final.npy')\n",
    "results"
   ]
  },
  {
   "cell_type": "code",
   "execution_count": 25,
   "id": "9e2d6080-381d-44a5-9a46-26f8941b0537",
   "metadata": {
    "scrolled": true
   },
   "outputs": [],
   "source": [
    "ite = results.reshape(-1)\n",
    "ate = results.mean()"
   ]
  },
  {
   "cell_type": "code",
   "execution_count": 26,
   "id": "c97dc7b2-b550-476c-bcf5-f9dee7a70ad5",
   "metadata": {},
   "outputs": [
    {
     "name": "stdout",
     "output_type": "stream",
     "text": [
      "[-0.484375, 0.0556640625, 0.15234375, 0.203125, 0.6875, 0.1474609375, 0.42431640625, -0.16552734375]\n"
     ]
    }
   ],
   "source": [
    "# Calculate statistics\n",
    "data = np.reshape(results, -1)\n",
    "minimum = np.min(data)\n",
    "first_quartile = np.percentile(data, 25)\n",
    "median = np.median(data)\n",
    "third_quartile = np.percentile(data, 75)\n",
    "maximum = np.max(data)\n",
    "\n",
    "# Interquartile range (IQR)\n",
    "iqr = third_quartile - first_quartile\n",
    "\n",
    "# Define upper and lower bounds for outliers\n",
    "upper_bound = third_quartile + 1.5 * iqr\n",
    "lower_bound = first_quartile - 1.5 * iqr\n",
    "\n",
    "# Detect outliers\n",
    "outliers = data[(data < lower_bound) | (data > upper_bound)]\n",
    "\n",
    "ite_egm = [minimum, first_quartile, median, third_quartile, maximum, iqr, upper_bound, lower_bound]\n",
    "print(ite_egm)"
   ]
  },
  {
   "cell_type": "code",
   "execution_count": 31,
   "id": "bfff8b9e-9b88-4e98-ae6d-57c72ec1d74b",
   "metadata": {},
   "outputs": [
    {
     "name": "stdout",
     "output_type": "stream",
     "text": [
      "Stored 'df_results' (DataFrame)\n"
     ]
    }
   ],
   "source": [
    "#Store result in df of the results\n",
    "%store -r df_results\n",
    "lib = \"CausalEGM\"\n",
    "method = \"CausalEGM\"\n",
    "\n",
    "if method in df_results['method'].values:\n",
    "    df_results.loc[df_results['method'] == method, 'ATE'] = ate\n",
    "    index = df_results[df_results['method'] == method].index[0]\n",
    "    df_results.at[index, 'ITE'] = ite_egm\n",
    "\n",
    "else:\n",
    "    df_results = df_results._append({'method': method, 'ATE': ate, 'ITE': ite_egm, 'Library': lib}, ignore_index=True)\n",
    "\n",
    "%store df_results"
   ]
  },
  {
   "cell_type": "markdown",
   "id": "6a8cafb3-c35c-443c-b960-a55fe9805d25",
   "metadata": {},
   "source": [
    "## Synthetic Dataset"
   ]
  },
  {
   "cell_type": "code",
   "execution_count": 6,
   "id": "eff26a97-e03e-45e1-9dfd-000369655ba7",
   "metadata": {},
   "outputs": [
    {
     "data": {
      "text/html": [
       "<div>\n",
       "<style scoped>\n",
       "    .dataframe tbody tr th:only-of-type {\n",
       "        vertical-align: middle;\n",
       "    }\n",
       "\n",
       "    .dataframe tbody tr th {\n",
       "        vertical-align: top;\n",
       "    }\n",
       "\n",
       "    .dataframe thead th {\n",
       "        text-align: right;\n",
       "    }\n",
       "</style>\n",
       "<table border=\"1\" class=\"dataframe\">\n",
       "  <thead>\n",
       "    <tr style=\"text-align: right;\">\n",
       "      <th></th>\n",
       "      <th>case:concept:name</th>\n",
       "      <th>NumberOfOffers</th>\n",
       "      <th>concept:name</th>\n",
       "      <th>lifecycle:transition</th>\n",
       "      <th>time:timestamp</th>\n",
       "      <th>elementId</th>\n",
       "      <th>resourceId</th>\n",
       "      <th>treatment</th>\n",
       "      <th>successful</th>\n",
       "      <th>treatmentSuccess</th>\n",
       "      <th>weekdayApplication</th>\n",
       "      <th>timeApplication</th>\n",
       "    </tr>\n",
       "  </thead>\n",
       "  <tbody>\n",
       "    <tr>\n",
       "      <th>0</th>\n",
       "      <td>0.0</td>\n",
       "      <td>2.0</td>\n",
       "      <td>29.0</td>\n",
       "      <td>0.0</td>\n",
       "      <td>152.0</td>\n",
       "      <td>28.0</td>\n",
       "      <td>1.0</td>\n",
       "      <td>1.0</td>\n",
       "      <td>1.0</td>\n",
       "      <td>2.0</td>\n",
       "      <td>1.0</td>\n",
       "      <td>0.0</td>\n",
       "    </tr>\n",
       "    <tr>\n",
       "      <th>1</th>\n",
       "      <td>0.0</td>\n",
       "      <td>2.0</td>\n",
       "      <td>29.0</td>\n",
       "      <td>2.0</td>\n",
       "      <td>152.0</td>\n",
       "      <td>28.0</td>\n",
       "      <td>1.0</td>\n",
       "      <td>1.0</td>\n",
       "      <td>1.0</td>\n",
       "      <td>2.0</td>\n",
       "      <td>1.0</td>\n",
       "      <td>0.0</td>\n",
       "    </tr>\n",
       "    <tr>\n",
       "      <th>2</th>\n",
       "      <td>0.0</td>\n",
       "      <td>2.0</td>\n",
       "      <td>29.0</td>\n",
       "      <td>1.0</td>\n",
       "      <td>152.0</td>\n",
       "      <td>28.0</td>\n",
       "      <td>1.0</td>\n",
       "      <td>1.0</td>\n",
       "      <td>1.0</td>\n",
       "      <td>2.0</td>\n",
       "      <td>1.0</td>\n",
       "      <td>0.0</td>\n",
       "    </tr>\n",
       "    <tr>\n",
       "      <th>3</th>\n",
       "      <td>0.0</td>\n",
       "      <td>2.0</td>\n",
       "      <td>5.0</td>\n",
       "      <td>0.0</td>\n",
       "      <td>152.0</td>\n",
       "      <td>7.0</td>\n",
       "      <td>1.0</td>\n",
       "      <td>1.0</td>\n",
       "      <td>1.0</td>\n",
       "      <td>2.0</td>\n",
       "      <td>1.0</td>\n",
       "      <td>0.0</td>\n",
       "    </tr>\n",
       "    <tr>\n",
       "      <th>4</th>\n",
       "      <td>0.0</td>\n",
       "      <td>2.0</td>\n",
       "      <td>5.0</td>\n",
       "      <td>2.0</td>\n",
       "      <td>152.0</td>\n",
       "      <td>7.0</td>\n",
       "      <td>0.0</td>\n",
       "      <td>1.0</td>\n",
       "      <td>1.0</td>\n",
       "      <td>2.0</td>\n",
       "      <td>1.0</td>\n",
       "      <td>0.0</td>\n",
       "    </tr>\n",
       "  </tbody>\n",
       "</table>\n",
       "</div>"
      ],
      "text/plain": [
       "   case:concept:name  NumberOfOffers  concept:name  lifecycle:transition  \\\n",
       "0                0.0             2.0          29.0                   0.0   \n",
       "1                0.0             2.0          29.0                   2.0   \n",
       "2                0.0             2.0          29.0                   1.0   \n",
       "3                0.0             2.0           5.0                   0.0   \n",
       "4                0.0             2.0           5.0                   2.0   \n",
       "\n",
       "   time:timestamp  elementId  resourceId  treatment  successful  \\\n",
       "0           152.0       28.0         1.0        1.0         1.0   \n",
       "1           152.0       28.0         1.0        1.0         1.0   \n",
       "2           152.0       28.0         1.0        1.0         1.0   \n",
       "3           152.0        7.0         1.0        1.0         1.0   \n",
       "4           152.0        7.0         0.0        1.0         1.0   \n",
       "\n",
       "   treatmentSuccess  weekdayApplication  timeApplication  \n",
       "0               2.0                 1.0              0.0  \n",
       "1               2.0                 1.0              0.0  \n",
       "2               2.0                 1.0              0.0  \n",
       "3               2.0                 1.0              0.0  \n",
       "4               2.0                 1.0              0.0  "
      ]
     },
     "execution_count": 6,
     "metadata": {},
     "output_type": "execute_result"
    }
   ],
   "source": [
    "df_synth = pd.read_csv(\"synthetic_dataset.csv\")\n",
    "synthetic_features = ['NumberOfOffers', 'concept:name',\n",
    "       'lifecycle:transition', 'time:timestamp', 'elementId', 'resourceId',\n",
    "       'weekdayApplication', 'timeApplication']\n",
    "df_synth.head()"
   ]
  },
  {
   "cell_type": "code",
   "execution_count": 11,
   "id": "e08c38cb-51a0-4656-9362-93a3b3eb48c5",
   "metadata": {},
   "outputs": [
    {
     "name": "stdout",
     "output_type": "stream",
     "text": [
      "{'dataset': 'SynthData', 'output_dir': './egm-nn/', 'v_dim': 8, 'z_dims': [3, 3, 6, 6], 'x_min': 0, 'x_max': 3, 'lr': 0.0002, 'alpha': 1, 'beta': 1, 'gamma': 10, 'g_d_freq': 5, 'g_units': [64, 64, 64, 64, 64], 'e_units': [64, 64, 64, 64, 64], 'f_units': [64, 32, 8], 'h_units': [64, 32, 8], 'dz_units': [64, 32, 8], 'dv_units': [64, 32, 8], 'binary_treatment': True, 'use_z_rec': True, 'use_v_gan': True, 'save_model': False, 'save_res': True}\n"
     ]
    }
   ],
   "source": [
    "params_synth = yaml.safe_load(open('egm-nn/synthetic-Dataset.yaml', 'r'))\n",
    "print(params_synth)"
   ]
  },
  {
   "cell_type": "code",
   "execution_count": 8,
   "id": "509e8123-c360-4e43-8d39-56a589bcb1dd",
   "metadata": {},
   "outputs": [],
   "source": [
    "#treatment (x), potential outcome (y), and covariates (v)\n",
    "x = df_synth['treatment']\n",
    "y = df_synth['treatmentSuccess']\n",
    "v = df_synth[synthetic_features]"
   ]
  },
  {
   "cell_type": "code",
   "execution_count": 12,
   "id": "b18403c7-c20c-469a-8b43-b99d5a175f58",
   "metadata": {},
   "outputs": [],
   "source": [
    "synth_model = cegm.CausalEGM(params=params_synth,random_seed=123)"
   ]
  },
  {
   "cell_type": "code",
   "execution_count": 13,
   "id": "ccac915f-6d7c-40b1-9962-3f501c9ec418",
   "metadata": {},
   "outputs": [
    {
     "name": "stdout",
     "output_type": "stream",
     "text": [
      "The average treatment effect (ATE) is  0.07459373\n"
     ]
    }
   ],
   "source": [
    "synth_model.train(data=[x,y,v],n_iter=100,save_format='npy',verbose=False)"
   ]
  },
  {
   "cell_type": "code",
   "execution_count": 19,
   "id": "a2febe28-fa95-4e27-8459-42cc2f7aa7e1",
   "metadata": {},
   "outputs": [
    {
     "data": {
      "text/plain": [
       "array([[0.12651193],\n",
       "       [0.11582285],\n",
       "       [0.1216473 ],\n",
       "       ...,\n",
       "       [0.08596039],\n",
       "       [0.0859375 ],\n",
       "       [0.08587646]], dtype=float32)"
      ]
     },
     "execution_count": 19,
     "metadata": {},
     "output_type": "execute_result"
    }
   ],
   "source": [
    "synth_results = np.load('./egm-nn/results/SynthData/20240227_122224/causal_pre_final.npy')\n",
    "synth_results"
   ]
  },
  {
   "cell_type": "code",
   "execution_count": 20,
   "id": "23868625-f60d-4fb1-b4ad-a928631fc420",
   "metadata": {},
   "outputs": [
    {
     "name": "stdout",
     "output_type": "stream",
     "text": [
      "[0.12651193 0.11582285 0.1216473  ... 0.08596039 0.0859375  0.08587646] 0.07459373\n"
     ]
    }
   ],
   "source": [
    "synth_ite = synth_results.reshape(-1)\n",
    "synth_ate = synth_results.mean()\n",
    "print(synth_ite, synth_ate)"
   ]
  },
  {
   "cell_type": "code",
   "execution_count": 22,
   "id": "ec00fd0d-8d3f-4442-8ea7-309843544c5c",
   "metadata": {},
   "outputs": [
    {
     "name": "stdout",
     "output_type": "stream",
     "text": [
      "[-0.12484968, 0.059909820556640625, 0.07635641, 0.09584903717041016, 0.3586205, 0.03593921661376953, 0.14975786209106445, 0.006000995635986328]\n"
     ]
    }
   ],
   "source": [
    "# Calculate statistics\n",
    "data = np.reshape(synth_results, -1)\n",
    "minimum = np.min(data)\n",
    "first_quartile = np.percentile(data, 25)\n",
    "median = np.median(data)\n",
    "third_quartile = np.percentile(data, 75)\n",
    "maximum = np.max(data)\n",
    "\n",
    "# Interquartile range (IQR)\n",
    "iqr = third_quartile - first_quartile\n",
    "\n",
    "# Define upper and lower bounds for outliers\n",
    "upper_bound = third_quartile + 1.5 * iqr\n",
    "lower_bound = first_quartile - 1.5 * iqr\n",
    "\n",
    "# Detect outliers\n",
    "outliers = data[(data < lower_bound) | (data > upper_bound)]\n",
    "\n",
    "synth_ite_egm = [minimum, first_quartile, median, third_quartile, maximum, iqr, upper_bound, lower_bound]\n",
    "print(synth_ite_egm)"
   ]
  },
  {
   "cell_type": "code",
   "execution_count": 29,
   "id": "ce430093-7c88-4dc3-b53c-2cca99eb3a40",
   "metadata": {},
   "outputs": [
    {
     "name": "stdout",
     "output_type": "stream",
     "text": [
      "                                           method       ATE  \\\n",
      "0                                     Causal Tree  2.000000   \n",
      "1                                     cforest_mse       NaN   \n",
      "2                                    cforest_cmse  2.000000   \n",
      "3                              cforest_cmse_p=0.5  2.000000   \n",
      "4                         cforest_cmse_p=0.5_md=3  2.000000   \n",
      "5                                   cforest_ttest  2.000000   \n",
      "6                                          IPW LR  2.000000   \n",
      "7                                       Double ML  1.994487   \n",
      "8                               Linear Regression  2.000000   \n",
      "9                                    S-Learner LR  2.000000   \n",
      "10                                  XGBTRegressor  2.000000   \n",
      "11                             BaseTRegressor XGB  2.000000   \n",
      "12                              BaseTRegressor LR  2.000000   \n",
      "13                             BaseXRegressor XGB  2.000000   \n",
      "14                              BaseXRegressor LR  2.000000   \n",
      "15  BaseXRegressor XGB (without propensity score)  2.000000   \n",
      "16   BaseXRegressor LR (without propensity score)  2.000000   \n",
      "17                             BaseRRegressor XGB  0.000004   \n",
      "18                              BaseRRegressor LR  0.963636   \n",
      "19        BaseRRegressor XGB (with random weight)  0.000004   \n",
      "20  BaseRRegressor XGB (without propensity score)  0.000004   \n",
      "21   BaseRRegressor LR (without propensity score)  1.037307   \n",
      "22                           Neural Network (MLP)  2.000000   \n",
      "23                                          CEVAE  1.970946   \n",
      "24             Accelerated Bayesian Causal Forest  1.753875   \n",
      "25                                      CausalEGM  0.074594   \n",
      "\n",
      "                                                  ITE  \n",
      "0            [2.0, 2.0, 2.0, 2.0, 2.0, 0.0, 2.0, 2.0]  \n",
      "1                                                 NaN  \n",
      "2            [2.0, 2.0, 2.0, 2.0, 2.0, 0.0, 2.0, 2.0]  \n",
      "3            [2.0, 2.0, 2.0, 2.0, 2.0, 0.0, 2.0, 2.0]  \n",
      "4            [2.0, 2.0, 2.0, 2.0, 2.0, 0.0, 2.0, 2.0]  \n",
      "5            [2.0, 2.0, 2.0, 2.0, 2.0, 0.0, 2.0, 2.0]  \n",
      "6                                                 NaN  \n",
      "7   [1.992640849756571, 1.992640849756571, 1.99264...  \n",
      "8                                                 NaN  \n",
      "9   [1.999999999999998, 1.9999999999999987, 1.9999...  \n",
      "10           [2.0, 2.0, 2.0, 2.0, 2.0, 0.0, 2.0, 2.0]  \n",
      "11           [2.0, 2.0, 2.0, 2.0, 2.0, 0.0, 2.0, 2.0]  \n",
      "12           [2.0, 2.0, 2.0, 2.0, 2.0, 0.0, 2.0, 2.0]  \n",
      "13           [2.0, 2.0, 2.0, 2.0, 2.0, 0.0, 2.0, 2.0]  \n",
      "14           [2.0, 2.0, 2.0, 2.0, 2.0, 0.0, 2.0, 2.0]  \n",
      "15           [2.0, 2.0, 2.0, 2.0, 2.0, 0.0, 2.0, 2.0]  \n",
      "16           [2.0, 2.0, 2.0, 2.0, 2.0, 0.0, 2.0, 2.0]  \n",
      "17  [3.6223518691258505e-06, 3.6223518691258505e-0...  \n",
      "18  [-2.927061628951367, 0.70359919027986, 1.20964...  \n",
      "19  [3.6225269468559418e-06, 3.6225269468559418e-0...  \n",
      "20  [3.681200723804068e-06, 3.681200723804068e-06,...  \n",
      "21  [-3.029083798917791, 0.7664939624838119, 1.380...  \n",
      "22                                                NaN  \n",
      "23  [1.9071604, 1.9520107507705688, 1.9689205, 1.9...  \n",
      "24  [0.0668822689315117, 1.9999913796466386, 1.999...  \n",
      "25  [-0.12484968, 0.059909820556640625, 0.07635641...  \n",
      "Stored 'df_synthetic_results' (DataFrame)\n"
     ]
    }
   ],
   "source": [
    "%store -r df_synthetic_results\n",
    "method = \"CausalEGM\"\n",
    "ite = synth_ite_egm\n",
    "ate = synth_ate\n",
    "\n",
    "if method in df_synthetic_results['method'].values:\n",
    "     # If the method is already in the DataFrame, update the ATE and ITE columns\n",
    "    df_synthetic_results.loc[df_synthetic_results['method'] == method, 'ATE'] = ate\n",
    "    index = df_synthetic_results[df_synthetic_results['method'] == method].index[0]\n",
    "    df_synthetic_results.at[index, 'ITE'] = ite\n",
    "else:\n",
    "    # If the method is not in the DataFrame, add a new row\n",
    "    df_synthetic_results = df_synthetic_results._append({'method': method, 'ATE': ate, 'ITE': ite}, ignore_index=True)\n",
    "\n",
    "print(df_synthetic_results)\n",
    "%store df_synthetic_results"
   ]
  },
  {
   "cell_type": "markdown",
   "id": "494c3475-415a-4cfd-be84-de76d6d1157c",
   "metadata": {},
   "source": [
    "## Evaluation Dataset"
   ]
  },
  {
   "cell_type": "code",
   "execution_count": 25,
   "id": "ade11d7f-702c-41d4-8c57-d2f38e5dec0e",
   "metadata": {},
   "outputs": [
    {
     "name": "stderr",
     "output_type": "stream",
     "text": [
      "/pfs/data5/home/ma/ma_ma/ma_mskiera/master-thesis/evaluationData.py:37: SettingWithCopyWarning: \n",
      "A value is trying to be set on a copy of a slice from a DataFrame.\n",
      "Try using .loc[row_indexer,col_indexer] = value instead\n",
      "\n",
      "See the caveats in the documentation: https://pandas.pydata.org/pandas-docs/stable/user_guide/indexing.html#returning-a-view-versus-a-copy\n",
      "  inference_features['random covariate'] = new_data\n"
     ]
    },
    {
     "name": "stdout",
     "output_type": "stream",
     "text": [
      "concept:name\n"
     ]
    }
   ],
   "source": [
    "# import importlib\n",
    "# importlib.reload(evaluationData)\n",
    "\n",
    "placeboData, placebo_X, placebo_y, placebo_t = evaluationData.placeboTreatment(df)\n",
    "\n",
    "causeData, cause_X, cause_y, cause_t = evaluationData.randomCause(df)\n",
    "\n",
    "replaceData, replace_X, replace_y, replace_t, replaced_feature = evaluationData.randomReplace(df)\n",
    "print(replaced_feature)\n",
    "\n",
    "subsetData, subset_X, subset_y, subset_t = evaluationData.randomSubsetData(df)"
   ]
  },
  {
   "cell_type": "code",
   "execution_count": 31,
   "id": "bc0fb3fa-fb80-4f8a-b123-f3c0e137afb9",
   "metadata": {},
   "outputs": [
    {
     "name": "stdout",
     "output_type": "stream",
     "text": [
      "The average treatment effect (ATE) is  0.14709416\n"
     ]
    }
   ],
   "source": [
    "model.train(data=[placebo_t,placebo_y,placebo_X],n_iter=100, save_format='npy',verbose=False)"
   ]
  },
  {
   "cell_type": "code",
   "execution_count": 32,
   "id": "06758daf-c7f7-453e-9f5a-3231d73db9b3",
   "metadata": {},
   "outputs": [
    {
     "name": "stdout",
     "output_type": "stream",
     "text": [
      "The average treatment effect (ATE) is  0.09950337\n"
     ]
    }
   ],
   "source": [
    "#treatment (x), potential outcome (y), and covariates (v)\n",
    "params_cause = yaml.safe_load(open('egm-nn/bpi2017-CommonCause.yaml', 'r'))\n",
    "model_cause = cegm.CausalEGM(params=params_cause,random_seed=123)\n",
    "\n",
    "model_cause.train(data=[cause_t,cause_y,cause_X],n_iter=100, save_format='npy',verbose=False)"
   ]
  },
  {
   "cell_type": "code",
   "execution_count": 33,
   "id": "829dcc75-6faa-4745-8369-cb9f69c4002a",
   "metadata": {},
   "outputs": [
    {
     "name": "stdout",
     "output_type": "stream",
     "text": [
      "The average treatment effect (ATE) is  0.14270824\n"
     ]
    }
   ],
   "source": [
    "model.train(data=[replace_t,replace_y,replace_X],n_iter=100, save_format='npy',verbose=False)"
   ]
  },
  {
   "cell_type": "code",
   "execution_count": 34,
   "id": "d518acf8-cd21-4836-9047-0873d85b8cb1",
   "metadata": {},
   "outputs": [
    {
     "name": "stdout",
     "output_type": "stream",
     "text": [
      "The average treatment effect (ATE) is  0.13757065\n"
     ]
    }
   ],
   "source": [
    "model.train(data=[subset_t,subset_y,subset_X],n_iter=100, save_format='npy',verbose=False)"
   ]
  },
  {
   "cell_type": "code",
   "execution_count": 35,
   "id": "172f4f6e-bcf3-4b27-9349-e5b107c72572",
   "metadata": {},
   "outputs": [],
   "source": [
    "# result_placebo = np.load('./egm-nn/results/BPI2017/')\n",
    "# placebo_ate = result_placebo.mean()\n",
    "placebo_ate = 0.14709416\n",
    "cause_ate = 0.09950337\n",
    "subset_ate = 0.14270824\n",
    "replace_ate = 0.13757065"
   ]
  },
  {
   "cell_type": "code",
   "execution_count": 36,
   "id": "3c3c696c-3d2c-42f8-a44d-0a01adf75ede",
   "metadata": {},
   "outputs": [
    {
     "name": "stdout",
     "output_type": "stream",
     "text": [
      "Stored 'df_evaluation_results' (DataFrame)\n"
     ]
    }
   ],
   "source": [
    "%store -r df_evaluation_results\n",
    "method = \"CausalEGM\"\n",
    "\n",
    "if method in df_evaluation_results['method'].values:\n",
    "     # If the method is already in the DataFrame, update the ATE and ITE columns\n",
    "    df_evaluation_results.loc[df_evaluation_results['method'] == method, 'Random Common Cause ATE'] = cause_ate\n",
    "    df_evaluation_results.loc[df_evaluation_results['method'] == method, 'Placebo treatment ATE'] = placebo_ate\n",
    "    df_evaluation_results.loc[df_evaluation_results['method'] == method, 'Random Subset ATE'] = subset_ate\n",
    "    df_evaluation_results.loc[df_evaluation_results['method'] == method, 'Random Feature Replacement ATE'] = replace_ate\n",
    "    df_evaluation_results.loc[df_evaluation_results['method'] == method, 'Replaced Feature'] = replaced_feature\n",
    "else:\n",
    "    # If the method is not in the DataFrame, add a new row\n",
    "    df_evaluation_results = df_evaluation_results._append({'method': method, 'Random Common Cause ATE': cause_ate, 'Placebo treatment ATE': placebo_ate, 'Random Subset ATE': subset_ate, 'Random Feature Replacement ATE': replace_ate, 'Replaced Feature': replaced_feature}, ignore_index=True)\n",
    "\n",
    "%store df_evaluation_results"
   ]
  }
 ],
 "metadata": {
  "kernelspec": {
   "display_name": "egm",
   "language": "python",
   "name": "egm"
  },
  "language_info": {
   "codemirror_mode": {
    "name": "ipython",
    "version": 3
   },
   "file_extension": ".py",
   "mimetype": "text/x-python",
   "name": "python",
   "nbconvert_exporter": "python",
   "pygments_lexer": "ipython3",
   "version": "3.9.7"
  }
 },
 "nbformat": 4,
 "nbformat_minor": 5
}
