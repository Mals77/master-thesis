{
 "cells": [
  {
   "cell_type": "code",
   "execution_count": 9,
   "metadata": {},
   "outputs": [],
   "source": [
    "import importlib"
   ]
  },
  {
   "cell_type": "code",
   "execution_count": 1,
   "metadata": {},
   "outputs": [
    {
     "name": "stderr",
     "output_type": "stream",
     "text": [
      "C:\\Users\\Loui\\AppData\\Local\\Packages\\PythonSoftwareFoundation.Python.3.10_qbz5n2kfra8p0\\LocalCache\\local-packages\\Python310\\site-packages\\pm4py\\util\\dt_parsing\\parser.py:76: UserWarning: ISO8601 strings are not fully supported with strpfromiso for Python versions below 3.11\n",
      "  warnings.warn(\n",
      "C:\\Users\\Loui\\AppData\\Local\\Packages\\PythonSoftwareFoundation.Python.3.10_qbz5n2kfra8p0\\LocalCache\\local-packages\\Python310\\site-packages\\tqdm\\auto.py:21: TqdmWarning: IProgress not found. Please update jupyter and ipywidgets. See https://ipywidgets.readthedocs.io/en/stable/user_install.html\n",
      "  from .autonotebook import tqdm as notebook_tqdm\n",
      "parsing log, completed traces :: 100%|██████████| 31509/31509 [07:29<00:00, 70.10it/s] \n"
     ]
    }
   ],
   "source": [
    "#importlib.reload(readDataset)\n",
    "import readDataset\n",
    "log = readDataset.readData()"
   ]
  },
  {
   "cell_type": "code",
   "execution_count": 2,
   "metadata": {},
   "outputs": [
    {
     "data": {
      "text/plain": [
       "False"
      ]
     },
     "execution_count": 2,
     "metadata": {},
     "output_type": "execute_result"
    }
   ],
   "source": [
    "no_time = log['time:timestamp'].isnull().any() or log['time:timestamp'].isna().any()\n",
    "no_time"
   ]
  },
  {
   "cell_type": "markdown",
   "metadata": {},
   "source": [
    "General Information on the dataset and check of requirements."
   ]
  },
  {
   "cell_type": "code",
   "execution_count": 11,
   "metadata": {},
   "outputs": [
    {
     "name": "stdout",
     "output_type": "stream",
     "text": [
      "Requirements satisfied\n",
      "['Action' 'org:resource' 'concept:name' 'EventOrigin' 'EventID'\n",
      " 'lifecycle:transition' 'time:timestamp' 'case:LoanGoal'\n",
      " 'case:ApplicationType' 'case:concept:name' 'case:RequestedAmount'\n",
      " 'FirstWithdrawalAmount' 'NumberOfTerms' 'Accepted' 'MonthlyCost'\n",
      " 'Selected' 'CreditScore' 'OfferedAmount' 'OfferID']\n"
     ]
    }
   ],
   "source": [
    "#importlib.reload(generalInfo)\n",
    "import generalInfo\n",
    "generalInfo.infos(log)"
   ]
  },
  {
   "cell_type": "markdown",
   "metadata": {},
   "source": [
    "Delete all unfinished cases"
   ]
  },
  {
   "cell_type": "code",
   "execution_count": 14,
   "metadata": {},
   "outputs": [
    {
     "name": "stdout",
     "output_type": "stream",
     "text": [
      "Number of relevant (finished) cases:  31411\n",
      "Number of unfinished cases:  98\n"
     ]
    },
    {
     "data": {
      "text/html": [
       "<div>\n",
       "<style scoped>\n",
       "    .dataframe tbody tr th:only-of-type {\n",
       "        vertical-align: middle;\n",
       "    }\n",
       "\n",
       "    .dataframe tbody tr th {\n",
       "        vertical-align: top;\n",
       "    }\n",
       "\n",
       "    .dataframe thead th {\n",
       "        text-align: right;\n",
       "    }\n",
       "</style>\n",
       "<table border=\"1\" class=\"dataframe\">\n",
       "  <thead>\n",
       "    <tr style=\"text-align: right;\">\n",
       "      <th></th>\n",
       "      <th>Action</th>\n",
       "      <th>org:resource</th>\n",
       "      <th>concept:name</th>\n",
       "      <th>EventOrigin</th>\n",
       "      <th>EventID</th>\n",
       "      <th>lifecycle:transition</th>\n",
       "      <th>time:timestamp</th>\n",
       "      <th>case:LoanGoal</th>\n",
       "      <th>case:ApplicationType</th>\n",
       "      <th>case:concept:name</th>\n",
       "      <th>case:RequestedAmount</th>\n",
       "      <th>FirstWithdrawalAmount</th>\n",
       "      <th>NumberOfTerms</th>\n",
       "      <th>Accepted</th>\n",
       "      <th>MonthlyCost</th>\n",
       "      <th>Selected</th>\n",
       "      <th>CreditScore</th>\n",
       "      <th>OfferedAmount</th>\n",
       "      <th>OfferID</th>\n",
       "    </tr>\n",
       "  </thead>\n",
       "  <tbody>\n",
       "    <tr>\n",
       "      <th>0</th>\n",
       "      <td>Created</td>\n",
       "      <td>User_1</td>\n",
       "      <td>A_Create Application</td>\n",
       "      <td>Application</td>\n",
       "      <td>Application_652823628</td>\n",
       "      <td>complete</td>\n",
       "      <td>2016-01-01 09:51:15.304000+00:00</td>\n",
       "      <td>Existing loan takeover</td>\n",
       "      <td>New credit</td>\n",
       "      <td>Application_652823628</td>\n",
       "      <td>20000.0</td>\n",
       "      <td>NaN</td>\n",
       "      <td>NaN</td>\n",
       "      <td>NaN</td>\n",
       "      <td>NaN</td>\n",
       "      <td>NaN</td>\n",
       "      <td>NaN</td>\n",
       "      <td>NaN</td>\n",
       "      <td>NaN</td>\n",
       "    </tr>\n",
       "    <tr>\n",
       "      <th>1</th>\n",
       "      <td>statechange</td>\n",
       "      <td>User_1</td>\n",
       "      <td>A_Submitted</td>\n",
       "      <td>Application</td>\n",
       "      <td>ApplState_1582051990</td>\n",
       "      <td>complete</td>\n",
       "      <td>2016-01-01 09:51:15.352000+00:00</td>\n",
       "      <td>Existing loan takeover</td>\n",
       "      <td>New credit</td>\n",
       "      <td>Application_652823628</td>\n",
       "      <td>20000.0</td>\n",
       "      <td>NaN</td>\n",
       "      <td>NaN</td>\n",
       "      <td>NaN</td>\n",
       "      <td>NaN</td>\n",
       "      <td>NaN</td>\n",
       "      <td>NaN</td>\n",
       "      <td>NaN</td>\n",
       "      <td>NaN</td>\n",
       "    </tr>\n",
       "    <tr>\n",
       "      <th>2</th>\n",
       "      <td>Created</td>\n",
       "      <td>User_1</td>\n",
       "      <td>W_Handle leads</td>\n",
       "      <td>Workflow</td>\n",
       "      <td>Workitem_1298499574</td>\n",
       "      <td>schedule</td>\n",
       "      <td>2016-01-01 09:51:15.774000+00:00</td>\n",
       "      <td>Existing loan takeover</td>\n",
       "      <td>New credit</td>\n",
       "      <td>Application_652823628</td>\n",
       "      <td>20000.0</td>\n",
       "      <td>NaN</td>\n",
       "      <td>NaN</td>\n",
       "      <td>NaN</td>\n",
       "      <td>NaN</td>\n",
       "      <td>NaN</td>\n",
       "      <td>NaN</td>\n",
       "      <td>NaN</td>\n",
       "      <td>NaN</td>\n",
       "    </tr>\n",
       "    <tr>\n",
       "      <th>3</th>\n",
       "      <td>Deleted</td>\n",
       "      <td>User_1</td>\n",
       "      <td>W_Handle leads</td>\n",
       "      <td>Workflow</td>\n",
       "      <td>Workitem_1673366067</td>\n",
       "      <td>withdraw</td>\n",
       "      <td>2016-01-01 09:52:36.392000+00:00</td>\n",
       "      <td>Existing loan takeover</td>\n",
       "      <td>New credit</td>\n",
       "      <td>Application_652823628</td>\n",
       "      <td>20000.0</td>\n",
       "      <td>NaN</td>\n",
       "      <td>NaN</td>\n",
       "      <td>NaN</td>\n",
       "      <td>NaN</td>\n",
       "      <td>NaN</td>\n",
       "      <td>NaN</td>\n",
       "      <td>NaN</td>\n",
       "      <td>NaN</td>\n",
       "    </tr>\n",
       "    <tr>\n",
       "      <th>4</th>\n",
       "      <td>Created</td>\n",
       "      <td>User_1</td>\n",
       "      <td>W_Complete application</td>\n",
       "      <td>Workflow</td>\n",
       "      <td>Workitem_1493664571</td>\n",
       "      <td>schedule</td>\n",
       "      <td>2016-01-01 09:52:36.403000+00:00</td>\n",
       "      <td>Existing loan takeover</td>\n",
       "      <td>New credit</td>\n",
       "      <td>Application_652823628</td>\n",
       "      <td>20000.0</td>\n",
       "      <td>NaN</td>\n",
       "      <td>NaN</td>\n",
       "      <td>NaN</td>\n",
       "      <td>NaN</td>\n",
       "      <td>NaN</td>\n",
       "      <td>NaN</td>\n",
       "      <td>NaN</td>\n",
       "      <td>NaN</td>\n",
       "    </tr>\n",
       "  </tbody>\n",
       "</table>\n",
       "</div>"
      ],
      "text/plain": [
       "        Action org:resource            concept:name  EventOrigin  \\\n",
       "0      Created       User_1    A_Create Application  Application   \n",
       "1  statechange       User_1             A_Submitted  Application   \n",
       "2      Created       User_1          W_Handle leads     Workflow   \n",
       "3      Deleted       User_1          W_Handle leads     Workflow   \n",
       "4      Created       User_1  W_Complete application     Workflow   \n",
       "\n",
       "                 EventID lifecycle:transition  \\\n",
       "0  Application_652823628             complete   \n",
       "1   ApplState_1582051990             complete   \n",
       "2    Workitem_1298499574             schedule   \n",
       "3    Workitem_1673366067             withdraw   \n",
       "4    Workitem_1493664571             schedule   \n",
       "\n",
       "                    time:timestamp           case:LoanGoal  \\\n",
       "0 2016-01-01 09:51:15.304000+00:00  Existing loan takeover   \n",
       "1 2016-01-01 09:51:15.352000+00:00  Existing loan takeover   \n",
       "2 2016-01-01 09:51:15.774000+00:00  Existing loan takeover   \n",
       "3 2016-01-01 09:52:36.392000+00:00  Existing loan takeover   \n",
       "4 2016-01-01 09:52:36.403000+00:00  Existing loan takeover   \n",
       "\n",
       "  case:ApplicationType      case:concept:name  case:RequestedAmount  \\\n",
       "0           New credit  Application_652823628               20000.0   \n",
       "1           New credit  Application_652823628               20000.0   \n",
       "2           New credit  Application_652823628               20000.0   \n",
       "3           New credit  Application_652823628               20000.0   \n",
       "4           New credit  Application_652823628               20000.0   \n",
       "\n",
       "   FirstWithdrawalAmount  NumberOfTerms Accepted  MonthlyCost Selected  \\\n",
       "0                    NaN            NaN      NaN          NaN      NaN   \n",
       "1                    NaN            NaN      NaN          NaN      NaN   \n",
       "2                    NaN            NaN      NaN          NaN      NaN   \n",
       "3                    NaN            NaN      NaN          NaN      NaN   \n",
       "4                    NaN            NaN      NaN          NaN      NaN   \n",
       "\n",
       "   CreditScore  OfferedAmount OfferID  \n",
       "0          NaN            NaN     NaN  \n",
       "1          NaN            NaN     NaN  \n",
       "2          NaN            NaN     NaN  \n",
       "3          NaN            NaN     NaN  \n",
       "4          NaN            NaN     NaN  "
      ]
     },
     "execution_count": 14,
     "metadata": {},
     "output_type": "execute_result"
    }
   ],
   "source": [
    "#importlib.reload(finishedCases)\n",
    "import finishedCases\n",
    "finishedCasesLog = finishedCases.deleteUnfinishedCases(log)\n",
    "finishedCasesLog.head()"
   ]
  },
  {
   "cell_type": "markdown",
   "metadata": {},
   "source": [
    "There are 98 unfinished cases which are filtered out."
   ]
  },
  {
   "cell_type": "markdown",
   "metadata": {},
   "source": [
    "Number of Cases with multiple offers"
   ]
  },
  {
   "cell_type": "code",
   "execution_count": 19,
   "metadata": {},
   "outputs": [
    {
     "name": "stdout",
     "output_type": "stream",
     "text": [
      "Total amount of made offers: 42815\n",
      "More than 1 offer: 8511\n",
      "offer_0: 0\n",
      "offer_1: 22900\n",
      "offer_2: 6549\n",
      "offer_3: 1337\n",
      "offer_4: 438\n",
      "offer_5: 125\n",
      "offer_6: 29\n",
      "offer_7: 16\n",
      "offer_8: 12\n",
      "offer_9: 3\n",
      "offer_10: 2\n",
      "More than 10 offers: 0\n"
     ]
    }
   ],
   "source": [
    "#importlib.reload(analysisCases)\n",
    "import analysisCases\n",
    "analysisCases.analysis(finishedCasesLog)"
   ]
  },
  {
   "cell_type": "code",
   "execution_count": null,
   "metadata": {},
   "outputs": [],
   "source": [
    "import readDataset\n",
    "finishedCasesLog = readDataset.readfinishedLog()\n"
   ]
  },
  {
   "cell_type": "markdown",
   "metadata": {},
   "source": [
    "Add a column with the number of offers made and add a column to indicate wether the case was treated or not"
   ]
  },
  {
   "cell_type": "code",
   "execution_count": null,
   "metadata": {},
   "outputs": [],
   "source": [
    "#importlib.reload(enhanceDataset)\n",
    "import enhanceDataset\n",
    "#TODO: check if the treatement indication works like this\n",
    "#TODO: add column successfull or not successful\n",
    "#enhancedLog = enhanceDataset.enhancement(finishedCasesLog)\n"
   ]
  },
  {
   "cell_type": "code",
   "execution_count": 74,
   "metadata": {},
   "outputs": [
    {
     "name": "stderr",
     "output_type": "stream",
     "text": [
      "C:\\Users\\Loui\\AppData\\Local\\Packages\\PythonSoftwareFoundation.Python.3.10_qbz5n2kfra8p0\\LocalCache\\local-packages\\Python310\\site-packages\\pm4py\\utils.py:495: UserWarning: the EventLog class has been deprecated and will be removed in a future release.\n",
      "  warnings.warn(\"the EventLog class has been deprecated and will be removed in a future release.\")\n",
      "exporting log, completed traces :: 100%|██████████| 31411/31411 [04:29<00:00, 116.50it/s]\n"
     ]
    }
   ],
   "source": [
    "#log_finishedCases = pm4py.convert_to_event_log(finishedCases)\n",
    "#pm4py.write_xes(log_finishedCases, 'bpi2017_finishedCases.xes')"
   ]
  }
 ],
 "metadata": {
  "kernelspec": {
   "display_name": "Python 3 (ipykernel)",
   "language": "python",
   "name": "python3"
  },
  "language_info": {
   "codemirror_mode": {
    "name": "ipython",
    "version": 3
   },
   "file_extension": ".py",
   "mimetype": "text/x-python",
   "name": "python",
   "nbconvert_exporter": "python",
   "pygments_lexer": "ipython3",
   "version": "3.9.7"
  }
 },
 "nbformat": 4,
 "nbformat_minor": 4
}
