{
 "cells": [
  {
   "cell_type": "code",
   "execution_count": null,
   "id": "6de59cdc-1063-4081-a872-fa08b74fffbc",
   "metadata": {},
   "outputs": [],
   "source": []
  },
  {
   "cell_type": "code",
   "execution_count": 1,
   "id": "6704b89e-214c-4539-b167-14bd2d8cec70",
   "metadata": {},
   "outputs": [
    {
     "ename": "ModuleNotFoundError",
     "evalue": "No module named 'causaltune'",
     "output_type": "error",
     "traceback": [
      "\u001b[0;31m---------------------------------------------------------------------------\u001b[0m",
      "\u001b[0;31mModuleNotFoundError\u001b[0m                       Traceback (most recent call last)",
      "Cell \u001b[0;32mIn[1], line 1\u001b[0m\n\u001b[0;32m----> 1\u001b[0m \u001b[38;5;28;01mfrom\u001b[39;00m \u001b[38;5;21;01mcausaltune\u001b[39;00m \u001b[38;5;28;01mimport\u001b[39;00m CausalTune\n",
      "\u001b[0;31mModuleNotFoundError\u001b[0m: No module named 'causaltune'"
     ]
    }
   ],
   "source": [
    "from causaltune import CausalTune"
   ]
  },
  {
   "cell_type": "code",
   "execution_count": null,
   "id": "281221d8-97cc-43c8-9171-7ec517efc346",
   "metadata": {},
   "outputs": [],
   "source": [
    "# prepare dataset\n",
    "df = pd.read_csv(\"bpi2017_filledLog.csv\")\n",
    "df['treatment'] = df['treatment'].replace({'treated': 1, 'notTreated': 0})\n",
    "data = df\n",
    "data.preprocess_dataset()"
   ]
  },
  {
   "cell_type": "code",
   "execution_count": null,
   "id": "12d2a5c0-c94c-4408-a3b0-b128f4a64115",
   "metadata": {},
   "outputs": [],
   "source": [
    "# init CausalTune object with chosen metric to optimise\n",
    "ct = CausalTune(time_budget=600, metric=\"energy_distance\")\n",
    "\n",
    "# run CausalTune\n",
    "ct.fit(data)\n",
    "\n",
    "# return best estimator\n",
    "print(f\"Best estimator: {ct.best_estimator}\")"
   ]
  }
 ],
 "metadata": {
  "kernelspec": {
   "display_name": "Python (thesis)",
   "language": "python",
   "name": "thesis"
  },
  "language_info": {
   "codemirror_mode": {
    "name": "ipython",
    "version": 3
   },
   "file_extension": ".py",
   "mimetype": "text/x-python",
   "name": "python",
   "nbconvert_exporter": "python",
   "pygments_lexer": "ipython3",
   "version": "3.9.7"
  }
 },
 "nbformat": 4,
 "nbformat_minor": 5
}
