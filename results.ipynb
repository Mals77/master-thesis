{
 "cells": [
  {
   "cell_type": "code",
   "execution_count": 1,
   "id": "8933f440-dd65-43e0-b1d7-3461a7d4f247",
   "metadata": {},
   "outputs": [],
   "source": [
    "import pandas as pd"
   ]
  },
  {
   "cell_type": "code",
   "execution_count": 2,
   "id": "c09fbf72-a7e9-47d3-84c8-b48ff1b87407",
   "metadata": {},
   "outputs": [],
   "source": [
    "df_results = pd.DataFrame(columns=['method', 'ATE', 'ITE', 'Library', 'other'])"
   ]
  },
  {
   "cell_type": "code",
   "execution_count": 3,
   "id": "030e9b82-4a3f-438d-988c-8cd8f9a0575d",
   "metadata": {},
   "outputs": [
    {
     "name": "stdout",
     "output_type": "stream",
     "text": [
      "Stored 'df_results' (DataFrame)\n"
     ]
    }
   ],
   "source": [
    "%store df_results"
   ]
  },
  {
   "cell_type": "code",
   "execution_count": 5,
   "id": "02154cee-2f3b-42c1-a42c-59aa15b9b5c2",
   "metadata": {},
   "outputs": [
    {
     "data": {
      "text/html": [
       "<div>\n",
       "<style scoped>\n",
       "    .dataframe tbody tr th:only-of-type {\n",
       "        vertical-align: middle;\n",
       "    }\n",
       "\n",
       "    .dataframe tbody tr th {\n",
       "        vertical-align: top;\n",
       "    }\n",
       "\n",
       "    .dataframe thead th {\n",
       "        text-align: right;\n",
       "    }\n",
       "</style>\n",
       "<table border=\"1\" class=\"dataframe\">\n",
       "  <thead>\n",
       "    <tr style=\"text-align: right;\">\n",
       "      <th></th>\n",
       "      <th>method</th>\n",
       "      <th>ATE</th>\n",
       "      <th>ITE</th>\n",
       "      <th>other</th>\n",
       "    </tr>\n",
       "  </thead>\n",
       "  <tbody>\n",
       "    <tr>\n",
       "      <th>0</th>\n",
       "      <td>Propensity Score Matching</td>\n",
       "      <td>-0.030569</td>\n",
       "      <td>NaN</td>\n",
       "      <td>NaN</td>\n",
       "    </tr>\n",
       "  </tbody>\n",
       "</table>\n",
       "</div>"
      ],
      "text/plain": [
       "                      method       ATE  ITE other\n",
       "0  Propensity Score Matching -0.030569  NaN   NaN"
      ]
     },
     "execution_count": 5,
     "metadata": {},
     "output_type": "execute_result"
    }
   ],
   "source": [
    "%store -r df_results\n",
    "df_results"
   ]
  },
  {
   "cell_type": "markdown",
   "id": "f8eb12f9-e775-429b-b105-0d3325bf60c2",
   "metadata": {},
   "source": [
    "### Plots"
   ]
  },
  {
   "cell_type": "code",
   "execution_count": null,
   "id": "cb30a16b-9b2a-41bb-a9c6-dad0228cd4b8",
   "metadata": {},
   "outputs": [],
   "source": [
    "#histogram gives the ITE\n",
    "alpha=0.2\n",
    "bins=30\n",
    "plt.figure(figsize=(12,8))\n",
    "plt.hist(cate_t, alpha=alpha, bins=bins, label='T Learner')\n",
    "plt.hist(cate_x_no_p, alpha=alpha, bins=bins, label='X Learner (no propensity score)')\n",
    "plt.hist(cate_r_no_p, alpha=alpha, bins=bins, label='R Learner (no propensity score)')\n",
    "plt.vlines(cate_s[0], ymin=0, ymax=500000, label='S Learner', linestyles='dotted', colors='green', linewidth=2)\n",
    "plt.title('Distribution of CATE Predictions by Meta Learner')\n",
    "plt.xlabel('Individual Treatment Effect (ITE/CATE)')\n",
    "plt.ylabel('# of Samples')\n",
    "_=plt.legend()"
   ]
  }
 ],
 "metadata": {
  "kernelspec": {
   "display_name": "thesis",
   "language": "python",
   "name": "thesis"
  },
  "language_info": {
   "codemirror_mode": {
    "name": "ipython",
    "version": 3
   },
   "file_extension": ".py",
   "mimetype": "text/x-python",
   "name": "python",
   "nbconvert_exporter": "python",
   "pygments_lexer": "ipython3",
   "version": "3.9.7"
  }
 },
 "nbformat": 4,
 "nbformat_minor": 5
}
