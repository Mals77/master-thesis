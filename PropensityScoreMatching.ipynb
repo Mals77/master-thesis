{
 "cells": [
  {
   "cell_type": "code",
   "execution_count": 1,
   "id": "364549bd-35d6-4cad-801a-c11a846449b7",
   "metadata": {},
   "outputs": [],
   "source": [
    "import numpy as np\n",
    "import pandas as pd\n",
    "import dowhy\n",
    "from dowhy import CausalModel\n",
    "import networkx as nx"
   ]
  },
  {
   "cell_type": "code",
   "execution_count": 3,
   "id": "760cc708-7d1b-4b9f-b041-7605c6b276fa",
   "metadata": {},
   "outputs": [
    {
     "name": "stdout",
     "output_type": "stream",
     "text": [
      "Index(['case:concept:name', 'NumberOfOffers', 'Action', 'org:resource',\n",
      "       'concept:name', 'EventOrigin', 'lifecycle:transition', 'time:timestamp',\n",
      "       'case:LoanGoal', 'case:ApplicationType', 'case:RequestedAmount',\n",
      "       'FirstWithdrawalAmount', 'NumberOfTerms', 'Accepted', 'MonthlyCost',\n",
      "       'Selected', 'CreditScore', 'OfferedAmount', 'treatedCase',\n",
      "       'caseSuccesful', 'treatmentSuccess', 'offerNumber', 'offerSuccess',\n",
      "       'treatmentOffer', 'timeApplication', 'weekdayApplication'],\n",
      "      dtype='object')\n"
     ]
    },
    {
     "data": {
      "text/html": [
       "<div>\n",
       "<style scoped>\n",
       "    .dataframe tbody tr th:only-of-type {\n",
       "        vertical-align: middle;\n",
       "    }\n",
       "\n",
       "    .dataframe tbody tr th {\n",
       "        vertical-align: top;\n",
       "    }\n",
       "\n",
       "    .dataframe thead th {\n",
       "        text-align: right;\n",
       "    }\n",
       "</style>\n",
       "<table border=\"1\" class=\"dataframe\">\n",
       "  <thead>\n",
       "    <tr style=\"text-align: right;\">\n",
       "      <th></th>\n",
       "      <th>case:concept:name</th>\n",
       "      <th>NumberOfOffers</th>\n",
       "      <th>Action</th>\n",
       "      <th>org:resource</th>\n",
       "      <th>concept:name</th>\n",
       "      <th>EventOrigin</th>\n",
       "      <th>lifecycle:transition</th>\n",
       "      <th>time:timestamp</th>\n",
       "      <th>case:LoanGoal</th>\n",
       "      <th>case:ApplicationType</th>\n",
       "      <th>...</th>\n",
       "      <th>CreditScore</th>\n",
       "      <th>OfferedAmount</th>\n",
       "      <th>treatedCase</th>\n",
       "      <th>caseSuccesful</th>\n",
       "      <th>treatmentSuccess</th>\n",
       "      <th>offerNumber</th>\n",
       "      <th>offerSuccess</th>\n",
       "      <th>treatmentOffer</th>\n",
       "      <th>timeApplication</th>\n",
       "      <th>weekdayApplication</th>\n",
       "    </tr>\n",
       "  </thead>\n",
       "  <tbody>\n",
       "    <tr>\n",
       "      <th>0</th>\n",
       "      <td>0.0</td>\n",
       "      <td>1.0</td>\n",
       "      <td>0.0</td>\n",
       "      <td>0.0</td>\n",
       "      <td>4.0</td>\n",
       "      <td>0.0</td>\n",
       "      <td>1.0</td>\n",
       "      <td>651433.0</td>\n",
       "      <td>10.0</td>\n",
       "      <td>1.0</td>\n",
       "      <td>...</td>\n",
       "      <td>0.0</td>\n",
       "      <td>5000.0</td>\n",
       "      <td>0.0</td>\n",
       "      <td>0.0</td>\n",
       "      <td>0.0</td>\n",
       "      <td>1.0</td>\n",
       "      <td>0.0</td>\n",
       "      <td>0.0</td>\n",
       "      <td>0.000</td>\n",
       "      <td>2.0</td>\n",
       "    </tr>\n",
       "    <tr>\n",
       "      <th>1</th>\n",
       "      <td>0.0</td>\n",
       "      <td>1.0</td>\n",
       "      <td>4.0</td>\n",
       "      <td>0.0</td>\n",
       "      <td>8.0</td>\n",
       "      <td>0.0</td>\n",
       "      <td>1.0</td>\n",
       "      <td>651434.0</td>\n",
       "      <td>10.0</td>\n",
       "      <td>1.0</td>\n",
       "      <td>...</td>\n",
       "      <td>0.0</td>\n",
       "      <td>5000.0</td>\n",
       "      <td>0.0</td>\n",
       "      <td>0.0</td>\n",
       "      <td>0.0</td>\n",
       "      <td>1.0</td>\n",
       "      <td>0.0</td>\n",
       "      <td>0.0</td>\n",
       "      <td>0.061</td>\n",
       "      <td>2.0</td>\n",
       "    </tr>\n",
       "    <tr>\n",
       "      <th>2</th>\n",
       "      <td>0.0</td>\n",
       "      <td>1.0</td>\n",
       "      <td>0.0</td>\n",
       "      <td>0.0</td>\n",
       "      <td>22.0</td>\n",
       "      <td>2.0</td>\n",
       "      <td>3.0</td>\n",
       "      <td>651435.0</td>\n",
       "      <td>10.0</td>\n",
       "      <td>1.0</td>\n",
       "      <td>...</td>\n",
       "      <td>0.0</td>\n",
       "      <td>5000.0</td>\n",
       "      <td>0.0</td>\n",
       "      <td>0.0</td>\n",
       "      <td>0.0</td>\n",
       "      <td>1.0</td>\n",
       "      <td>0.0</td>\n",
       "      <td>0.0</td>\n",
       "      <td>0.290</td>\n",
       "      <td>2.0</td>\n",
       "    </tr>\n",
       "    <tr>\n",
       "      <th>3</th>\n",
       "      <td>0.0</td>\n",
       "      <td>1.0</td>\n",
       "      <td>1.0</td>\n",
       "      <td>0.0</td>\n",
       "      <td>22.0</td>\n",
       "      <td>2.0</td>\n",
       "      <td>6.0</td>\n",
       "      <td>651437.0</td>\n",
       "      <td>10.0</td>\n",
       "      <td>1.0</td>\n",
       "      <td>...</td>\n",
       "      <td>0.0</td>\n",
       "      <td>5000.0</td>\n",
       "      <td>0.0</td>\n",
       "      <td>0.0</td>\n",
       "      <td>0.0</td>\n",
       "      <td>1.0</td>\n",
       "      <td>0.0</td>\n",
       "      <td>0.0</td>\n",
       "      <td>66.613</td>\n",
       "      <td>2.0</td>\n",
       "    </tr>\n",
       "    <tr>\n",
       "      <th>4</th>\n",
       "      <td>0.0</td>\n",
       "      <td>1.0</td>\n",
       "      <td>0.0</td>\n",
       "      <td>0.0</td>\n",
       "      <td>21.0</td>\n",
       "      <td>2.0</td>\n",
       "      <td>3.0</td>\n",
       "      <td>651438.0</td>\n",
       "      <td>10.0</td>\n",
       "      <td>1.0</td>\n",
       "      <td>...</td>\n",
       "      <td>0.0</td>\n",
       "      <td>5000.0</td>\n",
       "      <td>0.0</td>\n",
       "      <td>0.0</td>\n",
       "      <td>0.0</td>\n",
       "      <td>1.0</td>\n",
       "      <td>0.0</td>\n",
       "      <td>0.0</td>\n",
       "      <td>66.620</td>\n",
       "      <td>2.0</td>\n",
       "    </tr>\n",
       "  </tbody>\n",
       "</table>\n",
       "<p>5 rows × 26 columns</p>\n",
       "</div>"
      ],
      "text/plain": [
       "   case:concept:name  NumberOfOffers  Action  org:resource  concept:name  \\\n",
       "0                0.0             1.0     0.0           0.0           4.0   \n",
       "1                0.0             1.0     4.0           0.0           8.0   \n",
       "2                0.0             1.0     0.0           0.0          22.0   \n",
       "3                0.0             1.0     1.0           0.0          22.0   \n",
       "4                0.0             1.0     0.0           0.0          21.0   \n",
       "\n",
       "   EventOrigin  lifecycle:transition  time:timestamp  case:LoanGoal  \\\n",
       "0          0.0                   1.0        651433.0           10.0   \n",
       "1          0.0                   1.0        651434.0           10.0   \n",
       "2          2.0                   3.0        651435.0           10.0   \n",
       "3          2.0                   6.0        651437.0           10.0   \n",
       "4          2.0                   3.0        651438.0           10.0   \n",
       "\n",
       "   case:ApplicationType  ...  CreditScore  OfferedAmount  treatedCase  \\\n",
       "0                   1.0  ...          0.0         5000.0          0.0   \n",
       "1                   1.0  ...          0.0         5000.0          0.0   \n",
       "2                   1.0  ...          0.0         5000.0          0.0   \n",
       "3                   1.0  ...          0.0         5000.0          0.0   \n",
       "4                   1.0  ...          0.0         5000.0          0.0   \n",
       "\n",
       "   caseSuccesful  treatmentSuccess  offerNumber  offerSuccess  treatmentOffer  \\\n",
       "0            0.0               0.0          1.0           0.0             0.0   \n",
       "1            0.0               0.0          1.0           0.0             0.0   \n",
       "2            0.0               0.0          1.0           0.0             0.0   \n",
       "3            0.0               0.0          1.0           0.0             0.0   \n",
       "4            0.0               0.0          1.0           0.0             0.0   \n",
       "\n",
       "   timeApplication  weekdayApplication  \n",
       "0            0.000                 2.0  \n",
       "1            0.061                 2.0  \n",
       "2            0.290                 2.0  \n",
       "3           66.613                 2.0  \n",
       "4           66.620                 2.0  \n",
       "\n",
       "[5 rows x 26 columns]"
      ]
     },
     "execution_count": 3,
     "metadata": {},
     "output_type": "execute_result"
    }
   ],
   "source": [
    "df = pd.read_csv(\"bpi2017_final.csv\")\n",
    "print(df.columns)\n",
    "df.head()"
   ]
  },
  {
   "cell_type": "code",
   "execution_count": 3,
   "id": "d1eebffa-6b3d-4b82-ac8c-9120fe1d94ce",
   "metadata": {},
   "outputs": [],
   "source": [
    "#decide on features based on dot_graph\n",
    "treatment=df['treatmentOffer']\n",
    "features = df[['FirstWithdrawalAmount', 'NumberOfTerms', 'MonthlyCost', 'CreditScore', 'OfferedAmount']]\n",
    "y=df['offerSuccess']"
   ]
  },
  {
   "cell_type": "code",
   "execution_count": 11,
   "id": "92aa94f2-4130-4eb2-8f3b-fd8e48daad00",
   "metadata": {},
   "outputs": [],
   "source": [
    "dot_graph = nx.DiGraph ([('treatment', 'successful'), ('OfferedAmount', 'successful'), ('FirstWithdrawalAmount','successful'), ('NumberOfTerms', 'successful'), ('MonthlyCost', 'successful'), ('CreditScore', 'MonthlyCost'), ('CreditScore', 'NumberOfTerms'), ('CreditScore', 'OfferedAmount'),  ('CreditScore', 'FirstWithdrawalAmount'), ('CreditScore', 'treatment')])"
   ]
  },
  {
   "cell_type": "code",
   "execution_count": 13,
   "id": "4b6cebc0-6865-419d-998c-a03e8b435fa9",
   "metadata": {},
   "outputs": [],
   "source": [
    "model = CausalModel(\n",
    "   data=df, # some pandas dataframe\n",
    "   treatment='treatment',\n",
    "   outcome='successful',\n",
    "   graph=\"\\n\".join(nx.generate_gml(dot_graph))\n",
    ")"
   ]
  },
  {
   "cell_type": "code",
   "execution_count": 14,
   "id": "c5112cfc-d267-495c-ac1d-820662838bc7",
   "metadata": {},
   "outputs": [
    {
     "data": {
      "image/png": "[encoded data removed]",
      "text/plain": [
       "<Figure size 800x600 with 1 Axes>"
      ]
     },
     "metadata": {},
     "output_type": "display_data"
    }
   ],
   "source": [
    "model.view_model()"
   ]
  },
  {
   "cell_type": "code",
   "execution_count": 15,
   "id": "be5d8399-b267-40d9-ad91-150d913dcb71",
   "metadata": {},
   "outputs": [
    {
     "name": "stdout",
     "output_type": "stream",
     "text": [
      "Estimand type: EstimandType.NONPARAMETRIC_ATE\n",
      "\n",
      "### Estimand : 1\n",
      "Estimand name: backdoor\n",
      "Estimand expression:\n",
      "     d                                 \n",
      "────────────(E[successful|CreditScore])\n",
      "d[treatment]                           \n",
      "Estimand assumption 1, Unconfoundedness: If U→{treatment} and U→successful then P(successful|treatment,CreditScore,U) = P(successful|treatment,CreditScore)\n",
      "\n",
      "### Estimand : 2\n",
      "Estimand name: iv\n",
      "No such variable(s) found!\n",
      "\n",
      "### Estimand : 3\n",
      "Estimand name: frontdoor\n",
      "No such variable(s) found!\n",
      "\n"
     ]
    }
   ],
   "source": [
    "identified_estimand= model.identify_effect(proceed_when_unidentifiable=True)\n",
    "print(identified_estimand)"
   ]
  },
  {
   "cell_type": "markdown",
   "id": "9956c796-6e7a-46e8-9073-6e4a24f776f1",
   "metadata": {},
   "source": [
    "IPW Weighting"
   ]
  },
  {
   "cell_type": "code",
   "execution_count": 16,
   "id": "2aa58ff4-b94f-401c-b4c9-ffc8a199f6a2",
   "metadata": {},
   "outputs": [
    {
     "name": "stderr",
     "output_type": "stream",
     "text": [
      "/pfs/data5/home/ma/ma_ma/ma_mskiera/dowhy/lib64/python3.9/site-packages/sklearn/utils/validation.py:623: FutureWarning: is_sparse is deprecated and will be removed in a future version. Check `isinstance(dtype, pd.SparseDtype)` instead.\n",
      "  if not hasattr(array, \"sparse\") and array.dtypes.apply(is_sparse).any():\n",
      "/pfs/data5/home/ma/ma_ma/ma_mskiera/dowhy/lib64/python3.9/site-packages/sklearn/utils/validation.py:623: FutureWarning: is_sparse is deprecated and will be removed in a future version. Check `isinstance(dtype, pd.SparseDtype)` instead.\n",
      "  if not hasattr(array, \"sparse\") and array.dtypes.apply(is_sparse).any():\n"
     ]
    },
    {
     "name": "stdout",
     "output_type": "stream",
     "text": [
      "*** Causal Estimate ***\n",
      "\n",
      "## Identified estimand\n",
      "Estimand type: EstimandType.NONPARAMETRIC_ATE\n",
      "\n",
      "### Estimand : 1\n",
      "Estimand name: backdoor\n",
      "Estimand expression:\n",
      "     d                                 \n",
      "────────────(E[successful|CreditScore])\n",
      "d[treatment]                           \n",
      "Estimand assumption 1, Unconfoundedness: If U→{treatment} and U→successful then P(successful|treatment,CreditScore,U) = P(successful|treatment,CreditScore)\n",
      "\n",
      "## Realized estimand\n",
      "b: successful~treatment+CreditScore\n",
      "Target units: ate\n",
      "\n",
      "## Estimate\n",
      "Mean value: 0.183595818494109\n",
      "\n",
      "Causal Estimate is 0.183595818494109\n"
     ]
    }
   ],
   "source": [
    "#Vanilla Inverse Propensity Score weighting (IPS)\n",
    "causal_estimate_ipw = model.estimate_effect(identified_estimand,\n",
    "                                            method_name=\"backdoor.propensity_score_weighting\",\n",
    "                                            target_units = \"ate\",\n",
    "                                            method_params={\"weighting_scheme\":\"ips_weight\"})\n",
    "print(causal_estimate_ipw)\n",
    "print(\"Causal Estimate is \" + str(causal_estimate_ipw.value))"
   ]
  },
  {
   "cell_type": "code",
   "execution_count": 17,
   "id": "213adcdd-3aba-40a7-9d0c-967907bfac7f",
   "metadata": {},
   "outputs": [
    {
     "name": "stdout",
     "output_type": "stream",
     "text": [
      "*** Causal Estimate ***\n",
      "\n",
      "## Identified estimand\n",
      "Estimand type: EstimandType.NONPARAMETRIC_ATE\n",
      "\n",
      "### Estimand : 1\n",
      "Estimand name: backdoor\n",
      "Estimand expression:\n",
      "     d                                 \n",
      "────────────(E[successful|CreditScore])\n",
      "d[treatment]                           \n",
      "Estimand assumption 1, Unconfoundedness: If U→{treatment} and U→successful then P(successful|treatment,CreditScore,U) = P(successful|treatment,CreditScore)\n",
      "\n",
      "## Realized estimand\n",
      "b: successful~treatment+CreditScore\n",
      "Target units: ate\n",
      "\n",
      "## Estimate\n",
      "Mean value: 0.1835958184941091\n",
      "\n",
      "IPW Hajek Causal Estimate is 0.1835958184941091\n",
      "*** Causal Estimate ***\n",
      "\n",
      "## Identified estimand\n",
      "Estimand type: EstimandType.NONPARAMETRIC_ATE\n",
      "\n",
      "### Estimand : 1\n",
      "Estimand name: backdoor\n",
      "Estimand expression:\n",
      "     d                                 \n",
      "────────────(E[successful|CreditScore])\n",
      "d[treatment]                           \n",
      "Estimand assumption 1, Unconfoundedness: If U→{treatment} and U→successful then P(successful|treatment,CreditScore,U) = P(successful|treatment,CreditScore)\n",
      "\n",
      "## Realized estimand\n",
      "b: successful~treatment+CreditScore\n",
      "Target units: ate\n",
      "\n",
      "## Estimate\n",
      "Mean value: 0.18359581849410844\n",
      "\n",
      "IPW Stabilized Causal Estimate is 0.18359581849410844\n"
     ]
    }
   ],
   "source": [
    "#Self-normalized IPS weighting (also known as the Hajek estimator)\n",
    "ipw_hajek = model.estimate_effect(identified_estimand,\n",
    "                                            method_name=\"backdoor.propensity_score_weighting\",\n",
    "                                            target_units = \"ate\",\n",
    "                                            method_params={\"weighting_scheme\":\"ips_normalized_weight\"})\n",
    "print(ipw_hajek)\n",
    "print(\"IPW Hajek Causal Estimate is \" + str(ipw_hajek.value))"
   ]
  },
  {
   "cell_type": "code",
   "execution_count": null,
   "id": "6e0cd053-746e-4ddd-b2d1-c658a004af2f",
   "metadata": {},
   "outputs": [],
   "source": [
    "#Stabilized IPS weighting\n",
    "ipw_stabilized = model.estimate_effect(identified_estimand,\n",
    "                                            method_name=\"backdoor.propensity_score_weighting\",\n",
    "                                            target_units = \"ate\",\n",
    "                                            method_params={\"weighting_scheme\":\"ips_stabilized_weight\"})\n",
    "print(ipw_stabilized)\n",
    "print(\"IPW Stabilized Causal Estimate is \" + str(ipw_stabilized.value))"
   ]
  },
  {
   "cell_type": "markdown",
   "id": "bbebddf8-f703-4da9-abff-645548c3e716",
   "metadata": {},
   "source": [
    "### Method: Matching\n",
    "\n",
    "Propensity Score Matching"
   ]
  },
  {
   "cell_type": "code",
   "execution_count": 25,
   "id": "c07ca47c-14fa-4a7b-88ec-3448d187522d",
   "metadata": {},
   "outputs": [
    {
     "name": "stdout",
     "output_type": "stream",
     "text": [
      "*** Causal Estimate ***\n",
      "\n",
      "## Identified estimand\n",
      "Estimand type: EstimandType.NONPARAMETRIC_ATE\n",
      "\n",
      "### Estimand : 1\n",
      "Estimand name: backdoor\n",
      "Estimand expression:\n",
      "     d                                 \n",
      "────────────(E[successful|CreditScore])\n",
      "d[treatment]                           \n",
      "Estimand assumption 1, Unconfoundedness: If U→{treatment} and U→successful then P(successful|treatment,CreditScore,U) = P(successful|treatment,CreditScore)\n",
      "\n",
      "## Realized estimand\n",
      "b: successful~treatment+CreditScore\n",
      "Target units: atc\n",
      "\n",
      "## Estimate\n",
      "Mean value: -0.07780087912856817\n",
      "\n",
      "Causal Estimate is -0.07780087912856817\n"
     ]
    }
   ],
   "source": [
    "causal_estimate_match = model.estimate_effect(identified_estimand,\n",
    "                                              method_name=\"backdoor.propensity_score_matching\",\n",
    "                                              target_units=\"atc\")\n",
    "print(causal_estimate_match)\n",
    "print(\"Causal Estimate is \" + str(causal_estimate_match.value))"
   ]
  },
  {
   "cell_type": "markdown",
   "id": "3d4e4cee-b148-4a31-8fd4-9f3c99e47762",
   "metadata": {},
   "source": [
    "## Distance Matching: \n",
    "Define a distance metric and then use the metric to match closest points between treatment and control."
   ]
  },
  {
   "cell_type": "code",
   "execution_count": 26,
   "id": "aa19ba93-a319-4492-b69e-0b430518a9a2",
   "metadata": {},
   "outputs": [
    {
     "name": "stdout",
     "output_type": "stream",
     "text": [
      "*** Causal Estimate ***\n",
      "\n",
      "## Identified estimand\n",
      "Estimand type: EstimandType.NONPARAMETRIC_ATE\n",
      "\n",
      "### Estimand : 1\n",
      "Estimand name: backdoor\n",
      "Estimand expression:\n",
      "     d                                 \n",
      "────────────(E[successful|CreditScore])\n",
      "d[treatment]                           \n",
      "Estimand assumption 1, Unconfoundedness: If U→{treatment} and U→successful then P(successful|treatment,CreditScore,U) = P(successful|treatment,CreditScore)\n",
      "\n",
      "## Realized estimand\n",
      "b: successful~treatment+CreditScore\n",
      "Target units: att\n",
      "\n",
      "## Estimate\n",
      "Mean value: 0.34158414597681797\n",
      "\n",
      "Causal Estimate is 0.34158414597681797\n"
     ]
    }
   ],
   "source": [
    "causal_estimate_dmatch = model.estimate_effect(identified_estimand,\n",
    "                                              method_name=\"backdoor.distance_matching\",\n",
    "                                              target_units=\"ate\",\n",
    "                                              method_params={'distance_metric':\"minkowski\", 'p':2})\n",
    "print(causal_estimate_dmatch)\n",
    "print(\"Causal Estimate is \" + str(causal_estimate_dmatch.value))"
   ]
  },
  {
   "cell_type": "markdown",
   "id": "3d9c15ef-6412-4cde-9cfa-58a7e3b61f6c",
   "metadata": {},
   "source": [
    "## Refute the obtained estimate using multiple robustness checks.\n",
    "- Add random cause\n",
    "- Add placebo treatment\n",
    "- Remove Random Subset of Data"
   ]
  },
  {
   "cell_type": "code",
   "execution_count": null,
   "id": "c5a9c4d9-c967-4090-8d47-ff764f627f9b",
   "metadata": {},
   "outputs": [],
   "source": [
    "res_cause_ipw=model.refute_estimate(identified_estimand, causal_estimate_ipw, method_name=\"random_common_cause\")\n",
    "print(\"Refute Estimate for random common cause of IPW: \", res_cause_ipw)\n",
    "\n",
    "res_placebo_ipw=model.refute_estimate(identified_estimand, causal_estimate_ipw,\n",
    "        method_name=\"placebo_treatment_refuter\", placebo_type=\"permute\",\n",
    "        num_simulations=20)\n",
    "print(\"Refute Estimate for placebo treatment of IPW: \", res_placebo_ipw)\n",
    "\n",
    "res_subset_ipw = model.refute_estimate(\n",
    "                                    identified_estimand,\n",
    "                                    causal_estimate_ipw,\n",
    "                                    method_name=\"data_subset_refuter\",\n",
    "                                    subset_fraction=0.8)\n",
    "print(\"Refute Estimate for random subset remove of IPW: \",res_subset_ipw)"
   ]
  },
  {
   "cell_type": "code",
   "execution_count": null,
   "id": "09c18a04-53f2-4a6a-bca3-12727c8f0143",
   "metadata": {},
   "outputs": [],
   "source": [
    "res_cause_ipw_hajek=model.refute_estimate(identified_estimand, ipw_hajek, method_name=\"random_common_cause\")\n",
    "print(\"Refute Estimate for random common cause of IPW Hajek: \", res_cause_ipw_hajek)\n",
    "\n",
    "res_placebo_ipw_hajek=model.refute_estimate(identified_estimand, ipw_hajek,\n",
    "        method_name=\"placebo_treatment_refuter\", placebo_type=\"permute\",\n",
    "        num_simulations=20)\n",
    "print(\"Refute Estimate for placebo treatment of IPW Hajek: \", res_placebo_ipw_hajek)\n",
    "\n",
    "res_subset_ipw_hajek = model.refute_estimate(\n",
    "                                    identified_estimand,\n",
    "                                    ipw_hajek,\n",
    "                                    method_name=\"data_subset_refuter\",\n",
    "                                    subset_fraction=0.8)\n",
    "print(\"Refute Estimate for random subset remove of IPW Hajek: \",res_subset_ipw_hajek)"
   ]
  },
  {
   "cell_type": "code",
   "execution_count": null,
   "id": "2472e94e-b8b6-48ce-bd1f-3e4fe63348b0",
   "metadata": {},
   "outputs": [],
   "source": [
    "res_cause_ipw_stabilized=model.refute_estimate(identified_estimand, causal_estimate_ipw_stabilized, method_name=\"random_common_cause\")\n",
    "print(\"Refute Estimate for random common cause of IPW Stabilized: \", res_cause_ipw_stabilized)\n",
    "\n",
    "res_placebo_ipw_stabilized=model.refute_estimate(identified_estimand, causal_estimate_ipw_stabilized,\n",
    "        method_name=\"placebo_treatment_refuter\", placebo_type=\"permute\",\n",
    "        num_simulations=20)\n",
    "print(\"Refute Estimate for placebo treatment of IPW Stabilized: \", res_placebo_ipw_stabilized)\n",
    "\n",
    "res_subset_ipw_stabilized = model.refute_estimate(\n",
    "                                    identified_estimand,\n",
    "                                    causal_estimate_ipw_stabilized,\n",
    "                                    method_name=\"data_subset_refuter\",\n",
    "                                    subset_fraction=0.8)\n",
    "print(\"Refute Estimate for random subset remove of IPW Stabilized: \",res_subset_ipw_stabilized)"
   ]
  },
  {
   "cell_type": "code",
   "execution_count": null,
   "id": "30a14950-aa39-418e-a728-6625c91285cf",
   "metadata": {},
   "outputs": [],
   "source": [
    "res_cause_match=model.refute_estimate(identified_estimand, causal_estimate_match, method_name=\"random_common_cause\")\n",
    "print(\"Refute Estimate for random common cause of Propensity Score Matching: \", res_cause_match)\n",
    "\n",
    "res_placebo_match=model.refute_estimate(identified_estimand, causal_estimate_match,\n",
    "        method_name=\"placebo_treatment_refuter\", placebo_type=\"permute\",\n",
    "        num_simulations=20)\n",
    "print(\"Refute Estimate for placebo treatment of Propensity Score Matching: \", res_placebo_match)\n",
    "\n",
    "res_subset_match = model.refute_estimate(\n",
    "                                    identified_estimand,\n",
    "                                    causal_estimate_match,\n",
    "                                    method_name=\"data_subset_refuter\",\n",
    "                                    subset_fraction=0.8)\n",
    "print(\"Refute Estimate for random subset remove of Propensity Score Matching: \",res_subset_match)"
   ]
  },
  {
   "cell_type": "code",
   "execution_count": null,
   "id": "68617f46-465c-4a49-b374-b99e59b57099",
   "metadata": {},
   "outputs": [],
   "source": [
    "res_cause_dmatch=model.refute_estimate(identified_estimand, causal_estimate_dmatch, method_name=\"random_common_cause\")\n",
    "print(\"Refute Estimate for random common cause of Distance Matching: \", res_cause_dmatch)\n",
    "\n",
    "res_placebo_dmatch=model.refute_estimate(identified_estimand, causal_estimate_dmatch,\n",
    "        method_name=\"placebo_treatment_refuter\", placebo_type=\"permute\",\n",
    "        num_simulations=20)\n",
    "print(\"Refute Estimate for placebo treatment of Distance Matching: \", res_placebo_dmatch)\n",
    "\n",
    "res_subset_dmatch = model.refute_estimate(\n",
    "                                    identified_estimand,\n",
    "                                    causal_estimate_dmatch,\n",
    "                                    method_name=\"data_subset_refuter\",\n",
    "                                    subset_fraction=0.8)\n",
    "print(\"Refute Estimate for random subset remove of Distance Matching: \",res_subset_dmatch)"
   ]
  }
 ],
 "metadata": {
  "kernelspec": {
   "display_name": "dowhy",
   "language": "python",
   "name": "dowhy"
  },
  "language_info": {
   "codemirror_mode": {
    "name": "ipython",
    "version": 3
   },
   "file_extension": ".py",
   "mimetype": "text/x-python",
   "name": "python",
   "nbconvert_exporter": "python",
   "pygments_lexer": "ipython3",
   "version": "3.9.7"
  }
 },
 "nbformat": 4,
 "nbformat_minor": 5
}
