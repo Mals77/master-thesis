{
 "cells": [
  {
   "cell_type": "code",
   "execution_count": 1,
   "id": "249b033b-b948-4dcf-92af-7637e9104df2",
   "metadata": {},
   "outputs": [],
   "source": [
    "import pandas as pd\n",
    "import numpy as np"
   ]
  },
  {
   "cell_type": "code",
   "execution_count": 2,
   "id": "49392157-8a03-4d00-93a5-57c80408b4c6",
   "metadata": {},
   "outputs": [
    {
     "name": "stdout",
     "output_type": "stream",
     "text": [
      "Index(['case:concept:name', 'NumberOfOffers', 'Action', 'org:resource',\n",
      "       'concept:name', 'EventOrigin', 'lifecycle:transition', 'time:timestamp',\n",
      "       'case:LoanGoal', 'case:ApplicationType', 'case:RequestedAmount',\n",
      "       'FirstWithdrawalAmount', 'NumberOfTerms', 'Accepted', 'MonthlyCost',\n",
      "       'Selected', 'CreditScore', 'OfferedAmount', 'treatedCase',\n",
      "       'caseSuccesful', 'treatmentSuccess', 'offerNumber', 'offerSuccess',\n",
      "       'treatmentOffer', 'timeApplication', 'weekdayApplication'],\n",
      "      dtype='object')\n"
     ]
    },
    {
     "data": {
      "text/html": [
       "<div>\n",
       "<style scoped>\n",
       "    .dataframe tbody tr th:only-of-type {\n",
       "        vertical-align: middle;\n",
       "    }\n",
       "\n",
       "    .dataframe tbody tr th {\n",
       "        vertical-align: top;\n",
       "    }\n",
       "\n",
       "    .dataframe thead th {\n",
       "        text-align: right;\n",
       "    }\n",
       "</style>\n",
       "<table border=\"1\" class=\"dataframe\">\n",
       "  <thead>\n",
       "    <tr style=\"text-align: right;\">\n",
       "      <th></th>\n",
       "      <th>case:concept:name</th>\n",
       "      <th>NumberOfOffers</th>\n",
       "      <th>Action</th>\n",
       "      <th>org:resource</th>\n",
       "      <th>concept:name</th>\n",
       "      <th>EventOrigin</th>\n",
       "      <th>lifecycle:transition</th>\n",
       "      <th>time:timestamp</th>\n",
       "      <th>case:LoanGoal</th>\n",
       "      <th>case:ApplicationType</th>\n",
       "      <th>...</th>\n",
       "      <th>CreditScore</th>\n",
       "      <th>OfferedAmount</th>\n",
       "      <th>treatedCase</th>\n",
       "      <th>caseSuccesful</th>\n",
       "      <th>treatmentSuccess</th>\n",
       "      <th>offerNumber</th>\n",
       "      <th>offerSuccess</th>\n",
       "      <th>treatmentOffer</th>\n",
       "      <th>timeApplication</th>\n",
       "      <th>weekdayApplication</th>\n",
       "    </tr>\n",
       "  </thead>\n",
       "  <tbody>\n",
       "    <tr>\n",
       "      <th>0</th>\n",
       "      <td>0.0</td>\n",
       "      <td>1.0</td>\n",
       "      <td>0.0</td>\n",
       "      <td>0.0</td>\n",
       "      <td>4.0</td>\n",
       "      <td>0.0</td>\n",
       "      <td>1.0</td>\n",
       "      <td>651433.0</td>\n",
       "      <td>10.0</td>\n",
       "      <td>1.0</td>\n",
       "      <td>...</td>\n",
       "      <td>0.0</td>\n",
       "      <td>5000.0</td>\n",
       "      <td>0.0</td>\n",
       "      <td>0.0</td>\n",
       "      <td>0.0</td>\n",
       "      <td>1.0</td>\n",
       "      <td>0.0</td>\n",
       "      <td>0.0</td>\n",
       "      <td>0.000</td>\n",
       "      <td>2.0</td>\n",
       "    </tr>\n",
       "    <tr>\n",
       "      <th>1</th>\n",
       "      <td>0.0</td>\n",
       "      <td>1.0</td>\n",
       "      <td>4.0</td>\n",
       "      <td>0.0</td>\n",
       "      <td>8.0</td>\n",
       "      <td>0.0</td>\n",
       "      <td>1.0</td>\n",
       "      <td>651434.0</td>\n",
       "      <td>10.0</td>\n",
       "      <td>1.0</td>\n",
       "      <td>...</td>\n",
       "      <td>0.0</td>\n",
       "      <td>5000.0</td>\n",
       "      <td>0.0</td>\n",
       "      <td>0.0</td>\n",
       "      <td>0.0</td>\n",
       "      <td>1.0</td>\n",
       "      <td>0.0</td>\n",
       "      <td>0.0</td>\n",
       "      <td>0.061</td>\n",
       "      <td>2.0</td>\n",
       "    </tr>\n",
       "    <tr>\n",
       "      <th>2</th>\n",
       "      <td>0.0</td>\n",
       "      <td>1.0</td>\n",
       "      <td>0.0</td>\n",
       "      <td>0.0</td>\n",
       "      <td>22.0</td>\n",
       "      <td>2.0</td>\n",
       "      <td>3.0</td>\n",
       "      <td>651435.0</td>\n",
       "      <td>10.0</td>\n",
       "      <td>1.0</td>\n",
       "      <td>...</td>\n",
       "      <td>0.0</td>\n",
       "      <td>5000.0</td>\n",
       "      <td>0.0</td>\n",
       "      <td>0.0</td>\n",
       "      <td>0.0</td>\n",
       "      <td>1.0</td>\n",
       "      <td>0.0</td>\n",
       "      <td>0.0</td>\n",
       "      <td>0.290</td>\n",
       "      <td>2.0</td>\n",
       "    </tr>\n",
       "    <tr>\n",
       "      <th>3</th>\n",
       "      <td>0.0</td>\n",
       "      <td>1.0</td>\n",
       "      <td>1.0</td>\n",
       "      <td>0.0</td>\n",
       "      <td>22.0</td>\n",
       "      <td>2.0</td>\n",
       "      <td>6.0</td>\n",
       "      <td>651437.0</td>\n",
       "      <td>10.0</td>\n",
       "      <td>1.0</td>\n",
       "      <td>...</td>\n",
       "      <td>0.0</td>\n",
       "      <td>5000.0</td>\n",
       "      <td>0.0</td>\n",
       "      <td>0.0</td>\n",
       "      <td>0.0</td>\n",
       "      <td>1.0</td>\n",
       "      <td>0.0</td>\n",
       "      <td>0.0</td>\n",
       "      <td>66.613</td>\n",
       "      <td>2.0</td>\n",
       "    </tr>\n",
       "    <tr>\n",
       "      <th>4</th>\n",
       "      <td>0.0</td>\n",
       "      <td>1.0</td>\n",
       "      <td>0.0</td>\n",
       "      <td>0.0</td>\n",
       "      <td>21.0</td>\n",
       "      <td>2.0</td>\n",
       "      <td>3.0</td>\n",
       "      <td>651438.0</td>\n",
       "      <td>10.0</td>\n",
       "      <td>1.0</td>\n",
       "      <td>...</td>\n",
       "      <td>0.0</td>\n",
       "      <td>5000.0</td>\n",
       "      <td>0.0</td>\n",
       "      <td>0.0</td>\n",
       "      <td>0.0</td>\n",
       "      <td>1.0</td>\n",
       "      <td>0.0</td>\n",
       "      <td>0.0</td>\n",
       "      <td>66.620</td>\n",
       "      <td>2.0</td>\n",
       "    </tr>\n",
       "  </tbody>\n",
       "</table>\n",
       "<p>5 rows × 26 columns</p>\n",
       "</div>"
      ],
      "text/plain": [
       "   case:concept:name  NumberOfOffers  Action  org:resource  concept:name  \\\n",
       "0                0.0             1.0     0.0           0.0           4.0   \n",
       "1                0.0             1.0     4.0           0.0           8.0   \n",
       "2                0.0             1.0     0.0           0.0          22.0   \n",
       "3                0.0             1.0     1.0           0.0          22.0   \n",
       "4                0.0             1.0     0.0           0.0          21.0   \n",
       "\n",
       "   EventOrigin  lifecycle:transition  time:timestamp  case:LoanGoal  \\\n",
       "0          0.0                   1.0        651433.0           10.0   \n",
       "1          0.0                   1.0        651434.0           10.0   \n",
       "2          2.0                   3.0        651435.0           10.0   \n",
       "3          2.0                   6.0        651437.0           10.0   \n",
       "4          2.0                   3.0        651438.0           10.0   \n",
       "\n",
       "   case:ApplicationType  ...  CreditScore  OfferedAmount  treatedCase  \\\n",
       "0                   1.0  ...          0.0         5000.0          0.0   \n",
       "1                   1.0  ...          0.0         5000.0          0.0   \n",
       "2                   1.0  ...          0.0         5000.0          0.0   \n",
       "3                   1.0  ...          0.0         5000.0          0.0   \n",
       "4                   1.0  ...          0.0         5000.0          0.0   \n",
       "\n",
       "   caseSuccesful  treatmentSuccess  offerNumber  offerSuccess  treatmentOffer  \\\n",
       "0            0.0               0.0          1.0           0.0             0.0   \n",
       "1            0.0               0.0          1.0           0.0             0.0   \n",
       "2            0.0               0.0          1.0           0.0             0.0   \n",
       "3            0.0               0.0          1.0           0.0             0.0   \n",
       "4            0.0               0.0          1.0           0.0             0.0   \n",
       "\n",
       "   timeApplication  weekdayApplication  \n",
       "0            0.000                 2.0  \n",
       "1            0.061                 2.0  \n",
       "2            0.290                 2.0  \n",
       "3           66.613                 2.0  \n",
       "4           66.620                 2.0  \n",
       "\n",
       "[5 rows x 26 columns]"
      ]
     },
     "execution_count": 2,
     "metadata": {},
     "output_type": "execute_result"
    }
   ],
   "source": [
    "df = pd.read_csv(\"bpi2017_final.csv\")\n",
    "print(df.columns)\n",
    "df.head()"
   ]
  },
  {
   "cell_type": "code",
   "execution_count": 3,
   "id": "72d90e21-ad17-4bf7-a352-beeaadd8b72e",
   "metadata": {},
   "outputs": [],
   "source": [
    "feature_names = ['NumberOfOffers', 'Action', 'org:resource',\n",
    "       'concept:name', 'EventOrigin', 'lifecycle:transition', 'time:timestamp',\n",
    "       'case:LoanGoal', 'case:ApplicationType', 'case:RequestedAmount',\n",
    "       'FirstWithdrawalAmount', 'NumberOfTerms', 'Accepted', 'MonthlyCost',\n",
    "       'CreditScore', 'OfferedAmount', 'offerNumber','timeApplication', 'weekdayApplication']"
   ]
  },
  {
   "cell_type": "code",
   "execution_count": 4,
   "id": "22fe340c-e689-40a4-8b64-657f77ca65c3",
   "metadata": {},
   "outputs": [
    {
     "name": "stdout",
     "output_type": "stream",
     "text": [
      "{'dataset': 'BPI2017', 'output_dir': './egm-nn/', 'v_dim': 20, 'z_dims': [3, 3, 6, 6], 'x_min': 0, 'x_max': 3, 'lr': 0.0002, 'alpha': 1, 'beta': 1, 'gamma': 10, 'g_d_freq': 5, 'g_units': [64, 64, 64, 64, 64], 'e_units': [64, 64, 64, 64, 64], 'f_units': [64, 32, 8], 'h_units': [64, 32, 8], 'dz_units': [64, 32, 8], 'dv_units': [64, 32, 8], 'binary_treatment': True, 'use_z_rec': True, 'use_v_gan': True, 'save_model': False, 'save_res': True}\n"
     ]
    }
   ],
   "source": [
    "import yaml\n",
    "params = yaml.safe_load(open('egm-nn/bpi2017.yaml', 'r'))\n",
    "print(params)"
   ]
  },
  {
   "cell_type": "code",
   "execution_count": 5,
   "id": "4cffcb6e-3c9f-47a4-b41c-e3ba774e569f",
   "metadata": {},
   "outputs": [
    {
     "ename": "ModuleNotFoundError",
     "evalue": "No module named 'tensorflow'",
     "output_type": "error",
     "traceback": [
      "\u001b[0;31m---------------------------------------------------------------------------\u001b[0m",
      "\u001b[0;31mModuleNotFoundError\u001b[0m                       Traceback (most recent call last)",
      "Cell \u001b[0;32mIn[5], line 1\u001b[0m\n\u001b[0;32m----> 1\u001b[0m \u001b[38;5;28;01mimport\u001b[39;00m \u001b[38;5;21;01mCausalEGM\u001b[39;00m \u001b[38;5;28;01mas\u001b[39;00m \u001b[38;5;21;01mcegm\u001b[39;00m\n\u001b[1;32m      2\u001b[0m model \u001b[38;5;241m=\u001b[39m cegm\u001b[38;5;241m.\u001b[39mCausalEGM(params\u001b[38;5;241m=\u001b[39mparams,random_seed\u001b[38;5;241m=\u001b[39m\u001b[38;5;241m123\u001b[39m)\n",
      "File \u001b[0;32m/pfs/data5/home/ma/ma_ma/ma_mskiera/egm/lib/python3.9/site-packages/CausalEGM/__init__.py:2\u001b[0m\n\u001b[1;32m      1\u001b[0m __version__ \u001b[38;5;241m=\u001b[39m \u001b[38;5;124m'\u001b[39m\u001b[38;5;124m0.3.3\u001b[39m\u001b[38;5;124m'\u001b[39m\n\u001b[0;32m----> 2\u001b[0m \u001b[38;5;28;01mfrom\u001b[39;00m \u001b[38;5;21;01m.\u001b[39;00m\u001b[38;5;21;01mcausalEGM\u001b[39;00m \u001b[38;5;28;01mimport\u001b[39;00m CausalEGM, VariationalCausalEGM\n\u001b[1;32m      3\u001b[0m \u001b[38;5;28;01mfrom\u001b[39;00m \u001b[38;5;21;01m.\u001b[39;00m\u001b[38;5;21;01mutil\u001b[39;00m \u001b[38;5;28;01mimport\u001b[39;00m Base_sampler, Semi_acic_sampler, Sim_Hirano_Imbens_sampler, Sim_Sun_sampler, Sim_Colangelo_sampler, Semi_Twins_sampler\n",
      "File \u001b[0;32m/pfs/data5/home/ma/ma_ma/ma_mskiera/egm/lib/python3.9/site-packages/CausalEGM/causalEGM.py:1\u001b[0m\n\u001b[0;32m----> 1\u001b[0m \u001b[38;5;28;01mimport\u001b[39;00m \u001b[38;5;21;01mtensorflow\u001b[39;00m \u001b[38;5;28;01mas\u001b[39;00m \u001b[38;5;21;01mtf\u001b[39;00m\n\u001b[1;32m      2\u001b[0m \u001b[38;5;28;01mfrom\u001b[39;00m \u001b[38;5;21;01m.\u001b[39;00m\u001b[38;5;21;01mmodel\u001b[39;00m \u001b[38;5;28;01mimport\u001b[39;00m BaseFullyConnectedNet, Discriminator\n\u001b[1;32m      3\u001b[0m \u001b[38;5;28;01mimport\u001b[39;00m \u001b[38;5;21;01mnumpy\u001b[39;00m \u001b[38;5;28;01mas\u001b[39;00m \u001b[38;5;21;01mnp\u001b[39;00m\n",
      "\u001b[0;31mModuleNotFoundError\u001b[0m: No module named 'tensorflow'"
     ]
    }
   ],
   "source": [
    "import CausalEGM as cegm\n",
    "model = cegm.CausalEGM(params=params,random_seed=123)"
   ]
  },
  {
   "cell_type": "code",
   "execution_count": 10,
   "id": "8715b8ce-72b3-4cd5-a51c-2195df0296fa",
   "metadata": {},
   "outputs": [],
   "source": [
    "#treatment (x), potential outcome (y), and covariates (v)\n",
    "x = struct_data['treatmentOffer']\n",
    "y = struct_data['offerSuccess']\n",
    "v = struct_data[feature_names]"
   ]
  },
  {
   "cell_type": "code",
   "execution_count": 13,
   "id": "dc8742f7-95a1-4a01-a189-311b9f6b94bf",
   "metadata": {},
   "outputs": [
    {
     "name": "stdout",
     "output_type": "stream",
     "text": [
      "The average treatment effect (ATE) is  0.05254575\n"
     ]
    }
   ],
   "source": [
    "model.train(data=[x,y,v],n_iter=100,save_format='npy',verbose=False)"
   ]
  }
 ],
 "metadata": {
  "kernelspec": {
   "display_name": "egm",
   "language": "python",
   "name": "egm"
  },
  "language_info": {
   "codemirror_mode": {
    "name": "ipython",
    "version": 3
   },
   "file_extension": ".py",
   "mimetype": "text/x-python",
   "name": "python",
   "nbconvert_exporter": "python",
   "pygments_lexer": "ipython3",
   "version": "3.9.7"
  }
 },
 "nbformat": 4,
 "nbformat_minor": 5
}
