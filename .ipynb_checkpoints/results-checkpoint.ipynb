{
 "cells": [
  {
   "cell_type": "code",
   "execution_count": 2,
   "id": "8933f440-dd65-43e0-b1d7-3461a7d4f247",
   "metadata": {},
   "outputs": [],
   "source": [
    "import pandas as pd"
   ]
  },
  {
   "cell_type": "code",
   "execution_count": 2,
   "id": "c09fbf72-a7e9-47d3-84c8-b48ff1b87407",
   "metadata": {},
   "outputs": [
    {
     "data": {
      "text/html": [
       "<div>\n",
       "<style scoped>\n",
       "    .dataframe tbody tr th:only-of-type {\n",
       "        vertical-align: middle;\n",
       "    }\n",
       "\n",
       "    .dataframe tbody tr th {\n",
       "        vertical-align: top;\n",
       "    }\n",
       "\n",
       "    .dataframe thead th {\n",
       "        text-align: right;\n",
       "    }\n",
       "</style>\n",
       "<table border=\"1\" class=\"dataframe\">\n",
       "  <thead>\n",
       "    <tr style=\"text-align: right;\">\n",
       "      <th></th>\n",
       "      <th>method</th>\n",
       "      <th>ATE</th>\n",
       "      <th>ITE</th>\n",
       "      <th>Library</th>\n",
       "      <th>other</th>\n",
       "    </tr>\n",
       "  </thead>\n",
       "  <tbody>\n",
       "    <tr>\n",
       "      <th>0</th>\n",
       "      <td>Linear Regression</td>\n",
       "      <td>0.449046</td>\n",
       "      <td>NaN</td>\n",
       "      <td>DoWhy</td>\n",
       "      <td>NaN</td>\n",
       "    </tr>\n",
       "    <tr>\n",
       "      <th>1</th>\n",
       "      <td>Double ML</td>\n",
       "      <td>0.471019</td>\n",
       "      <td>[0.         0.         0.         ... 0.952180...</td>\n",
       "      <td>DoWhy</td>\n",
       "      <td>NaN</td>\n",
       "    </tr>\n",
       "    <tr>\n",
       "      <th>2</th>\n",
       "      <td>IPW</td>\n",
       "      <td>0.311352</td>\n",
       "      <td>NaN</td>\n",
       "      <td>DoWhy</td>\n",
       "      <td>NaN</td>\n",
       "    </tr>\n",
       "    <tr>\n",
       "      <th>3</th>\n",
       "      <td>IPW Hajek</td>\n",
       "      <td>0.311352</td>\n",
       "      <td>NaN</td>\n",
       "      <td>DoWhy</td>\n",
       "      <td>NaN</td>\n",
       "    </tr>\n",
       "    <tr>\n",
       "      <th>4</th>\n",
       "      <td>IPW Stabalized</td>\n",
       "      <td>0.311352</td>\n",
       "      <td>NaN</td>\n",
       "      <td>DoWhy</td>\n",
       "      <td>NaN</td>\n",
       "    </tr>\n",
       "    <tr>\n",
       "      <th>5</th>\n",
       "      <td>Propensity Score Matching</td>\n",
       "      <td>-0.179289</td>\n",
       "      <td>NaN</td>\n",
       "      <td>DoWhy</td>\n",
       "      <td>NaN</td>\n",
       "    </tr>\n",
       "    <tr>\n",
       "      <th>6</th>\n",
       "      <td>Distance Matching</td>\n",
       "      <td>0.630322</td>\n",
       "      <td>NaN</td>\n",
       "      <td>DoWhy</td>\n",
       "      <td>NaN</td>\n",
       "    </tr>\n",
       "    <tr>\n",
       "      <th>7</th>\n",
       "      <td>IPW LR</td>\n",
       "      <td>0.149171</td>\n",
       "      <td>NaN</td>\n",
       "      <td>Causallib</td>\n",
       "      <td>NaN</td>\n",
       "    </tr>\n",
       "  </tbody>\n",
       "</table>\n",
       "</div>"
      ],
      "text/plain": [
       "                      method       ATE  \\\n",
       "0          Linear Regression  0.449046   \n",
       "1                  Double ML  0.471019   \n",
       "2                        IPW  0.311352   \n",
       "3                  IPW Hajek  0.311352   \n",
       "4             IPW Stabalized  0.311352   \n",
       "5  Propensity Score Matching -0.179289   \n",
       "6          Distance Matching  0.630322   \n",
       "7                     IPW LR  0.149171   \n",
       "\n",
       "                                                 ITE    Library  other  \n",
       "0                                                NaN      DoWhy    NaN  \n",
       "1  [0.         0.         0.         ... 0.952180...      DoWhy    NaN  \n",
       "2                                                NaN      DoWhy    NaN  \n",
       "3                                                NaN      DoWhy    NaN  \n",
       "4                                                NaN      DoWhy    NaN  \n",
       "5                                                NaN      DoWhy    NaN  \n",
       "6                                                NaN      DoWhy    NaN  \n",
       "7                                                NaN  Causallib    NaN  "
      ]
     },
     "execution_count": 2,
     "metadata": {},
     "output_type": "execute_result"
    }
   ],
   "source": [
    "#df_results = pd.DataFrame(columns=['method', 'ATE', 'ITE', 'Library', 'other'])\n",
    "df_results = pd.read_csv(\"df_results.csv\")\n",
    "df_results"
   ]
  },
  {
   "cell_type": "code",
   "execution_count": 3,
   "id": "030e9b82-4a3f-438d-988c-8cd8f9a0575d",
   "metadata": {},
   "outputs": [
    {
     "name": "stdout",
     "output_type": "stream",
     "text": [
      "Stored 'df_results' (DataFrame)\n"
     ]
    }
   ],
   "source": [
    "%store df_results"
   ]
  },
  {
   "cell_type": "code",
   "execution_count": 4,
   "id": "02154cee-2f3b-42c1-a42c-59aa15b9b5c2",
   "metadata": {},
   "outputs": [
    {
     "data": {
      "text/html": [
       "<div>\n",
       "<style scoped>\n",
       "    .dataframe tbody tr th:only-of-type {\n",
       "        vertical-align: middle;\n",
       "    }\n",
       "\n",
       "    .dataframe tbody tr th {\n",
       "        vertical-align: top;\n",
       "    }\n",
       "\n",
       "    .dataframe thead th {\n",
       "        text-align: right;\n",
       "    }\n",
       "</style>\n",
       "<table border=\"1\" class=\"dataframe\">\n",
       "  <thead>\n",
       "    <tr style=\"text-align: right;\">\n",
       "      <th></th>\n",
       "      <th>method</th>\n",
       "      <th>ATE</th>\n",
       "      <th>ITE</th>\n",
       "      <th>Library</th>\n",
       "      <th>other</th>\n",
       "    </tr>\n",
       "  </thead>\n",
       "  <tbody>\n",
       "    <tr>\n",
       "      <th>0</th>\n",
       "      <td>Linear Regression</td>\n",
       "      <td>0.449046</td>\n",
       "      <td>NaN</td>\n",
       "      <td>DoWhy</td>\n",
       "      <td>NaN</td>\n",
       "    </tr>\n",
       "    <tr>\n",
       "      <th>1</th>\n",
       "      <td>Double ML</td>\n",
       "      <td>0.471019</td>\n",
       "      <td>[0.         0.         0.         ... 0.952180...</td>\n",
       "      <td>DoWhy</td>\n",
       "      <td>NaN</td>\n",
       "    </tr>\n",
       "    <tr>\n",
       "      <th>2</th>\n",
       "      <td>IPW</td>\n",
       "      <td>0.311352</td>\n",
       "      <td>NaN</td>\n",
       "      <td>DoWhy</td>\n",
       "      <td>NaN</td>\n",
       "    </tr>\n",
       "    <tr>\n",
       "      <th>3</th>\n",
       "      <td>IPW Hajek</td>\n",
       "      <td>0.311352</td>\n",
       "      <td>NaN</td>\n",
       "      <td>DoWhy</td>\n",
       "      <td>NaN</td>\n",
       "    </tr>\n",
       "    <tr>\n",
       "      <th>4</th>\n",
       "      <td>IPW Stabalized</td>\n",
       "      <td>0.311352</td>\n",
       "      <td>NaN</td>\n",
       "      <td>DoWhy</td>\n",
       "      <td>NaN</td>\n",
       "    </tr>\n",
       "    <tr>\n",
       "      <th>5</th>\n",
       "      <td>Propensity Score Matching</td>\n",
       "      <td>-0.179289</td>\n",
       "      <td>NaN</td>\n",
       "      <td>DoWhy</td>\n",
       "      <td>NaN</td>\n",
       "    </tr>\n",
       "    <tr>\n",
       "      <th>6</th>\n",
       "      <td>Distance Matching</td>\n",
       "      <td>0.630322</td>\n",
       "      <td>NaN</td>\n",
       "      <td>DoWhy</td>\n",
       "      <td>NaN</td>\n",
       "    </tr>\n",
       "    <tr>\n",
       "      <th>7</th>\n",
       "      <td>IPW LR</td>\n",
       "      <td>0.149171</td>\n",
       "      <td>NaN</td>\n",
       "      <td>Causallib</td>\n",
       "      <td>NaN</td>\n",
       "    </tr>\n",
       "    <tr>\n",
       "      <th>8</th>\n",
       "      <td>CausalEGM</td>\n",
       "      <td>0.124771</td>\n",
       "      <td>[0.176025390625, 0.17529296875, 0.17529296875,...</td>\n",
       "      <td>CausalEGM</td>\n",
       "      <td>NaN</td>\n",
       "    </tr>\n",
       "  </tbody>\n",
       "</table>\n",
       "</div>"
      ],
      "text/plain": [
       "                      method       ATE  \\\n",
       "0          Linear Regression  0.449046   \n",
       "1                  Double ML  0.471019   \n",
       "2                        IPW  0.311352   \n",
       "3                  IPW Hajek  0.311352   \n",
       "4             IPW Stabalized  0.311352   \n",
       "5  Propensity Score Matching -0.179289   \n",
       "6          Distance Matching  0.630322   \n",
       "7                     IPW LR  0.149171   \n",
       "8                  CausalEGM  0.124771   \n",
       "\n",
       "                                                 ITE    Library  other  \n",
       "0                                                NaN      DoWhy    NaN  \n",
       "1  [0.         0.         0.         ... 0.952180...      DoWhy    NaN  \n",
       "2                                                NaN      DoWhy    NaN  \n",
       "3                                                NaN      DoWhy    NaN  \n",
       "4                                                NaN      DoWhy    NaN  \n",
       "5                                                NaN      DoWhy    NaN  \n",
       "6                                                NaN      DoWhy    NaN  \n",
       "7                                                NaN  Causallib    NaN  \n",
       "8  [0.176025390625, 0.17529296875, 0.17529296875,...  CausalEGM    NaN  "
      ]
     },
     "execution_count": 4,
     "metadata": {},
     "output_type": "execute_result"
    }
   ],
   "source": [
    "%store -r df_results\n",
    "df_results"
   ]
  },
  {
   "cell_type": "code",
   "execution_count": null,
   "id": "de304482-263f-490e-9d62-403b6675855b",
   "metadata": {},
   "outputs": [],
   "source": []
  },
  {
   "cell_type": "code",
   "execution_count": 5,
   "id": "d5773371-ff74-445b-a726-a983372da043",
   "metadata": {},
   "outputs": [],
   "source": [
    "df_results.to_csv('df_results.csv', index=False)"
   ]
  },
  {
   "cell_type": "markdown",
   "id": "137df932-a405-4789-880c-bfde76d3dca1",
   "metadata": {},
   "source": [
    "## Evaluation Results"
   ]
  },
  {
   "cell_type": "code",
   "execution_count": 3,
   "id": "ddcd149e-77c6-4071-8979-eff8a664a137",
   "metadata": {},
   "outputs": [],
   "source": [
    "df_evaluation_results = pd.read_csv(\"df_evaluation_results.csv\")"
   ]
  },
  {
   "cell_type": "code",
   "execution_count": 8,
   "id": "0fa0a244-66cf-4f8b-ba2b-99cc7f3c00a9",
   "metadata": {},
   "outputs": [],
   "source": [
    "df_evaluation_results = pd.DataFrame(columns=['method', 'Random Common Cause ATE', 'Placebo treatment ATE', 'Random Subset ATE', 'Random Feature Replacement ATE', 'Replaced Feature'])"
   ]
  },
  {
   "cell_type": "code",
   "execution_count": 4,
   "id": "c969be5e-16fd-4a22-af46-cded2a0b1b04",
   "metadata": {},
   "outputs": [
    {
     "name": "stdout",
     "output_type": "stream",
     "text": [
      "Stored 'df_evaluation_results' (DataFrame)\n"
     ]
    }
   ],
   "source": [
    "%store df_evaluation_results"
   ]
  },
  {
   "cell_type": "code",
   "execution_count": 5,
   "id": "e637d275-306e-490e-91d8-89e7fb9980fb",
   "metadata": {},
   "outputs": [
    {
     "data": {
      "text/html": [
       "<div>\n",
       "<style scoped>\n",
       "    .dataframe tbody tr th:only-of-type {\n",
       "        vertical-align: middle;\n",
       "    }\n",
       "\n",
       "    .dataframe tbody tr th {\n",
       "        vertical-align: top;\n",
       "    }\n",
       "\n",
       "    .dataframe thead th {\n",
       "        text-align: right;\n",
       "    }\n",
       "</style>\n",
       "<table border=\"1\" class=\"dataframe\">\n",
       "  <thead>\n",
       "    <tr style=\"text-align: right;\">\n",
       "      <th></th>\n",
       "      <th>method</th>\n",
       "      <th>Random Common Cause ATE</th>\n",
       "      <th>Placebo treatment ATE</th>\n",
       "      <th>Random Subset ATE</th>\n",
       "      <th>Random Feature Replacement ATE</th>\n",
       "      <th>Replaced Feature</th>\n",
       "    </tr>\n",
       "  </thead>\n",
       "  <tbody>\n",
       "    <tr>\n",
       "      <th>0</th>\n",
       "      <td>IPW LR</td>\n",
       "      <td>0.000007</td>\n",
       "      <td>0.000007</td>\n",
       "      <td>-0.000095</td>\n",
       "      <td>0.000007</td>\n",
       "      <td>NumberOfTerms</td>\n",
       "    </tr>\n",
       "    <tr>\n",
       "      <th>1</th>\n",
       "      <td>CausalEGM</td>\n",
       "      <td>0.099503</td>\n",
       "      <td>0.147094</td>\n",
       "      <td>0.142708</td>\n",
       "      <td>0.137571</td>\n",
       "      <td>concept:name</td>\n",
       "    </tr>\n",
       "  </tbody>\n",
       "</table>\n",
       "</div>"
      ],
      "text/plain": [
       "      method  Random Common Cause ATE  Placebo treatment ATE  \\\n",
       "0     IPW LR                 0.000007               0.000007   \n",
       "1  CausalEGM                 0.099503               0.147094   \n",
       "\n",
       "   Random Subset ATE  Random Feature Replacement ATE Replaced Feature  \n",
       "0          -0.000095                        0.000007    NumberOfTerms  \n",
       "1           0.142708                        0.137571     concept:name  "
      ]
     },
     "execution_count": 5,
     "metadata": {},
     "output_type": "execute_result"
    }
   ],
   "source": [
    "%store -r df_evaluation_results\n",
    "df_evaluation_results"
   ]
  },
  {
   "cell_type": "code",
   "execution_count": 9,
   "id": "ede0a5ee-f135-4ce4-985d-f889569797a1",
   "metadata": {},
   "outputs": [],
   "source": [
    "df_evaluation_results.to_csv('df_evaluation_results.csv', index=False)"
   ]
  },
  {
   "cell_type": "markdown",
   "id": "f8eb12f9-e775-429b-b105-0d3325bf60c2",
   "metadata": {},
   "source": [
    "### Plots"
   ]
  },
  {
   "cell_type": "code",
   "execution_count": null,
   "id": "cb30a16b-9b2a-41bb-a9c6-dad0228cd4b8",
   "metadata": {},
   "outputs": [],
   "source": [
    "#histogram gives the ITE\n",
    "alpha=0.2\n",
    "bins=30\n",
    "plt.figure(figsize=(12,8))\n",
    "plt.hist(cate_t, alpha=alpha, bins=bins, label='T Learner')\n",
    "plt.hist(cate_x_no_p, alpha=alpha, bins=bins, label='X Learner (no propensity score)')\n",
    "plt.hist(cate_r_no_p, alpha=alpha, bins=bins, label='R Learner (no propensity score)')\n",
    "plt.vlines(cate_s[0], ymin=0, ymax=500000, label='S Learner', linestyles='dotted', colors='green', linewidth=2)\n",
    "plt.title('Distribution of CATE Predictions by Meta Learner')\n",
    "plt.xlabel('Individual Treatment Effect (ITE/CATE)')\n",
    "plt.ylabel('# of Samples')\n",
    "_=plt.legend()"
   ]
  }
 ],
 "metadata": {
  "kernelspec": {
   "display_name": "thesis",
   "language": "python",
   "name": "thesis"
  },
  "language_info": {
   "codemirror_mode": {
    "name": "ipython",
    "version": 3
   },
   "file_extension": ".py",
   "mimetype": "text/x-python",
   "name": "python",
   "nbconvert_exporter": "python",
   "pygments_lexer": "ipython3",
   "version": "3.9.7"
  }
 },
 "nbformat": 4,
 "nbformat_minor": 5
}
