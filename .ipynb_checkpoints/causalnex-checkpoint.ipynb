{
 "cells": [
  {
   "cell_type": "markdown",
   "id": "4edcbada-8f93-4101-bdc8-59431212d5a8",
   "metadata": {},
   "source": [
    "CausalNex is a tool to get a CausalGraph, maybe also try DoWhy Causal Graph generator thing as another solution and compare these. Also use results of data analysis to modify the edges"
   ]
  },
  {
   "cell_type": "code",
   "execution_count": 1,
   "id": "37303250-dbec-4dae-ba30-69bba4535ef9",
   "metadata": {},
   "outputs": [],
   "source": [
    "import warnings\n",
    "from causalnex.structure import StructureModel\n",
    "\n",
    "warnings.filterwarnings(\"ignore\")  # silence warnings\n",
    "\n",
    "sm = StructureModel()"
   ]
  },
  {
   "cell_type": "code",
   "execution_count": 2,
   "id": "e87c8702-4711-4935-8c39-bc18517a7365",
   "metadata": {},
   "outputs": [],
   "source": [
    "import pandas as pd\n",
    "df = pd.read_csv(\"bpi2017_filledLog.csv\")\n",
    "df['treatment'] = df['treatment'].replace({'treated': 1, 'notTreated': 0}).astype('int64')\n",
    "df['treatmentSuccess'] = df['treatmentSuccess'].replace({'Yes': 2, 'No': 1, '0': 0}).astype('int64')"
   ]
  },
  {
   "cell_type": "code",
   "execution_count": 11,
   "id": "a3c0b26f-89c4-4b5e-a715-9e41283776c0",
   "metadata": {},
   "outputs": [
    {
     "data": {
      "text/html": [
       "<div>\n",
       "<style scoped>\n",
       "    .dataframe tbody tr th:only-of-type {\n",
       "        vertical-align: middle;\n",
       "    }\n",
       "\n",
       "    .dataframe tbody tr th {\n",
       "        vertical-align: top;\n",
       "    }\n",
       "\n",
       "    .dataframe thead th {\n",
       "        text-align: right;\n",
       "    }\n",
       "</style>\n",
       "<table border=\"1\" class=\"dataframe\">\n",
       "  <thead>\n",
       "    <tr style=\"text-align: right;\">\n",
       "      <th></th>\n",
       "      <th>NumberOfOffers</th>\n",
       "      <th>case:LoanGoal</th>\n",
       "      <th>case:ApplicationType</th>\n",
       "      <th>case:RequestedAmount</th>\n",
       "      <th>FirstWithdrawalAmount</th>\n",
       "      <th>NumberOfTerms</th>\n",
       "      <th>Accepted</th>\n",
       "      <th>MonthlyCost</th>\n",
       "      <th>Selected</th>\n",
       "      <th>CreditScore</th>\n",
       "      <th>OfferedAmount</th>\n",
       "      <th>treatment</th>\n",
       "      <th>successful</th>\n",
       "      <th>treatmentSuccess</th>\n",
       "    </tr>\n",
       "  </thead>\n",
       "  <tbody>\n",
       "    <tr>\n",
       "      <th>0</th>\n",
       "      <td>1</td>\n",
       "      <td>Other, see explanation</td>\n",
       "      <td>New credit</td>\n",
       "      <td>5000.0</td>\n",
       "      <td>5000.0</td>\n",
       "      <td>22.0</td>\n",
       "      <td>True</td>\n",
       "      <td>241.28</td>\n",
       "      <td>False</td>\n",
       "      <td>0.0</td>\n",
       "      <td>5000.0</td>\n",
       "      <td>0</td>\n",
       "      <td>0</td>\n",
       "      <td>0</td>\n",
       "    </tr>\n",
       "    <tr>\n",
       "      <th>1</th>\n",
       "      <td>1</td>\n",
       "      <td>Other, see explanation</td>\n",
       "      <td>New credit</td>\n",
       "      <td>5000.0</td>\n",
       "      <td>5000.0</td>\n",
       "      <td>22.0</td>\n",
       "      <td>True</td>\n",
       "      <td>241.28</td>\n",
       "      <td>False</td>\n",
       "      <td>0.0</td>\n",
       "      <td>5000.0</td>\n",
       "      <td>0</td>\n",
       "      <td>0</td>\n",
       "      <td>0</td>\n",
       "    </tr>\n",
       "    <tr>\n",
       "      <th>2</th>\n",
       "      <td>1</td>\n",
       "      <td>Other, see explanation</td>\n",
       "      <td>New credit</td>\n",
       "      <td>5000.0</td>\n",
       "      <td>5000.0</td>\n",
       "      <td>22.0</td>\n",
       "      <td>True</td>\n",
       "      <td>241.28</td>\n",
       "      <td>False</td>\n",
       "      <td>0.0</td>\n",
       "      <td>5000.0</td>\n",
       "      <td>0</td>\n",
       "      <td>0</td>\n",
       "      <td>0</td>\n",
       "    </tr>\n",
       "    <tr>\n",
       "      <th>3</th>\n",
       "      <td>1</td>\n",
       "      <td>Other, see explanation</td>\n",
       "      <td>New credit</td>\n",
       "      <td>5000.0</td>\n",
       "      <td>5000.0</td>\n",
       "      <td>22.0</td>\n",
       "      <td>True</td>\n",
       "      <td>241.28</td>\n",
       "      <td>False</td>\n",
       "      <td>0.0</td>\n",
       "      <td>5000.0</td>\n",
       "      <td>0</td>\n",
       "      <td>0</td>\n",
       "      <td>0</td>\n",
       "    </tr>\n",
       "    <tr>\n",
       "      <th>4</th>\n",
       "      <td>1</td>\n",
       "      <td>Other, see explanation</td>\n",
       "      <td>New credit</td>\n",
       "      <td>5000.0</td>\n",
       "      <td>5000.0</td>\n",
       "      <td>22.0</td>\n",
       "      <td>True</td>\n",
       "      <td>241.28</td>\n",
       "      <td>False</td>\n",
       "      <td>0.0</td>\n",
       "      <td>5000.0</td>\n",
       "      <td>0</td>\n",
       "      <td>0</td>\n",
       "      <td>0</td>\n",
       "    </tr>\n",
       "  </tbody>\n",
       "</table>\n",
       "</div>"
      ],
      "text/plain": [
       "   NumberOfOffers           case:LoanGoal case:ApplicationType  \\\n",
       "0               1  Other, see explanation           New credit   \n",
       "1               1  Other, see explanation           New credit   \n",
       "2               1  Other, see explanation           New credit   \n",
       "3               1  Other, see explanation           New credit   \n",
       "4               1  Other, see explanation           New credit   \n",
       "\n",
       "   case:RequestedAmount  FirstWithdrawalAmount  NumberOfTerms  Accepted  \\\n",
       "0                5000.0                 5000.0           22.0      True   \n",
       "1                5000.0                 5000.0           22.0      True   \n",
       "2                5000.0                 5000.0           22.0      True   \n",
       "3                5000.0                 5000.0           22.0      True   \n",
       "4                5000.0                 5000.0           22.0      True   \n",
       "\n",
       "   MonthlyCost  Selected  CreditScore  OfferedAmount  treatment  successful  \\\n",
       "0       241.28     False          0.0         5000.0          0           0   \n",
       "1       241.28     False          0.0         5000.0          0           0   \n",
       "2       241.28     False          0.0         5000.0          0           0   \n",
       "3       241.28     False          0.0         5000.0          0           0   \n",
       "4       241.28     False          0.0         5000.0          0           0   \n",
       "\n",
       "   treatmentSuccess  \n",
       "0                 0  \n",
       "1                 0  \n",
       "2                 0  \n",
       "3                 0  \n",
       "4                 0  "
      ]
     },
     "execution_count": 11,
     "metadata": {},
     "output_type": "execute_result"
    }
   ],
   "source": [
    "smaller_df = df.drop(columns=['case:concept:name', 'Action','org:resource', 'concept:name', 'EventOrigin', 'EventID', 'lifecycle:transition', 'time:timestamp','OfferID'])"
   ]
  },
  {
   "cell_type": "code",
   "execution_count": 12,
   "id": "97a59c37-17ce-405b-817a-4bbc8a65628d",
   "metadata": {},
   "outputs": [
    {
     "name": "stdout",
     "output_type": "stream",
     "text": [
      "['case:LoanGoal', 'case:ApplicationType', 'Accepted', 'Selected']\n"
     ]
    }
   ],
   "source": [
    "import numpy as np\n",
    "\n",
    "struct_data = smaller_df.copy()\n",
    "non_numeric_columns = list(struct_data.select_dtypes(exclude=[np.number]).columns)\n",
    "\n",
    "print(non_numeric_columns)"
   ]
  },
  {
   "cell_type": "code",
   "execution_count": 13,
   "id": "9b735fbb-8cab-48cf-9dee-9299a28ecebe",
   "metadata": {},
   "outputs": [
    {
     "data": {
      "text/html": [
       "<div>\n",
       "<style scoped>\n",
       "    .dataframe tbody tr th:only-of-type {\n",
       "        vertical-align: middle;\n",
       "    }\n",
       "\n",
       "    .dataframe tbody tr th {\n",
       "        vertical-align: top;\n",
       "    }\n",
       "\n",
       "    .dataframe thead th {\n",
       "        text-align: right;\n",
       "    }\n",
       "</style>\n",
       "<table border=\"1\" class=\"dataframe\">\n",
       "  <thead>\n",
       "    <tr style=\"text-align: right;\">\n",
       "      <th></th>\n",
       "      <th>NumberOfOffers</th>\n",
       "      <th>case:LoanGoal</th>\n",
       "      <th>case:ApplicationType</th>\n",
       "      <th>case:RequestedAmount</th>\n",
       "      <th>FirstWithdrawalAmount</th>\n",
       "      <th>NumberOfTerms</th>\n",
       "      <th>Accepted</th>\n",
       "      <th>MonthlyCost</th>\n",
       "      <th>Selected</th>\n",
       "      <th>CreditScore</th>\n",
       "      <th>OfferedAmount</th>\n",
       "      <th>treatment</th>\n",
       "      <th>successful</th>\n",
       "      <th>treatmentSuccess</th>\n",
       "    </tr>\n",
       "  </thead>\n",
       "  <tbody>\n",
       "    <tr>\n",
       "      <th>0</th>\n",
       "      <td>1</td>\n",
       "      <td>10</td>\n",
       "      <td>1</td>\n",
       "      <td>5000.0</td>\n",
       "      <td>5000.0</td>\n",
       "      <td>22.0</td>\n",
       "      <td>1</td>\n",
       "      <td>241.28</td>\n",
       "      <td>0</td>\n",
       "      <td>0.0</td>\n",
       "      <td>5000.0</td>\n",
       "      <td>0</td>\n",
       "      <td>0</td>\n",
       "      <td>0</td>\n",
       "    </tr>\n",
       "    <tr>\n",
       "      <th>1</th>\n",
       "      <td>1</td>\n",
       "      <td>10</td>\n",
       "      <td>1</td>\n",
       "      <td>5000.0</td>\n",
       "      <td>5000.0</td>\n",
       "      <td>22.0</td>\n",
       "      <td>1</td>\n",
       "      <td>241.28</td>\n",
       "      <td>0</td>\n",
       "      <td>0.0</td>\n",
       "      <td>5000.0</td>\n",
       "      <td>0</td>\n",
       "      <td>0</td>\n",
       "      <td>0</td>\n",
       "    </tr>\n",
       "    <tr>\n",
       "      <th>2</th>\n",
       "      <td>1</td>\n",
       "      <td>10</td>\n",
       "      <td>1</td>\n",
       "      <td>5000.0</td>\n",
       "      <td>5000.0</td>\n",
       "      <td>22.0</td>\n",
       "      <td>1</td>\n",
       "      <td>241.28</td>\n",
       "      <td>0</td>\n",
       "      <td>0.0</td>\n",
       "      <td>5000.0</td>\n",
       "      <td>0</td>\n",
       "      <td>0</td>\n",
       "      <td>0</td>\n",
       "    </tr>\n",
       "    <tr>\n",
       "      <th>3</th>\n",
       "      <td>1</td>\n",
       "      <td>10</td>\n",
       "      <td>1</td>\n",
       "      <td>5000.0</td>\n",
       "      <td>5000.0</td>\n",
       "      <td>22.0</td>\n",
       "      <td>1</td>\n",
       "      <td>241.28</td>\n",
       "      <td>0</td>\n",
       "      <td>0.0</td>\n",
       "      <td>5000.0</td>\n",
       "      <td>0</td>\n",
       "      <td>0</td>\n",
       "      <td>0</td>\n",
       "    </tr>\n",
       "    <tr>\n",
       "      <th>4</th>\n",
       "      <td>1</td>\n",
       "      <td>10</td>\n",
       "      <td>1</td>\n",
       "      <td>5000.0</td>\n",
       "      <td>5000.0</td>\n",
       "      <td>22.0</td>\n",
       "      <td>1</td>\n",
       "      <td>241.28</td>\n",
       "      <td>0</td>\n",
       "      <td>0.0</td>\n",
       "      <td>5000.0</td>\n",
       "      <td>0</td>\n",
       "      <td>0</td>\n",
       "      <td>0</td>\n",
       "    </tr>\n",
       "  </tbody>\n",
       "</table>\n",
       "</div>"
      ],
      "text/plain": [
       "   NumberOfOffers  case:LoanGoal  case:ApplicationType  case:RequestedAmount  \\\n",
       "0               1             10                     1                5000.0   \n",
       "1               1             10                     1                5000.0   \n",
       "2               1             10                     1                5000.0   \n",
       "3               1             10                     1                5000.0   \n",
       "4               1             10                     1                5000.0   \n",
       "\n",
       "   FirstWithdrawalAmount  NumberOfTerms  Accepted  MonthlyCost  Selected  \\\n",
       "0                 5000.0           22.0         1       241.28         0   \n",
       "1                 5000.0           22.0         1       241.28         0   \n",
       "2                 5000.0           22.0         1       241.28         0   \n",
       "3                 5000.0           22.0         1       241.28         0   \n",
       "4                 5000.0           22.0         1       241.28         0   \n",
       "\n",
       "   CreditScore  OfferedAmount  treatment  successful  treatmentSuccess  \n",
       "0          0.0         5000.0          0           0                 0  \n",
       "1          0.0         5000.0          0           0                 0  \n",
       "2          0.0         5000.0          0           0                 0  \n",
       "3          0.0         5000.0          0           0                 0  \n",
       "4          0.0         5000.0          0           0                 0  "
      ]
     },
     "execution_count": 13,
     "metadata": {},
     "output_type": "execute_result"
    }
   ],
   "source": [
    "from sklearn.preprocessing import LabelEncoder\n",
    "\n",
    "le = LabelEncoder()\n",
    "\n",
    "for col in non_numeric_columns:\n",
    "    struct_data[col] = le.fit_transform(struct_data[col])\n",
    "\n",
    "struct_data.head(5)"
   ]
  },
  {
   "cell_type": "code",
   "execution_count": 39,
   "id": "64d67eb0-51ab-4d4f-a2df-36868d65c4cc",
   "metadata": {},
   "outputs": [],
   "source": [
    "from causalnex.structure.notears import from_pandas\n",
    "sm = from_pandas(struct_data)"
   ]
  },
  {
   "cell_type": "code",
   "execution_count": 61,
   "id": "fd2d866d-1f47-4053-b29d-0e9e0dd14c96",
   "metadata": {},
   "outputs": [
    {
     "data": {
      "text/plain": [
       "<causalnex.structure.structuremodel.StructureModel at 0x153949aa82b0>"
      ]
     },
     "execution_count": 61,
     "metadata": {},
     "output_type": "execute_result"
    }
   ],
   "source": [
    "sm"
   ]
  },
  {
   "cell_type": "code",
   "execution_count": 65,
   "id": "be20662b-0591-4a94-8f8d-bc106c0a7212",
   "metadata": {},
   "outputs": [
    {
     "ename": "TypeError",
     "evalue": "bad operand type for abs(): 'NoneType'",
     "output_type": "error",
     "traceback": [
      "\u001b[0;31m---------------------------------------------------------------------------\u001b[0m",
      "\u001b[0;31mTypeError\u001b[0m                                 Traceback (most recent call last)",
      "Cell \u001b[0;32mIn[65], line 1\u001b[0m\n\u001b[0;32m----> 1\u001b[0m small_sm \u001b[38;5;241m=\u001b[39m \u001b[43msm\u001b[49m\u001b[38;5;241;43m.\u001b[39;49m\u001b[43mremove_edges_below_threshold\u001b[49m\u001b[43m(\u001b[49m\u001b[38;5;241;43m0.99\u001b[39;49m\u001b[43m)\u001b[49m\n\u001b[1;32m      2\u001b[0m small_sm\n",
      "File \u001b[0;32m/pfs/data5/home/ma/ma_ma/ma_mskiera/master-thesis/causalnex/lib/python3.9/site-packages/causalnex/structure/structuremodel.py:242\u001b[0m, in \u001b[0;36mStructureModel.remove_edges_below_threshold\u001b[0;34m(self, threshold)\u001b[0m\n\u001b[1;32m    234\u001b[0m \u001b[38;5;28;01mdef\u001b[39;00m \u001b[38;5;21mremove_edges_below_threshold\u001b[39m(\u001b[38;5;28mself\u001b[39m, threshold: \u001b[38;5;28mfloat\u001b[39m):\n\u001b[1;32m    235\u001b[0m \u001b[38;5;250m    \u001b[39m\u001b[38;5;124;03m\"\"\"\u001b[39;00m\n\u001b[1;32m    236\u001b[0m \u001b[38;5;124;03m    Remove edges whose absolute weights are less than a defined threshold.\u001b[39;00m\n\u001b[1;32m    237\u001b[0m \n\u001b[1;32m    238\u001b[0m \u001b[38;5;124;03m    Args:\u001b[39;00m\n\u001b[1;32m    239\u001b[0m \u001b[38;5;124;03m        threshold: edges whose absolute weight is less than this value are removed.\u001b[39;00m\n\u001b[1;32m    240\u001b[0m \u001b[38;5;124;03m    \"\"\"\u001b[39;00m\n\u001b[1;32m    241\u001b[0m     \u001b[38;5;28mself\u001b[39m\u001b[38;5;241m.\u001b[39mremove_edges_from(\n\u001b[0;32m--> 242\u001b[0m         [(u, v) \u001b[38;5;28;01mfor\u001b[39;00m u, v, w \u001b[38;5;129;01min\u001b[39;00m \u001b[38;5;28mself\u001b[39m\u001b[38;5;241m.\u001b[39medges(data\u001b[38;5;241m=\u001b[39m\u001b[38;5;124m\"\u001b[39m\u001b[38;5;124mweight\u001b[39m\u001b[38;5;124m\"\u001b[39m) \u001b[38;5;28;01mif\u001b[39;00m np\u001b[38;5;241m.\u001b[39mabs(w) \u001b[38;5;241m<\u001b[39m threshold]\n\u001b[1;32m    243\u001b[0m     )\n",
      "File \u001b[0;32m/pfs/data5/home/ma/ma_ma/ma_mskiera/master-thesis/causalnex/lib/python3.9/site-packages/causalnex/structure/structuremodel.py:242\u001b[0m, in \u001b[0;36m<listcomp>\u001b[0;34m(.0)\u001b[0m\n\u001b[1;32m    234\u001b[0m \u001b[38;5;28;01mdef\u001b[39;00m \u001b[38;5;21mremove_edges_below_threshold\u001b[39m(\u001b[38;5;28mself\u001b[39m, threshold: \u001b[38;5;28mfloat\u001b[39m):\n\u001b[1;32m    235\u001b[0m \u001b[38;5;250m    \u001b[39m\u001b[38;5;124;03m\"\"\"\u001b[39;00m\n\u001b[1;32m    236\u001b[0m \u001b[38;5;124;03m    Remove edges whose absolute weights are less than a defined threshold.\u001b[39;00m\n\u001b[1;32m    237\u001b[0m \n\u001b[1;32m    238\u001b[0m \u001b[38;5;124;03m    Args:\u001b[39;00m\n\u001b[1;32m    239\u001b[0m \u001b[38;5;124;03m        threshold: edges whose absolute weight is less than this value are removed.\u001b[39;00m\n\u001b[1;32m    240\u001b[0m \u001b[38;5;124;03m    \"\"\"\u001b[39;00m\n\u001b[1;32m    241\u001b[0m     \u001b[38;5;28mself\u001b[39m\u001b[38;5;241m.\u001b[39mremove_edges_from(\n\u001b[0;32m--> 242\u001b[0m         [(u, v) \u001b[38;5;28;01mfor\u001b[39;00m u, v, w \u001b[38;5;129;01min\u001b[39;00m \u001b[38;5;28mself\u001b[39m\u001b[38;5;241m.\u001b[39medges(data\u001b[38;5;241m=\u001b[39m\u001b[38;5;124m\"\u001b[39m\u001b[38;5;124mweight\u001b[39m\u001b[38;5;124m\"\u001b[39m) \u001b[38;5;28;01mif\u001b[39;00m \u001b[43mnp\u001b[49m\u001b[38;5;241;43m.\u001b[39;49m\u001b[43mabs\u001b[49m\u001b[43m(\u001b[49m\u001b[43mw\u001b[49m\u001b[43m)\u001b[49m \u001b[38;5;241m<\u001b[39m threshold]\n\u001b[1;32m    243\u001b[0m     )\n",
      "\u001b[0;31mTypeError\u001b[0m: bad operand type for abs(): 'NoneType'"
     ]
    }
   ],
   "source": [
    "small_sm = sm.remove_edges_below_threshold(0.99)\n",
    "small_sm"
   ]
  },
  {
   "cell_type": "code",
   "execution_count": 72,
   "id": "6cbdf625-9446-42a2-a07f-16eadac32980",
   "metadata": {},
   "outputs": [],
   "source": [
    "from causalnex.plots import plot_structure, NODE_STYLE, EDGE_STYLE\n",
    "import numpy as np\n",
    "from causalnex.structure import StructureModel\n",
    "from causalnex.plots import plot_structure\n",
    "from IPython.display import Image\n",
    "\n",
    "viz = plot_structure(\n",
    "    sm, \n",
    "    all_node_attributes=NODE_STYLE.WEAK,\n",
    "    all_edge_attributes=EDGE_STYLE.WEAK,\n",
    ")\n",
    "\n",
    "viz.toggle_physics(False)\n",
    "#viz.show(\"supporting_files/01_fully_connected.html\")"
   ]
  },
  {
   "cell_type": "code",
   "execution_count": 69,
   "id": "9a270e5e-2432-4ff2-9ff7-550abb914794",
   "metadata": {},
   "outputs": [
    {
     "ename": "TypeError",
     "evalue": "write() argument must be str, not StructureModel",
     "output_type": "error",
     "traceback": [
      "\u001b[0;31m---------------------------------------------------------------------------\u001b[0m",
      "\u001b[0;31mTypeError\u001b[0m                                 Traceback (most recent call last)",
      "Cell \u001b[0;32mIn[69], line 2\u001b[0m\n\u001b[1;32m      1\u001b[0m \u001b[38;5;28;01mwith\u001b[39;00m \u001b[38;5;28mopen\u001b[39m(\u001b[38;5;124m'\u001b[39m\u001b[38;5;124mviz-graph.html\u001b[39m\u001b[38;5;124m'\u001b[39m, \u001b[38;5;124m'\u001b[39m\u001b[38;5;124mw\u001b[39m\u001b[38;5;124m'\u001b[39m) \u001b[38;5;28;01mas\u001b[39;00m file:\n\u001b[0;32m----> 2\u001b[0m     \u001b[43mfile\u001b[49m\u001b[38;5;241;43m.\u001b[39;49m\u001b[43mwrite\u001b[49m\u001b[43m(\u001b[49m\u001b[43msm\u001b[49m\u001b[43m)\u001b[49m\n",
      "\u001b[0;31mTypeError\u001b[0m: write() argument must be str, not StructureModel"
     ]
    }
   ],
   "source": [
    "with open('viz-graph.html', 'w') as file:\n",
    "    file.write(sm)"
   ]
  },
  {
   "cell_type": "code",
   "execution_count": 73,
   "id": "2bce76ce-9f16-4d79-8b3a-04f2c1981140",
   "metadata": {
    "scrolled": true
   },
   "outputs": [
    {
     "name": "stdout",
     "output_type": "stream",
     "text": [
      "viz.html\n"
     ]
    },
    {
     "data": {
      "text/html": [
       "\n",
       "        <iframe\n",
       "            width=\"100%\"\n",
       "            height=\"600px\"\n",
       "            src=\"viz.html\"\n",
       "            frameborder=\"0\"\n",
       "            allowfullscreen\n",
       "            \n",
       "        ></iframe>\n",
       "        "
      ],
      "text/plain": [
       "<IPython.lib.display.IFrame at 0x1539496423d0>"
      ]
     },
     "execution_count": 73,
     "metadata": {},
     "output_type": "execute_result"
    }
   ],
   "source": [
    "viz.show(\"viz.html\")"
   ]
  },
  {
   "cell_type": "code",
   "execution_count": 78,
   "id": "f7686ec2-03a0-4ea7-b107-0bf1fb20f86f",
   "metadata": {},
   "outputs": [
    {
     "ename": "TypeError",
     "evalue": "bad operand type for abs(): 'NoneType'",
     "output_type": "error",
     "traceback": [
      "\u001b[0;31m---------------------------------------------------------------------------\u001b[0m",
      "\u001b[0;31mTypeError\u001b[0m                                 Traceback (most recent call last)",
      "Cell \u001b[0;32mIn[78], line 1\u001b[0m\n\u001b[0;32m----> 1\u001b[0m sm2 \u001b[38;5;241m=\u001b[39m \u001b[43msm\u001b[49m\u001b[38;5;241;43m.\u001b[39;49m\u001b[43mremove_edges_below_threshold\u001b[49m\u001b[43m(\u001b[49m\u001b[38;5;241;43m0.0\u001b[39;49m\u001b[43m)\u001b[49m\n\u001b[1;32m      2\u001b[0m viz \u001b[38;5;241m=\u001b[39m plot_structure(\n\u001b[1;32m      3\u001b[0m     sm2, \n\u001b[1;32m      4\u001b[0m     all_node_attributes\u001b[38;5;241m=\u001b[39mNODE_STYLE\u001b[38;5;241m.\u001b[39mWEAK,\n\u001b[1;32m      5\u001b[0m     all_edge_attributes\u001b[38;5;241m=\u001b[39mEDGE_STYLE\u001b[38;5;241m.\u001b[39mWEAK,\n\u001b[1;32m      6\u001b[0m )\n\u001b[1;32m      7\u001b[0m \u001b[38;5;28;01mwith\u001b[39;00m \u001b[38;5;28mopen\u001b[39m(\u001b[38;5;124m'\u001b[39m\u001b[38;5;124msm2-graph.html\u001b[39m\u001b[38;5;124m'\u001b[39m, \u001b[38;5;124m'\u001b[39m\u001b[38;5;124mw\u001b[39m\u001b[38;5;124m'\u001b[39m) \u001b[38;5;28;01mas\u001b[39;00m file:\n",
      "File \u001b[0;32m/pfs/data5/home/ma/ma_ma/ma_mskiera/master-thesis/causalnex/lib/python3.9/site-packages/causalnex/structure/structuremodel.py:242\u001b[0m, in \u001b[0;36mStructureModel.remove_edges_below_threshold\u001b[0;34m(self, threshold)\u001b[0m\n\u001b[1;32m    234\u001b[0m \u001b[38;5;28;01mdef\u001b[39;00m \u001b[38;5;21mremove_edges_below_threshold\u001b[39m(\u001b[38;5;28mself\u001b[39m, threshold: \u001b[38;5;28mfloat\u001b[39m):\n\u001b[1;32m    235\u001b[0m \u001b[38;5;250m    \u001b[39m\u001b[38;5;124;03m\"\"\"\u001b[39;00m\n\u001b[1;32m    236\u001b[0m \u001b[38;5;124;03m    Remove edges whose absolute weights are less than a defined threshold.\u001b[39;00m\n\u001b[1;32m    237\u001b[0m \n\u001b[1;32m    238\u001b[0m \u001b[38;5;124;03m    Args:\u001b[39;00m\n\u001b[1;32m    239\u001b[0m \u001b[38;5;124;03m        threshold: edges whose absolute weight is less than this value are removed.\u001b[39;00m\n\u001b[1;32m    240\u001b[0m \u001b[38;5;124;03m    \"\"\"\u001b[39;00m\n\u001b[1;32m    241\u001b[0m     \u001b[38;5;28mself\u001b[39m\u001b[38;5;241m.\u001b[39mremove_edges_from(\n\u001b[0;32m--> 242\u001b[0m         [(u, v) \u001b[38;5;28;01mfor\u001b[39;00m u, v, w \u001b[38;5;129;01min\u001b[39;00m \u001b[38;5;28mself\u001b[39m\u001b[38;5;241m.\u001b[39medges(data\u001b[38;5;241m=\u001b[39m\u001b[38;5;124m\"\u001b[39m\u001b[38;5;124mweight\u001b[39m\u001b[38;5;124m\"\u001b[39m) \u001b[38;5;28;01mif\u001b[39;00m np\u001b[38;5;241m.\u001b[39mabs(w) \u001b[38;5;241m<\u001b[39m threshold]\n\u001b[1;32m    243\u001b[0m     )\n",
      "File \u001b[0;32m/pfs/data5/home/ma/ma_ma/ma_mskiera/master-thesis/causalnex/lib/python3.9/site-packages/causalnex/structure/structuremodel.py:242\u001b[0m, in \u001b[0;36m<listcomp>\u001b[0;34m(.0)\u001b[0m\n\u001b[1;32m    234\u001b[0m \u001b[38;5;28;01mdef\u001b[39;00m \u001b[38;5;21mremove_edges_below_threshold\u001b[39m(\u001b[38;5;28mself\u001b[39m, threshold: \u001b[38;5;28mfloat\u001b[39m):\n\u001b[1;32m    235\u001b[0m \u001b[38;5;250m    \u001b[39m\u001b[38;5;124;03m\"\"\"\u001b[39;00m\n\u001b[1;32m    236\u001b[0m \u001b[38;5;124;03m    Remove edges whose absolute weights are less than a defined threshold.\u001b[39;00m\n\u001b[1;32m    237\u001b[0m \n\u001b[1;32m    238\u001b[0m \u001b[38;5;124;03m    Args:\u001b[39;00m\n\u001b[1;32m    239\u001b[0m \u001b[38;5;124;03m        threshold: edges whose absolute weight is less than this value are removed.\u001b[39;00m\n\u001b[1;32m    240\u001b[0m \u001b[38;5;124;03m    \"\"\"\u001b[39;00m\n\u001b[1;32m    241\u001b[0m     \u001b[38;5;28mself\u001b[39m\u001b[38;5;241m.\u001b[39mremove_edges_from(\n\u001b[0;32m--> 242\u001b[0m         [(u, v) \u001b[38;5;28;01mfor\u001b[39;00m u, v, w \u001b[38;5;129;01min\u001b[39;00m \u001b[38;5;28mself\u001b[39m\u001b[38;5;241m.\u001b[39medges(data\u001b[38;5;241m=\u001b[39m\u001b[38;5;124m\"\u001b[39m\u001b[38;5;124mweight\u001b[39m\u001b[38;5;124m\"\u001b[39m) \u001b[38;5;28;01mif\u001b[39;00m \u001b[43mnp\u001b[49m\u001b[38;5;241;43m.\u001b[39;49m\u001b[43mabs\u001b[49m\u001b[43m(\u001b[49m\u001b[43mw\u001b[49m\u001b[43m)\u001b[49m \u001b[38;5;241m<\u001b[39m threshold]\n\u001b[1;32m    243\u001b[0m     )\n",
      "\u001b[0;31mTypeError\u001b[0m: bad operand type for abs(): 'NoneType'"
     ]
    }
   ],
   "source": [
    "sm2 = sm.remove_edges_below_threshold(0.0)\n",
    "viz = plot_structure(\n",
    "    sm2, \n",
    "    all_node_attributes=NODE_STYLE.WEAK,\n",
    "    all_edge_attributes=EDGE_STYLE.WEAK,\n",
    ")\n",
    "with open('sm2-graph.html', 'w') as file:\n",
    "    file.write(sm2)\n",
    "viz.show(\"sm2.html\")"
   ]
  },
  {
   "cell_type": "code",
   "execution_count": 67,
   "id": "d03e38f6-c85f-47a0-ab52-e928a041e512",
   "metadata": {},
   "outputs": [
    {
     "ename": "ValueError",
     "evalue": "Node names and attributes should not contain \":\" unless they are quoted with \"\".                For example the string 'attribute:data1' should be written as '\"attribute:data1\"'.                Please refer https://github.com/pydot/pydot/issues/258",
     "output_type": "error",
     "traceback": [
      "\u001b[0;31m---------------------------------------------------------------------------\u001b[0m",
      "\u001b[0;31mValueError\u001b[0m                                Traceback (most recent call last)",
      "Cell \u001b[0;32mIn[67], line 2\u001b[0m\n\u001b[1;32m      1\u001b[0m \u001b[38;5;28;01mimport\u001b[39;00m \u001b[38;5;21;01mnetworkx\u001b[39;00m \u001b[38;5;28;01mas\u001b[39;00m \u001b[38;5;21;01mnx\u001b[39;00m\n\u001b[0;32m----> 2\u001b[0m \u001b[43mnx\u001b[49m\u001b[38;5;241;43m.\u001b[39;49m\u001b[43mdrawing\u001b[49m\u001b[38;5;241;43m.\u001b[39;49m\u001b[43mnx_pydot\u001b[49m\u001b[38;5;241;43m.\u001b[39;49m\u001b[43mwrite_dot\u001b[49m\u001b[43m(\u001b[49m\u001b[43msm\u001b[49m\u001b[43m,\u001b[49m\u001b[43m \u001b[49m\u001b[38;5;124;43m'\u001b[39;49m\u001b[38;5;124;43mgraph.dot\u001b[39;49m\u001b[38;5;124;43m'\u001b[39;49m\u001b[43m)\u001b[49m\n",
      "File \u001b[0;32m<class 'networkx.utils.decorators.argmap'> compilation 9:5\u001b[0m, in \u001b[0;36margmap_write_dot_5\u001b[0;34m(G, path)\u001b[0m\n\u001b[1;32m      3\u001b[0m \u001b[38;5;28;01mimport\u001b[39;00m \u001b[38;5;21;01mgzip\u001b[39;00m\n\u001b[1;32m      4\u001b[0m \u001b[38;5;28;01mimport\u001b[39;00m \u001b[38;5;21;01minspect\u001b[39;00m\n\u001b[0;32m----> 5\u001b[0m \u001b[38;5;28;01mimport\u001b[39;00m \u001b[38;5;21;01mitertools\u001b[39;00m\n\u001b[1;32m      6\u001b[0m \u001b[38;5;28;01mimport\u001b[39;00m \u001b[38;5;21;01mre\u001b[39;00m\n\u001b[1;32m      7\u001b[0m \u001b[38;5;28;01mimport\u001b[39;00m \u001b[38;5;21;01mwarnings\u001b[39;00m\n",
      "File \u001b[0;32m/pfs/data5/home/ma/ma_ma/ma_mskiera/master-thesis/causalnex/lib/python3.9/site-packages/networkx/drawing/nx_pydot.py:51\u001b[0m, in \u001b[0;36mwrite_dot\u001b[0;34m(G, path)\u001b[0m\n\u001b[1;32m     44\u001b[0m msg \u001b[38;5;241m=\u001b[39m (\n\u001b[1;32m     45\u001b[0m     \u001b[38;5;124m\"\u001b[39m\u001b[38;5;124mnx.nx_pydot.write_dot depends on the pydot package, which has \u001b[39m\u001b[38;5;124m\"\u001b[39m\n\u001b[1;32m     46\u001b[0m     \u001b[38;5;124m\"\u001b[39m\u001b[38;5;124mknown issues and is not actively maintained. Consider using \u001b[39m\u001b[38;5;124m\"\u001b[39m\n\u001b[1;32m     47\u001b[0m     \u001b[38;5;124m\"\u001b[39m\u001b[38;5;124mnx.nx_agraph.write_dot instead.\u001b[39m\u001b[38;5;130;01m\\n\u001b[39;00m\u001b[38;5;130;01m\\n\u001b[39;00m\u001b[38;5;124m\"\u001b[39m\n\u001b[1;32m     48\u001b[0m     \u001b[38;5;124m\"\u001b[39m\u001b[38;5;124mSee https://github.com/networkx/networkx/issues/5723\u001b[39m\u001b[38;5;124m\"\u001b[39m\n\u001b[1;32m     49\u001b[0m )\n\u001b[1;32m     50\u001b[0m warnings\u001b[38;5;241m.\u001b[39mwarn(msg, \u001b[38;5;167;01mDeprecationWarning\u001b[39;00m, stacklevel\u001b[38;5;241m=\u001b[39m\u001b[38;5;241m2\u001b[39m)\n\u001b[0;32m---> 51\u001b[0m P \u001b[38;5;241m=\u001b[39m \u001b[43mto_pydot\u001b[49m\u001b[43m(\u001b[49m\u001b[43mG\u001b[49m\u001b[43m)\u001b[49m\n\u001b[1;32m     52\u001b[0m path\u001b[38;5;241m.\u001b[39mwrite(P\u001b[38;5;241m.\u001b[39mto_string())\n\u001b[1;32m     53\u001b[0m \u001b[38;5;28;01mreturn\u001b[39;00m\n",
      "File \u001b[0;32m/pfs/data5/home/ma/ma_ma/ma_mskiera/master-thesis/causalnex/lib/python3.9/site-packages/networkx/drawing/nx_pydot.py:265\u001b[0m, in \u001b[0;36mto_pydot\u001b[0;34m(N)\u001b[0m\n\u001b[1;32m    258\u001b[0m raise_error \u001b[38;5;241m=\u001b[39m _check_colon_quotes(n) \u001b[38;5;129;01mor\u001b[39;00m (\n\u001b[1;32m    259\u001b[0m     \u001b[38;5;28many\u001b[39m(\n\u001b[1;32m    260\u001b[0m         (_check_colon_quotes(k) \u001b[38;5;129;01mor\u001b[39;00m _check_colon_quotes(v))\n\u001b[1;32m    261\u001b[0m         \u001b[38;5;28;01mfor\u001b[39;00m k, v \u001b[38;5;129;01min\u001b[39;00m str_nodedata\u001b[38;5;241m.\u001b[39mitems()\n\u001b[1;32m    262\u001b[0m     )\n\u001b[1;32m    263\u001b[0m )\n\u001b[1;32m    264\u001b[0m \u001b[38;5;28;01mif\u001b[39;00m raise_error:\n\u001b[0;32m--> 265\u001b[0m     \u001b[38;5;28;01mraise\u001b[39;00m \u001b[38;5;167;01mValueError\u001b[39;00m(\n\u001b[1;32m    266\u001b[0m         \u001b[38;5;124mf\u001b[39m\u001b[38;5;124m'\u001b[39m\u001b[38;5;124mNode names and attributes should not contain \u001b[39m\u001b[38;5;124m\"\u001b[39m\u001b[38;5;124m:\u001b[39m\u001b[38;5;124m\"\u001b[39m\u001b[38;5;124m unless they are quoted with \u001b[39m\u001b[38;5;124m\"\u001b[39m\u001b[38;5;124m\"\u001b[39m\u001b[38;5;124m.\u001b[39m\u001b[38;5;130;01m\\\u001b[39;00m\n\u001b[1;32m    267\u001b[0m \u001b[38;5;124m        For example the string \u001b[39m\u001b[38;5;130;01m\\'\u001b[39;00m\u001b[38;5;124mattribute:data1\u001b[39m\u001b[38;5;130;01m\\'\u001b[39;00m\u001b[38;5;124m should be written as \u001b[39m\u001b[38;5;130;01m\\'\u001b[39;00m\u001b[38;5;124m\"\u001b[39m\u001b[38;5;124mattribute:data1\u001b[39m\u001b[38;5;124m\"\u001b[39m\u001b[38;5;130;01m\\'\u001b[39;00m\u001b[38;5;124m.\u001b[39m\u001b[38;5;130;01m\\\u001b[39;00m\n\u001b[1;32m    268\u001b[0m \u001b[38;5;124m        Please refer https://github.com/pydot/pydot/issues/258\u001b[39m\u001b[38;5;124m'\u001b[39m\n\u001b[1;32m    269\u001b[0m     )\n\u001b[1;32m    270\u001b[0m p \u001b[38;5;241m=\u001b[39m pydot\u001b[38;5;241m.\u001b[39mNode(n, \u001b[38;5;241m*\u001b[39m\u001b[38;5;241m*\u001b[39mstr_nodedata)\n\u001b[1;32m    271\u001b[0m P\u001b[38;5;241m.\u001b[39madd_node(p)\n",
      "\u001b[0;31mValueError\u001b[0m: Node names and attributes should not contain \":\" unless they are quoted with \"\".                For example the string 'attribute:data1' should be written as '\"attribute:data1\"'.                Please refer https://github.com/pydot/pydot/issues/258"
     ]
    }
   ],
   "source": [
    "import networkx as nx\n",
    "nx.drawing.nx_pydot.write_dot(sm, 'graph.dot')"
   ]
  },
  {
   "cell_type": "code",
   "execution_count": null,
   "id": "e9c740d3-5682-4c30-8f78-edcd79ea8b03",
   "metadata": {},
   "outputs": [],
   "source": []
  }
 ],
 "metadata": {
  "kernelspec": {
   "display_name": "causalnex",
   "language": "python",
   "name": "causalnex"
  },
  "language_info": {
   "codemirror_mode": {
    "name": "ipython",
    "version": 3
   },
   "file_extension": ".py",
   "mimetype": "text/x-python",
   "name": "python",
   "nbconvert_exporter": "python",
   "pygments_lexer": "ipython3",
   "version": "3.9.7"
  }
 },
 "nbformat": 4,
 "nbformat_minor": 5
}
