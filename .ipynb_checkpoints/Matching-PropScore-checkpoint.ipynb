{
 "cells": [
  {
   "cell_type": "code",
   "execution_count": 1,
   "id": "3b8040dd-782c-46cf-ac7f-6aa3320d7bc2",
   "metadata": {},
   "outputs": [],
   "source": [
    "from causality.estimation.parametric import PropensityScoreMatching\n",
    "import pandas as pd"
   ]
  },
  {
   "cell_type": "code",
   "execution_count": 2,
   "id": "dd5bca6a-ce31-48d6-a4ed-680724a120ae",
   "metadata": {},
   "outputs": [],
   "source": [
    "df = pd.read_csv(\"bpi2017_final.csv\")"
   ]
  },
  {
   "cell_type": "code",
   "execution_count": 3,
   "id": "b740f860-fe6d-4fbd-ad44-7ab557777711",
   "metadata": {},
   "outputs": [],
   "source": [
    "dict = {'case:LoanGoal': 'u', 'case:ApplicationType': 'u', 'case:RequestedAmount': 'c', 'FirstWithdrawalAmount': 'c', 'NumberOfTerms': 'o', 'MonthlyCost': 'c', 'CreditScore': 'c', 'OfferedAmount': 'c', 'timeApplication': 'c', 'weekdayApplication': 'o'}"
   ]
  },
  {
   "cell_type": "code",
   "execution_count": 5,
   "id": "a141ac17-ac78-4e8c-bf10-0c558c9670c2",
   "metadata": {},
   "outputs": [],
   "source": [
    "matcher = PropensityScoreMatching()"
   ]
  },
  {
   "cell_type": "code",
   "execution_count": null,
   "id": "ee8b2cf7-6e3b-4d47-ba02-0c210697b54a",
   "metadata": {},
   "outputs": [
    {
     "name": "stdout",
     "output_type": "stream",
     "text": [
      "Optimization terminated successfully.\n",
      "         Current function value: 0.367106\n",
      "         Iterations 7\n"
     ]
    }
   ],
   "source": [
    "matcher.estimate_ATE(df, 'treatmentOffer', 'offerSuccess', {'case:LoanGoal': 'u', 'case:ApplicationType': 'u', 'case:RequestedAmount': 'c', 'FirstWithdrawalAmount': 'c', 'NumberOfTerms': 'o', 'MonthlyCost': 'c', 'CreditScore': 'c', 'OfferedAmount': 'c', 'timeApplication': 'c', 'weekdayApplication': 'o'})"
   ]
  },
  {
   "cell_type": "code",
   "execution_count": null,
   "id": "b9721886-de1e-49fa-a53b-e645236ad7d9",
   "metadata": {},
   "outputs": [],
   "source": [
    "matcher.check_support(df, 'treatmentOffer', 'offerSuccess', {'case:LoanGoal': 'u', 'case:ApplicationType': 'u', 'case:RequestedAmount': 'c', 'FirstWithdrawalAmount': 'c', 'NumberOfTerms': 'o', 'MonthlyCost': 'c', 'CreditScore': 'c', 'OfferedAmount': 'c', 'timeApplication': 'c', 'weekdayApplication': 'o'})"
   ]
  },
  {
   "cell_type": "code",
   "execution_count": null,
   "id": "0b9c315d-fa94-4e7b-a856-5892e3fe2add",
   "metadata": {},
   "outputs": [],
   "source": [
    "matcher.assess_balance(df, 'treatmentOffer', 'offerSuccess', {'case:LoanGoal': 'u', 'case:ApplicationType': 'u', 'case:RequestedAmount': 'c', 'FirstWithdrawalAmount': 'c', 'NumberOfTerms': 'o', 'MonthlyCost': 'c', 'CreditScore': 'c', 'OfferedAmount': 'c', 'timeApplication': 'c', 'weekdayApplication': 'o'})"
   ]
  }
 ],
 "metadata": {
  "kernelspec": {
   "display_name": "matching",
   "language": "python",
   "name": "matching"
  },
  "language_info": {
   "codemirror_mode": {
    "name": "ipython",
    "version": 3
   },
   "file_extension": ".py",
   "mimetype": "text/x-python",
   "name": "python",
   "nbconvert_exporter": "python",
   "pygments_lexer": "ipython3",
   "version": "3.9.7"
  }
 },
 "nbformat": 4,
 "nbformat_minor": 5
}
