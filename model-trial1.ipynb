{
 "cells": [
  {
   "cell_type": "code",
   "execution_count": null,
   "metadata": {},
   "outputs": [],
   "source": [
    "!pip install git+https://github.com/microsoft/dowhy.git"
   ]
  },
  {
   "cell_type": "code",
   "execution_count": null,
   "metadata": {},
   "outputs": [],
   "source": [
    "import numpy as np\n",
    "import pandas as pd\n",
    "import dowhy"
   ]
  },
  {
   "cell_type": "code",
   "execution_count": null,
   "metadata": {},
   "outputs": [],
   "source": [
    "df = pd.read_csv(\"bpi2017_enhancedData.csv\")"
   ]
  },
  {
   "cell_type": "code",
   "execution_count": null,
   "metadata": {},
   "outputs": [],
   "source": [
    "digraph {treatment->successful; CreditScore-> treatment; OfferedAmount-> successful; NumberOfTerms-> successful; MonthlyCost-> successful;}"
   ]
  },
  {
   "cell_type": "code",
   "execution_count": null,
   "metadata": {},
   "outputs": [],
   "source": [
    "model=CausalModel(\n",
    "        data = df,\n",
    "        treatment=data['treatment_name'],\n",
    "        outcome=data['outcome_name'],\n",
    "        graph=data['gml_graph'\n",
    "        )"
   ]
  },
  {
   "cell_type": "code",
   "execution_count": null,
   "metadata": {},
   "outputs": [],
   "source": [
    "# Run a linear regression of column successful on treatment in df\n",
    "import statsmodels.api as sm\n",
    "\n",
    "X = df['treatment'].astype(str)\n",
    "y = df['successful'].astype(int)\n",
    "\n",
    "X = sm.add_constant(X)\n",
    "\n",
    "ols = sm.OLS(y, X).fit()\n",
    "\n",
    "# Display a more parsimonious results summary\n",
    "print(ols.summary().tables[1])"
   ]
  },
  {
   "cell_type": "code",
   "execution_count": null,
   "metadata": {},
   "outputs": [],
   "source": [
    "# Check whether causal effect is identified and return target estimands\n",
    "identified_estimand = model.identify_effect()"
   ]
  },
  {
   "cell_type": "code",
   "execution_count": null,
   "metadata": {},
   "outputs": [],
   "source": [
    "# Estimate the causal effect using inverse probability weighting\n",
    "estimate = model.estimate_effect(identified_estimand, method_name=\"backdoor.propensity_score_weighting\")"
   ]
  },
  {
   "cell_type": "code",
   "execution_count": null,
   "metadata": {},
   "outputs": [],
   "source": [
    "# Check sensitivity of obtained estimate to unobserved confounders\n",
    "refute_results = model.refute_estimate(identified_estimand, estimate, method_name=\"add_unobserved_common_cause\")"
   ]
  }
 ],
 "metadata": {
  "kernelspec": {
   "display_name": "Python 3",
   "language": "python",
   "name": "python3"
  },
  "language_info": {
   "name": "python",
   "version": "3.10.11"
  }
 },
 "nbformat": 4,
 "nbformat_minor": 2
}
